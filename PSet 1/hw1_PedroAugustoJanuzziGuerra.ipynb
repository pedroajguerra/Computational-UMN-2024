{
 "cells": [
  {
   "cell_type": "markdown",
   "metadata": {},
   "source": [
    "# Homework 1 - Advanced Topics in Macroeconomics\n",
    "Pedro Augusto Januzzi Guerra"
   ]
  },
  {
   "cell_type": "markdown",
   "metadata": {},
   "source": [
    "# Questions:\n",
    "\n",
    "1. Write a function/subroutine with\n",
    "\n",
    "- Inputs:\n",
    "\n",
    "    - x = n dimensional real vector\n",
    "    - f = scalar real function of x\n",
    "\n",
    "- Outputs:\n",
    "\n",
    "    - J = n dimensional real Jacobian vector with elements $\\partial f(x)/\\partial x_i$\n",
    "    - H = n x n dimensional real Hessian matrix with elements $\\partial^2 f(x)/\\partial x_i\\partial x_j$\n",
    "\n",
    "\n",
    "2. Write a function/subroutine (as in McGrattan(1990)) with:\n",
    "\n",
    "- Inputs:\n",
    "    - A,B,C,Q,R,W (from LQ problem)\n",
    "- Outputs:\n",
    "    - F,P (summarizing policy and value functions)\n",
    "\n",
    "3. (Optional) Compute the equilibrium decision functions and value functions for McGrattan, Rogerson, and Wright (1997).\n",
    "\n"
   ]
  },
  {
   "cell_type": "code",
   "execution_count": 3,
   "metadata": {},
   "outputs": [],
   "source": [
    "# Packages used\n",
    "using ForwardDiff, LinearAlgebra, PrettyTables"
   ]
  },
  {
   "cell_type": "code",
   "execution_count": null,
   "metadata": {},
   "outputs": [],
   "source": [
    "#= PS: Ellen said that the linear quadratic approximation is useful around the steady-state. \n",
    "This is important, since it won't be useful for cases with a lot of wiggles. =#"
   ]
  },
  {
   "cell_type": "markdown",
   "metadata": {},
   "source": [
    "---\n",
    "# Question 1"
   ]
  },
  {
   "cell_type": "markdown",
   "metadata": {},
   "source": [
    "The following function takes two inputs: a function $f:\\mathbb{R}^n \\rightarrow \\mathbb{R}$ and an $n$-dimensional vector $x$. It then computes the $n$-dimensional real Jacobian vector and the $n$ x $n$ dimensional real Hessian matrix."
   ]
  },
  {
   "cell_type": "code",
   "execution_count": 4,
   "metadata": {},
   "outputs": [
    {
     "data": {
      "text/plain": [
       "derivatives (generic function with 1 method)"
      ]
     },
     "metadata": {},
     "output_type": "display_data"
    }
   ],
   "source": [
    "function derivatives(f,x) \n",
    "    # Function take x and f as inputs; the output is the Jacobian (actually, the gradient, since it's a scalar real function) and Hessian matrices.\n",
    "   \n",
    "    # Since f is a scalar real value function, using ForwardDiff.jacobian is not appropriate, since it expects a vector of functions.\n",
    "    J = ForwardDiff.gradient(f, x) \n",
    "    H = ForwardDiff.hessian(f, x)\n",
    "\n",
    "    return J,H\n",
    "end"
   ]
  },
  {
   "cell_type": "markdown",
   "metadata": {},
   "source": [
    "Let's test the function above using a simple example. Function $g$ is such that $g:\\mathbb{R}^2 \\rightarrow \\mathbb{R}$."
   ]
  },
  {
   "cell_type": "code",
   "execution_count": 5,
   "metadata": {},
   "outputs": [
    {
     "name": "stdout",
     "output_type": "stream",
     "text": [
      "Gradient (Jacobian): [3.0, 3.0]\n",
      "\n",
      "Hessian: [6.0 0.0; 0.0 6.0]\n"
     ]
    }
   ],
   "source": [
    "# Create g:\n",
    "g(z) = z[1]^3+z[2]^3\n",
    "\n",
    "# Choose a 2-dimensional vector:\n",
    "y = [1,1];\n",
    "\n",
    "# Compute the Jacobian and Hessian:\n",
    "out = derivatives(g,y);\n",
    "\n",
    "# Print the results:\n",
    "println(\"Gradient (Jacobian): \", out[1])\n",
    "println(\"\\nHessian: \", out[2])"
   ]
  },
  {
   "cell_type": "markdown",
   "metadata": {},
   "source": [
    "# Question 2 - Direct Iteration"
   ]
  },
  {
   "cell_type": "markdown",
   "metadata": {},
   "source": [
    "The following function takes $A,B,C,Q,R,W,\\beta$ as inputs and produces $F,P$ as outputs using Direct Iteration. Note that while $\\beta$ is not listed as an input in the Homework, it is necessary for performing some transformations."
   ]
  },
  {
   "cell_type": "code",
   "execution_count": 5,
   "metadata": {},
   "outputs": [
    {
     "data": {
      "text/plain": [
       "getPF_di (generic function with 1 method)"
      ]
     },
     "metadata": {},
     "output_type": "display_data"
    }
   ],
   "source": [
    "function getPF_di(A,B,C,Q,R,W,β) \n",
    "\n",
    "    tA = sqrt(β)*(A-B*inv(R)*W'); #tA stands for ̃A; same holds for the transformations below\n",
    "    tB = sqrt(β)*B;\n",
    "    tQ = Q-W*inv(R)*W';\n",
    "\n",
    "    sizeA = size(A); # get the dimensions of matrix A\n",
    "    P_old = zeros(sizeA); # initial guess for Ricatti Matrix; note it is symmetric + negative semidefinite\n",
    "    P_new = P_old; # setting a new matrix that will store the updates for P\n",
    "    difP = 1; # initial value for the norm of the difference for P's iteration\n",
    "\n",
    "    difF = difP; # initial value for the norm of the difference for F's iteration\n",
    "    tF_old = inv(R + tB'*P_old*tB)*tB'*P_old*tA; # calculating an initial value for ̃F (tildeF); \n",
    "    # apparently, there's a typo in the paper, since the last ̃B should be transposed\n",
    "    tF_new = tF_old; # setting a new matrix that will store the updates for ̃F\n",
    "\n",
    "    # PS: Note that P_new stands for P_{n+1} while ̃F_new for ̃F_n.\n",
    "    \n",
    "    γ = 1e-8; # tolerance parameter γ. I'm setting γ ≡ γ_i ∀ i∈{1,2}\n",
    "    tolP = γ; # initial tolerance for P\n",
    "    tolF = tolP; # initial tolerance for ̃F\n",
    "\n",
    "    while difP > tolP || difF > tolF # that is, loop will stop only when both difP < tolP AND difF < tolF\n",
    "        tF_old = tF_new; # update F_old\n",
    "        P_old = P_new; # update P_old\n",
    "        P_new = tQ + tA'*P_old*tA - tA'*P_old*tB*inv(R + tB'*P_old*tB)*tB'*P_old*tA; # calculate P_new using step 1 from the paper\n",
    "        tF_new = inv(R + tB'*P_old*tB)*tB'*P_old*tA; # calculate tF_new using step 1 from the paper\n",
    "\n",
    "        difP = norm(P_new-P_old,Inf); # taking the supnorm\n",
    "        difF = norm(tF_new-tF_old,Inf); \n",
    "\n",
    "        tolP = γ*norm(P_old,Inf); # update tolerance for P\n",
    "        tolF = γ*norm(tF_old,Inf); # update tolerance for tF\n",
    "    end\n",
    "\n",
    "    P = P_new; # solution for P\n",
    "    F = tF_new + inv(R)*W'; # solution for F\n",
    "\n",
    "    return F,P\n",
    "end"
   ]
  },
  {
   "cell_type": "markdown",
   "metadata": {},
   "source": [
    "Let's test the function using the exercise in McGrattan(1990):"
   ]
  },
  {
   "cell_type": "code",
   "execution_count": 6,
   "metadata": {},
   "outputs": [],
   "source": [
    "# Parameters\n",
    "β = 0.95;\n",
    "τ = 0.5;\n",
    "α = 0.33;\n",
    "ρ = 0.95;\n",
    "kbar = (α*β/(1 - β))^(1/(1 - α));\n",
    "\n",
    "# Matrices\n",
    "A = [1 0 0; 0 1 0; 0 0 ρ];\n",
    "B = [1,0,0];\n",
    "C = [0 0 0; 0 0 0; 0 0 1];\n",
    "aux = zeros(3,3);\n",
    "aux[1,1] = (-τ*(α^2) + α^2 - α)/(kbar^2);\n",
    "aux[1,2] = (τ*(α^2) - α^2 + 2*α)/kbar;\n",
    "aux[1,3] = (α*(1 - τ))/kbar;\n",
    "aux[2,1] = (τ*(α^2) - α^2 + 2*α)/kbar;\n",
    "aux[2,2] = 2/(1 - τ) - 3*α + (α^2)*(1 - τ);\n",
    "aux[2,3] = 1 + α*τ - α;\n",
    "aux[3,1] = (α*(1 - τ))/kbar;\n",
    "aux[3,2] = 1 + α*τ - α;\n",
    "aux[3,3] = 1 - τ;\n",
    "Q = ((kbar^(α*(1 - τ)))/2)*aux;\n",
    "W = [α*τ*(kbar)^(-α*τ - 1),-(1+α*τ)*(kbar)^(-α*τ),τ*(kbar)^(-α*τ)]/2;\n",
    "R = (-τ*(kbar)^(-α*τ - α))/2;"
   ]
  },
  {
   "cell_type": "code",
   "execution_count": 7,
   "metadata": {},
   "outputs": [
    {
     "name": "stdout",
     "output_type": "stream",
     "text": [
      "\u001b[1mVector F\u001b[0m\n",
      "\u001b[33;1m=\u001b[0m\u001b[33;1m===\u001b[0m\u001b[33;1m \u001b[0m\u001b[33;1m========\u001b[0m\u001b[33;1m \u001b[0m\u001b[33;1m========\u001b[0m\u001b[33;1m \u001b[0m\u001b[33;1m=========\u001b[0m\u001b[33;1m=\u001b[0m\n",
      "\u001b[33;1m \u001b[0m\u001b[1m   \u001b[0m\u001b[33;1m \u001b[0m\u001b[1m      1 \u001b[0m\u001b[33;1m \u001b[0m\u001b[1m      2 \u001b[0m\u001b[33;1m \u001b[0m\u001b[1m       3 \u001b[0m\u001b[33;1m \u001b[0m\n",
      "\u001b[33;1m=\u001b[0m\u001b[33;1m===\u001b[0m\u001b[33;1m \u001b[0m\u001b[33;1m========\u001b[0m\u001b[33;1m \u001b[0m\u001b[33;1m========\u001b[0m\u001b[33;1m \u001b[0m\u001b[33;1m=========\u001b[0m\u001b[33;1m=\u001b[0m\n",
      "\u001b[33;1m \u001b[0m\u001b[1m 1 \u001b[0m\u001b[33;1m \u001b[0m 0.0765 \u001b[33;1m \u001b[0m -1.184 \u001b[33;1m \u001b[0m -1.8872 \u001b[33;1m \u001b[0m\n",
      "\u001b[33;1m=\u001b[0m\u001b[33;1m===\u001b[0m\u001b[33;1m \u001b[0m\u001b[33;1m========\u001b[0m\u001b[33;1m \u001b[0m\u001b[33;1m========\u001b[0m\u001b[33;1m \u001b[0m\u001b[33;1m=========\u001b[0m\u001b[33;1m=\u001b[0m\n",
      "\u001b[1m\n",
      " \n",
      "Matrix P\u001b[0m\n",
      "\u001b[33;1m=\u001b[0m\u001b[33;1m===\u001b[0m\u001b[33;1m \u001b[0m\u001b[33;1m=========\u001b[0m\u001b[33;1m \u001b[0m\u001b[33;1m=========\u001b[0m\u001b[33;1m \u001b[0m\u001b[33;1m=========\u001b[0m\u001b[33;1m=\u001b[0m\n",
      "\u001b[33;1m \u001b[0m\u001b[1m   \u001b[0m\u001b[33;1m \u001b[0m\u001b[1m       1 \u001b[0m\u001b[33;1m \u001b[0m\u001b[1m       2 \u001b[0m\u001b[33;1m \u001b[0m\u001b[1m       3 \u001b[0m\u001b[33;1m \u001b[0m\n",
      "\u001b[33;1m=\u001b[0m\u001b[33;1m===\u001b[0m\u001b[33;1m \u001b[0m\u001b[33;1m=========\u001b[0m\u001b[33;1m \u001b[0m\u001b[33;1m=========\u001b[0m\u001b[33;1m \u001b[0m\u001b[33;1m=========\u001b[0m\u001b[33;1m=\u001b[0m\n",
      "\u001b[33;1m \u001b[0m\u001b[1m 1 \u001b[0m\u001b[33;1m \u001b[0m -0.0095 \u001b[33;1m \u001b[0m  0.4816 \u001b[33;1m \u001b[0m -0.0228 \u001b[33;1m \u001b[0m\n",
      "\u001b[33;1m \u001b[0m\u001b[1m 2 \u001b[0m\u001b[33;1m \u001b[0m  0.4816 \u001b[33;1m \u001b[0m 50.2189 \u001b[33;1m \u001b[0m  8.4119 \u001b[33;1m \u001b[0m\n",
      "\u001b[33;1m \u001b[0m\u001b[1m 3 \u001b[0m\u001b[33;1m \u001b[0m -0.0228 \u001b[33;1m \u001b[0m  8.4119 \u001b[33;1m \u001b[0m  4.5879 \u001b[33;1m \u001b[0m\n",
      "\u001b[33;1m=\u001b[0m\u001b[33;1m===\u001b[0m\u001b[33;1m \u001b[0m\u001b[33;1m=========\u001b[0m\u001b[33;1m \u001b[0m\u001b[33;1m=========\u001b[0m\u001b[33;1m \u001b[0m\u001b[33;1m=========\u001b[0m\u001b[33;1m=\u001b[0m\n"
     ]
    }
   ],
   "source": [
    "time_di = @elapsed begin\n",
    "F_di,P_di = getPF_di(A,B,C,Q,R,W,β)\n",
    "end \n",
    "\n",
    "# Print the solution:\n",
    "pretty_table(round.(F_di;digits=4); header = [\"1\",\"2\",\"3\"],\n",
    "            title = \"Vector F\",row_labels = [\"1\"],\n",
    "            border_crayon = crayon\"bold yellow\",\n",
    "            tf = tf_simple)\n",
    "\n",
    "pretty_table(round.(P_di;digits=4); header = [\"1\",\"2\",\"3\"],\n",
    "            title = \"\\n \\nMatrix P\",\n",
    "            row_labels = [\"1\",\"2\",\"3\"],\n",
    "            border_crayon = crayon\"bold yellow\",\n",
    "            tf = tf_simple)"
   ]
  },
  {
   "cell_type": "markdown",
   "metadata": {},
   "source": [
    "# Question 2 - Vaughan's Algorithm"
   ]
  },
  {
   "cell_type": "markdown",
   "metadata": {},
   "source": [
    "The following function takes $A,B,C,Q,R,W,\\beta$ as inputs and produces $F,P$ as outputs using Vaughan's Algorithm. Note that while $\\beta$ is not listed as an input in the Homework, it is necessary for performing some transformations."
   ]
  },
  {
   "cell_type": "code",
   "execution_count": 15,
   "metadata": {},
   "outputs": [
    {
     "data": {
      "text/plain": [
       "getPF_va (generic function with 1 method)"
      ]
     },
     "metadata": {},
     "output_type": "display_data"
    }
   ],
   "source": [
    "function getPF_va(A,B,C,Q,R,W,β)\n",
    "    \n",
    "    tA = sqrt(β)*(A-B*inv(R)*W'); #tA stands for ̃A; same holds for the transformations below\n",
    "    tB = sqrt(β)*B;\n",
    "    tQ = Q-W*inv(R)*W';\n",
    "\n",
    "    # Construct elements that will be in the Hamiltonian matrix:\n",
    "    a11 = inv(tA);\n",
    "    a12 = inv(tA)*tB*inv(R)*tB';\n",
    "    a21 = tQ*inv(tA);\n",
    "    a22 = tQ*inv(tA)*tB*inv(R)*tB' + tA';\n",
    "\n",
    "    # Building the Hamiltonian matrix:\n",
    "    ha = [a11 a12;a21 a22];\n",
    "\n",
    "    # Get the eigenvalues and eigenvectors of the Hamiltonian matrix:\n",
    "    eg = eigen(ha); \n",
    "\n",
    "    # Sort eigenvalues in descending order (in case they are not automatically ordered in that way)\n",
    "    sort_idx = sortperm(eg.values, rev=true);\n",
    "\n",
    "    # Get the eigenvalues in descending order\n",
    "    sort_egval = eg.values[sort_idx];\n",
    "\n",
    "    # Get the eigenvectors corresponding to the eigenvalues that lie outside the unit circle\n",
    "    sort_egvec = eg.vectors[:, sort_idx];\n",
    "\n",
    "    rows = size(a11, 1);  # number of rows in a11\n",
    "    cols = size(a11, 2); # number of columns in a11\n",
    "\n",
    "    V11 = sort_egvec[1:rows, 1:cols]; # compute V_11        \n",
    "    V21 = sort_egvec[rows+1:end, 1:cols]; # compute V_21\n",
    "    \n",
    "    # Compute P and F\n",
    "    P = V21*inv(V11); # solution for P\n",
    "    F = inv(R .+ tB'*P*tB)*tB'*P*tA .+ inv(R)*W'; # solution for F\n",
    "\n",
    "    return F,P\n",
    "\n",
    "end"
   ]
  },
  {
   "cell_type": "markdown",
   "metadata": {},
   "source": [
    "Let's test the function using the exercise in McGrattan(1990):"
   ]
  },
  {
   "cell_type": "code",
   "execution_count": 22,
   "metadata": {},
   "outputs": [],
   "source": [
    "# Parameters\n",
    "β = 0.95;\n",
    "τ = 0.5;\n",
    "α = 0.33;\n",
    "ρ = 0.95;\n",
    "kbar = (α*β/(1 - β))^(1/(1 - α));\n",
    "\n",
    "# Matrices\n",
    "A = [1 0 0; 0 1 0; 0 0 ρ];\n",
    "B = [1,0,0];\n",
    "C = [0 0 0; 0 0 0; 0 0 1];\n",
    "aux = zeros(3,3);\n",
    "aux[1,1] = (-τ*(α^2) + α^2 - α)/(kbar^2);\n",
    "aux[1,2] = (τ*(α^2) - α^2 + 2*α)/kbar;\n",
    "aux[1,3] = (α*(1 - τ))/kbar;\n",
    "aux[2,1] = (τ*(α^2) - α^2 + 2*α)/kbar;\n",
    "aux[2,2] = 2/(1 - τ) - 3*α + (α^2)*(1 - τ);\n",
    "aux[2,3] = 1 + α*τ - α;\n",
    "aux[3,1] = (α*(1 - τ))/kbar;\n",
    "aux[3,2] = 1 + α*τ - α;\n",
    "aux[3,3] = 1 - τ;\n",
    "Q = ((kbar^(α*(1 - τ)))/2)*aux;\n",
    "W = [α*τ*(kbar)^(-α*τ - 1),-(1+α*τ)*(kbar)^(-α*τ),τ*(kbar)^(-α*τ)]/2;\n",
    "R = (-τ*(kbar)^(-α*τ - α))/2;"
   ]
  },
  {
   "cell_type": "code",
   "execution_count": 17,
   "metadata": {},
   "outputs": [
    {
     "name": "stdout",
     "output_type": "stream",
     "text": [
      "\u001b[1mVector F\u001b[0m\n",
      "\u001b[33;1m=\u001b[0m\u001b[33;1m========\u001b[0m\u001b[33;1m \u001b[0m\u001b[33;1m========\u001b[0m\u001b[33;1m \u001b[0m\u001b[33;1m=========\u001b[0m\u001b[33;1m=\u001b[0m\n",
      "\u001b[33;1m \u001b[0m\u001b[1m      1 \u001b[0m\u001b[33;1m \u001b[0m\u001b[1m      2 \u001b[0m\u001b[33;1m \u001b[0m\u001b[1m       3 \u001b[0m\u001b[33;1m \u001b[0m\n",
      "\u001b[33;1m=\u001b[0m\u001b[33;1m========\u001b[0m\u001b[33;1m \u001b[0m\u001b[33;1m========\u001b[0m\u001b[33;1m \u001b[0m\u001b[33;1m=========\u001b[0m\u001b[33;1m=\u001b[0m\n",
      "\u001b[33;1m \u001b[0m 0.0765 \u001b[33;1m \u001b[0m -1.184 \u001b[33;1m \u001b[0m -1.8872 \u001b[33;1m \u001b[0m\n",
      "\u001b[33;1m=\u001b[0m\u001b[33;1m========\u001b[0m\u001b[33;1m \u001b[0m\u001b[33;1m========\u001b[0m\u001b[33;1m \u001b[0m\u001b[33;1m=========\u001b[0m\u001b[33;1m=\u001b[0m\n",
      "\u001b[1m\n",
      " \n",
      " Matrix P\u001b[0m\n",
      "\u001b[33;1m=\u001b[0m\u001b[33;1m===\u001b[0m\u001b[33;1m \u001b[0m\u001b[33;1m=========\u001b[0m\u001b[33;1m \u001b[0m\u001b[33;1m=========\u001b[0m\u001b[33;1m \u001b[0m\u001b[33;1m=========\u001b[0m\u001b[33;1m=\u001b[0m\n",
      "\u001b[33;1m \u001b[0m\u001b[1m   \u001b[0m\u001b[33;1m \u001b[0m\u001b[1m       1 \u001b[0m\u001b[33;1m \u001b[0m\u001b[1m       2 \u001b[0m\u001b[33;1m \u001b[0m\u001b[1m       3 \u001b[0m\u001b[33;1m \u001b[0m\n",
      "\u001b[33;1m=\u001b[0m\u001b[33;1m===\u001b[0m\u001b[33;1m \u001b[0m\u001b[33;1m=========\u001b[0m\u001b[33;1m \u001b[0m\u001b[33;1m=========\u001b[0m\u001b[33;1m \u001b[0m\u001b[33;1m=========\u001b[0m\u001b[33;1m=\u001b[0m\n",
      "\u001b[33;1m \u001b[0m\u001b[1m 1 \u001b[0m\u001b[33;1m \u001b[0m -0.0095 \u001b[33;1m \u001b[0m  0.4816 \u001b[33;1m \u001b[0m -0.0228 \u001b[33;1m \u001b[0m\n",
      "\u001b[33;1m \u001b[0m\u001b[1m 2 \u001b[0m\u001b[33;1m \u001b[0m  0.4816 \u001b[33;1m \u001b[0m 50.2189 \u001b[33;1m \u001b[0m  8.4119 \u001b[33;1m \u001b[0m\n",
      "\u001b[33;1m \u001b[0m\u001b[1m 3 \u001b[0m\u001b[33;1m \u001b[0m -0.0228 \u001b[33;1m \u001b[0m  8.4119 \u001b[33;1m \u001b[0m  4.5879 \u001b[33;1m \u001b[0m\n",
      "\u001b[33;1m=\u001b[0m\u001b[33;1m===\u001b[0m\u001b[33;1m \u001b[0m\u001b[33;1m=========\u001b[0m\u001b[33;1m \u001b[0m\u001b[33;1m=========\u001b[0m\u001b[33;1m \u001b[0m\u001b[33;1m=========\u001b[0m\u001b[33;1m=\u001b[0m\n"
     ]
    }
   ],
   "source": [
    "time_va = @elapsed begin\n",
    "F_va,P_va = getPF_va(A,B,C,Q,R,W,β)\n",
    "end\n",
    "\n",
    "# Print the solution:\n",
    "pretty_table(round.(F_va;digits=4); header = [\"1\",\"2\",\"3\"],\n",
    "            title = \"Vector F\",\n",
    "            border_crayon = crayon\"bold yellow\",\n",
    "            tf = tf_simple)\n",
    "\n",
    "pretty_table(round.(P_va;digits=4); header = [\"1\",\"2\",\"3\"],\n",
    "            title = \"\\n \\n Matrix P\",\n",
    "            row_labels = [\"1\",\"2\",\"3\"],\n",
    "            border_crayon = crayon\"bold yellow\",\n",
    "            tf = tf_simple)"
   ]
  },
  {
   "cell_type": "markdown",
   "metadata": {},
   "source": [
    "It's useful to check whether the outputs from the Direct Iteration Method and Vaughan's Algorithm coincide. Computationally, it’s expected that the solutions will not be exactly the same, but they should be close. To compare the solutions, I use a tolerance of $10^{-6}$."
   ]
  },
  {
   "cell_type": "code",
   "execution_count": 14,
   "metadata": {},
   "outputs": [
    {
     "name": "stdout",
     "output_type": "stream",
     "text": [
      "Solution for Direct Iteration and Vaughan's Algorithm coincide.\n"
     ]
    }
   ],
   "source": [
    "if isapprox(F_di, F_va, rtol=1e-6) && isapprox(P_di, P_va, rtol=1e-6)\n",
    "    println(\"Solution for Direct Iteration and Vaughan's Algorithm coincide.\")\n",
    "else\n",
    "    println(\"Solutions for Direct Iteration and Vaughan's Algorithm are different.\")\n",
    "end"
   ]
  },
  {
   "cell_type": "markdown",
   "metadata": {},
   "source": [
    "Lastly, let's compare the time it took for each method to reach a solution:"
   ]
  },
  {
   "cell_type": "code",
   "execution_count": 15,
   "metadata": {},
   "outputs": [
    {
     "name": "stdout",
     "output_type": "stream",
     "text": [
      "Simulation via Direct Iteration: 1.2396 seconds.\n",
      "Simulation via Vaughan's Algorithm: 2.7167 seconds.\n",
      "Direct Iteration was approximately 2.19 times faster than Vaughan's Algorithm.\n"
     ]
    }
   ],
   "source": [
    "println(\"Simulation via Direct Iteration: $(round(time_di, digits=4)) seconds.\")\n",
    "println(\"Simulation via Vaughan's Algorithm: $(round(time_va, digits=4)) seconds.\")\n",
    "println(\"Direct Iteration was approximately $(round(time_va/time_di, digits=2)) times faster than Vaughan's Algorithm.\")"
   ]
  },
  {
   "cell_type": "markdown",
   "metadata": {},
   "source": [
    "As we can see above, although both algorithms quickly reach a solution, Direct Iteration was more efficient. This result surprised me for two reasons. First, matrix operations are typically computed faster than iterative methods. Second, this finding contrasts with the results reported in the paper.\n",
    "\n",
    "One possible explanation is that one of the functions I used in Vaughan's algorithm might be computationally demanding."
   ]
  }
 ],
 "metadata": {
  "kernelspec": {
   "display_name": "Julia 1.9.3",
   "language": "julia",
   "name": "julia-1.9"
  },
  "language_info": {
   "file_extension": ".jl",
   "mimetype": "application/julia",
   "name": "julia",
   "version": "1.9.3"
  }
 },
 "nbformat": 4,
 "nbformat_minor": 2
}
