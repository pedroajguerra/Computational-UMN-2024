{
 "cells": [
  {
   "cell_type": "markdown",
   "metadata": {},
   "source": [
    "# Homework 5\n",
    "Pedro Augusto Januzzi Guerra"
   ]
  },
  {
   "cell_type": "markdown",
   "metadata": {},
   "source": [
    "# Questions\n",
    "\n",
    "1. Use the finite element methods to solve an individual's optimal policy function for next period assets, $a_{t+1}:\n",
    "\n",
    "\\begin{align*}\n",
    "    \\max &\\mathbb{E}_0\\sum_{t=0}^\\infty \\beta^t[c_t^{1-\\mu}-1]/(1-\\mu)\\\\\n",
    "    \\text{s.t.} &c_t+a_{t+1} = wl_t + (1+r)a_t\\\\\n",
    "    & c_t \\geq 0, a_t\\geq 0\n",
    "\\end{align*}\n",
    "where $l_t$ is assumed to be iid and well approximated by a Markov chain. Assume the individual takes prices $w$ and $r$ as given.\n",
    "\n",
    "2. Solve for the general equilibrium prices assuming the aggregate production function is Cobb-Douglas in capital and labor. How do aggregate saving rates and equilibrium interest rates vary as you vary $\\mu$ and the properties of the Markov chain on $l_t$? Interpret the results.\n",
    "\n",
    "3. (Optional) Compare what you find in question 2 to Table I results in Aiyagari (1994)."
   ]
  },
  {
   "cell_type": "markdown",
   "metadata": {},
   "source": [
    "---\n",
    "As I did in Homework 4, I'll solve the problem using the Galerkin Method. Now, we have to solve an Aiyagari model. To that goal, I used the same sources cited in Homework 4 and the paper \"Uninsured Idiosyncratic Risk and Aggregate Saving\", written by Rao Aiyagari (1994). I also used Aiyagari (1993a), which has the same title as Aiyagari (1994), but has more details on the computational of the model\n",
    "\n",
    "I abstract from a detailed explanation on finite element methods as I've already done this in Homework 4."
   ]
  },
  {
   "cell_type": "markdown",
   "metadata": {},
   "source": [
    "---\n",
    "### Question 1\n",
    "We have a model where agents are heterogenous with respect to labor endowment. Those agents can invest in a unique asset and, since there is uncertainty, this means that they cannot fully insure against risks. Hence, we have an incomplete markets heterogenous agents model. \n",
    "\n",
    "The process for labor is assumed to be i.i.d and is well approximated by a Markov chain. We also assume a perfect competitive market, so agents take interest rates, $r$, and wages, $w$, as given."
   ]
  },
  {
   "cell_type": "markdown",
   "metadata": {},
   "source": [
    "Packages used:"
   ]
  },
  {
   "cell_type": "code",
   "execution_count": 1,
   "metadata": {},
   "outputs": [],
   "source": [
    "# Packages used\n",
    "using LinearAlgebra, Plots, Distributions, PrettyTables, NLsolve, ForwardDiff"
   ]
  },
  {
   "cell_type": "markdown",
   "metadata": {},
   "source": [
    "First, let's find a Markov chain that determines that transition probabilities of labor endowment. In Homework 4, uncertainty took place in form of TFP shocks that followed an AR(1) process. Since there was some persistence in this process, TFP shocks were not i.i.d.. In question 2, it's asked to change the properties of the Markov chain on $l_t$. Hence, I will create a funcion that generates a transition matrix and grid for labor endowments. For now, since we assume that labor endowments are i.i.d, I'll assume that labor follows an AR(1) process with $\\rho=0$, which implies that $$l_t = \\varepsilon_t, \\hspace{3mm}\\varepsilon_t\\overset{iid}{\\sim} N(0,\\sigma^2)$$ Since the labor realizations are iid, it means that all entries in the transition matrix should be equal. In question 2, I'll assume that $\\rho > 0$, which is one way to change the properties of the Markov chain, and check how the results change."
   ]
  },
  {
   "cell_type": "code",
   "execution_count": 2,
   "metadata": {},
   "outputs": [
    {
     "data": {
      "text/plain": [
       "Tauchen (generic function with 1 method)"
      ]
     },
     "metadata": {},
     "output_type": "display_data"
    }
   ],
   "source": [
    "function Tauchen(sigma, mu, pts, rho)\n",
    "    scale = 1;  # scale parameter\n",
    "    upper_bound = scale*sigma/sqrt(1 - rho^2); # note this is the same as in hw 4, but in this question rho=0\n",
    "    lower_bound = -upper_bound;\n",
    "    grid_l = LinRange(lower_bound, upper_bound, pts);\n",
    "\n",
    "    delta_l = (upper_bound - lower_bound) / (pts - 1)\n",
    "    P = zeros(pts, pts)\n",
    "    dist = Normal(mu, sigma)\n",
    "\n",
    "    for i = 1:pts\n",
    "        P[i,1] = cdf(dist, (grid_l[1] - (1 - rho) * mu .- rho * grid_l[i] + delta_l / 2))\n",
    "        P[i, end] = 1 - cdf(dist, (grid_l[end] - (1 - rho) * mu - rho * grid_l[i] - delta_l / 2))\n",
    "\n",
    "        for j = 2:(pts-1)\n",
    "            P[i,j] = cdf(dist, (grid_l[j] + delta_l / 2 - (1 - rho) * mu - rho * grid_l[i])) -\n",
    "                        cdf(dist, (grid_l[j] - delta_l / 2 - (1 - rho) * mu - rho * grid_l[i]))\n",
    "        end\n",
    "    end\n",
    "    grid_l = exp.(grid_l);\n",
    "\n",
    "    if rho == 0\n",
    "        grid_l = LinRange(0.3,1,pts);\n",
    "        P = ones(pts,pts)/pts;\n",
    "    end\n",
    "\n",
    "    return P, grid_l\n",
    "end"
   ]
  },
  {
   "cell_type": "markdown",
   "metadata": {},
   "source": [
    "Set parameter values:"
   ]
  },
  {
   "cell_type": "code",
   "execution_count": 3,
   "metadata": {},
   "outputs": [],
   "source": [
    "σ = 0.05;  # st dev of shocks\n",
    "mean = 0;   # mean of shocks\n",
    "N = 5;  # number of grid points\n",
    "ρ_1 = 0; # persistence for question 1\n",
    "\n",
    "# For question 1, I consider a linearly spaced grid between 0.3 and 1 in which probabilities are the same.\n",
    "# Compute transition matrix and grid for labor\n",
    "T, l_grid = Tauchen(σ,mean,N,ρ_1);"
   ]
  },
  {
   "cell_type": "code",
   "execution_count": 4,
   "metadata": {},
   "outputs": [
    {
     "name": "stdout",
     "output_type": "stream",
     "text": [
      "\u001b[1mGrid of labor endowments\u001b[0m\n",
      "\u001b[33;1m=\u001b[0m\u001b[33;1m=====\u001b[0m\u001b[33;1m \u001b[0m\u001b[33;1m=======\u001b[0m\u001b[33;1m \u001b[0m\u001b[33;1m======\u001b[0m\u001b[33;1m \u001b[0m\u001b[33;1m=======\u001b[0m\u001b[33;1m \u001b[0m\u001b[33;1m=====\u001b[0m\u001b[33;1m=\u001b[0m\n",
      "\u001b[33;1m \u001b[0m\u001b[1m   1 \u001b[0m\u001b[33;1m \u001b[0m\u001b[1m     2 \u001b[0m\u001b[33;1m \u001b[0m\u001b[1m    3 \u001b[0m\u001b[33;1m \u001b[0m\u001b[1m     4 \u001b[0m\u001b[33;1m \u001b[0m\u001b[1m   5 \u001b[0m\u001b[33;1m \u001b[0m\n",
      "\u001b[33;1m=\u001b[0m\u001b[33;1m=====\u001b[0m\u001b[33;1m \u001b[0m\u001b[33;1m=======\u001b[0m\u001b[33;1m \u001b[0m\u001b[33;1m======\u001b[0m\u001b[33;1m \u001b[0m\u001b[33;1m=======\u001b[0m\u001b[33;1m \u001b[0m\u001b[33;1m=====\u001b[0m\u001b[33;1m=\u001b[0m\n",
      "\u001b[33;1m \u001b[0m 0.3 \u001b[33;1m \u001b[0m 0.475 \u001b[33;1m \u001b[0m 0.65 \u001b[33;1m \u001b[0m 0.825 \u001b[33;1m \u001b[0m 1.0 \u001b[33;1m \u001b[0m\n",
      "\u001b[33;1m=\u001b[0m\u001b[33;1m=====\u001b[0m\u001b[33;1m \u001b[0m\u001b[33;1m=======\u001b[0m\u001b[33;1m \u001b[0m\u001b[33;1m======\u001b[0m\u001b[33;1m \u001b[0m\u001b[33;1m=======\u001b[0m\u001b[33;1m \u001b[0m\u001b[33;1m=====\u001b[0m\u001b[33;1m=\u001b[0m\n",
      "----------------------------------------------------------------------\n",
      "\u001b[1mTransition Matrix via Tauchen's Method\u001b[0m\n",
      "\u001b[33;1m=\u001b[0m\u001b[33;1m===\u001b[0m\u001b[33;1m \u001b[0m\u001b[33;1m=====\u001b[0m\u001b[33;1m \u001b[0m\u001b[33;1m=====\u001b[0m\u001b[33;1m \u001b[0m\u001b[33;1m=====\u001b[0m\u001b[33;1m \u001b[0m\u001b[33;1m=====\u001b[0m\u001b[33;1m \u001b[0m\u001b[33;1m=====\u001b[0m\u001b[33;1m=\u001b[0m\n",
      "\u001b[33;1m \u001b[0m\u001b[1m   \u001b[0m\u001b[33;1m \u001b[0m\u001b[1m   1 \u001b[0m\u001b[33;1m \u001b[0m\u001b[1m   2 \u001b[0m\u001b[33;1m \u001b[0m\u001b[1m   3 \u001b[0m\u001b[33;1m \u001b[0m\u001b[1m   4 \u001b[0m\u001b[33;1m \u001b[0m\u001b[1m   5 \u001b[0m\u001b[33;1m \u001b[0m\n",
      "\u001b[33;1m=\u001b[0m\u001b[33;1m===\u001b[0m\u001b[33;1m \u001b[0m\u001b[33;1m=====\u001b[0m\u001b[33;1m \u001b[0m\u001b[33;1m=====\u001b[0m\u001b[33;1m \u001b[0m\u001b[33;1m=====\u001b[0m\u001b[33;1m \u001b[0m\u001b[33;1m=====\u001b[0m\u001b[33;1m \u001b[0m\u001b[33;1m=====\u001b[0m\u001b[33;1m=\u001b[0m\n",
      "\u001b[33;1m \u001b[0m\u001b[1m 1 \u001b[0m\u001b[33;1m \u001b[0m 0.2 \u001b[33;1m \u001b[0m 0.2 \u001b[33;1m \u001b[0m 0.2 \u001b[33;1m \u001b[0m 0.2 \u001b[33;1m \u001b[0m 0.2 \u001b[33;1m \u001b[0m\n",
      "\u001b[33;1m \u001b[0m\u001b[1m 2 \u001b[0m\u001b[33;1m \u001b[0m 0.2 \u001b[33;1m \u001b[0m 0.2 \u001b[33;1m \u001b[0m 0.2 \u001b[33;1m \u001b[0m 0.2 \u001b[33;1m \u001b[0m 0.2 \u001b[33;1m \u001b[0m\n",
      "\u001b[33;1m \u001b[0m\u001b[1m 3 \u001b[0m\u001b[33;1m \u001b[0m 0.2 \u001b[33;1m \u001b[0m 0.2 \u001b[33;1m \u001b[0m 0.2 \u001b[33;1m \u001b[0m 0.2 \u001b[33;1m \u001b[0m 0.2 \u001b[33;1m \u001b[0m\n",
      "\u001b[33;1m \u001b[0m\u001b[1m 4 \u001b[0m\u001b[33;1m \u001b[0m 0.2 \u001b[33;1m \u001b[0m 0.2 \u001b[33;1m \u001b[0m 0.2 \u001b[33;1m \u001b[0m 0.2 \u001b[33;1m \u001b[0m 0.2 \u001b[33;1m \u001b[0m\n",
      "\u001b[33;1m \u001b[0m\u001b[1m 5 \u001b[0m\u001b[33;1m \u001b[0m 0.2 \u001b[33;1m \u001b[0m 0.2 \u001b[33;1m \u001b[0m 0.2 \u001b[33;1m \u001b[0m 0.2 \u001b[33;1m \u001b[0m 0.2 \u001b[33;1m \u001b[0m\n",
      "\u001b[33;1m=\u001b[0m\u001b[33;1m===\u001b[0m\u001b[33;1m \u001b[0m\u001b[33;1m=====\u001b[0m\u001b[33;1m \u001b[0m\u001b[33;1m=====\u001b[0m\u001b[33;1m \u001b[0m\u001b[33;1m=====\u001b[0m\u001b[33;1m \u001b[0m\u001b[33;1m=====\u001b[0m\u001b[33;1m \u001b[0m\u001b[33;1m=====\u001b[0m\u001b[33;1m=\u001b[0m\n"
     ]
    }
   ],
   "source": [
    "# Setting a table \n",
    "pretty_table(round.(l_grid';digits=4); header = [\"$i\" for i = 1:N],\n",
    "            title = \"Grid of labor endowments\",\n",
    "            border_crayon = crayon\"bold yellow\",\n",
    "            tf = tf_simple)\n",
    "\n",
    "println(\"-\"^70)  # separator = 70 dashes\n",
    "\n",
    "pretty_table(round.(T;digits=4); header = [\"$i\" for i = 1:N],\n",
    "            title = \"Transition Matrix via Tauchen's Method\",\n",
    "            row_labels = [\"$x\" for x = 1:N],\n",
    "            border_crayon = crayon\"bold yellow\",\n",
    "            tf = tf_simple)"
   ]
  },
  {
   "cell_type": "markdown",
   "metadata": {},
   "source": [
    "Note there is a constraint on investment. In Aiyagari (1994), the author defines $$\\phi = \\min\\Big\\{b,\\frac{wl_t}{r}\\Big\\}$$ where $b$ is some arbitrary parameter and $\\frac{wl_t}{r}$ is the natural borrowing limit. The constraint then is $a_t \\geq -\\phi$. In our question, $b=0$ and, since $w$ and $r$ will be fixed objects in the stationary equilibrium and $l_t$ doesn't assume negative values, it follows that $\\phi=0$.\n",
    "\n",
    "Moreover, Aiyagari defines $\\hat{a}_t = a_t + \\phi$ and $z_t = wl_t + (1+r)\\hat{a}_t - r\\phi$, where $z_t$ represents the total amount of resources available to the agent (cash-in-hand), so that the new budget constraint is given by $$c_t + \\hat{a}_{t+1} = z_t$$\n",
    "\n",
    "Note that, since in our example $\\phi=0$, this doesn't make a difference, but if $\\phi$ was greater than one, this transformation would indeed be useful.\n",
    "\n",
    "As advised during the lecture, I will use a penalty function to implement the constraint. Therefore, the problem can be redefined as follows: \n",
    "\n",
    "\\begin{align*}\n",
    " &\\mathbb{E}_0 \\sum_{t=0}^\\infty \\beta^t\\Bigg[\\frac{(z_t-\\hat{a}_{t+1})^{1-\\mu} - 1}{1-\\mu} + \\frac{\\gamma}{3}\\min(\\hat{a}_{t+1},\\phi)^3\\Bigg]\\\\[3pt] &\\text{s.t.}\\hspace{2mm} z_t = wl_t+(1+r)\\hat{a}_t - r\\phi \\hspace{2mm} \\forall t\n",
    "\\end{align*}\n",
    "\n",
    "whose FOC wrt $\\hat{a}_{t+1}$ is $$(z_t-\\hat{a}_{t+1})^{-\\mu} - \\gamma\\min(\\hat{a}_{t+1},0)^2 = (1+r)\\beta\\sum_{s_{t+1}}\\pi(s_{t+1})(z_{t+1}-\\hat{a}_{t+2})^{-\\mu}$$\n",
    "\n",
    "where I used $\\phi=0$. \n",
    "\n",
    "Note this is essentially the formula that Ellen wrote on the board.\n",
    "\n",
    "Our goal is to find an approximation for the policy function of savings using the same piecewise linear function as used in Hw 4: $$\\hat{a}(z,s) = \\sum_{i=1}^n \\theta_i\\psi_i(z)$$ where \n",
    "$$    \n",
    "\\psi_i(z) = \n",
    "\\begin{cases} \n",
    "\\frac{z - z_{i-1}}{z_i - z_{i-1}} & \\text{if } z \\in [z_{i-1}, z_i] \\\\ \n",
    "\\frac{z_{i+1} - z}{z_{i+1} - z_i} & \\text{if } z \\in [z_i, z_{i+1}] \\\\ \n",
    "0 & \\text{elsewhere}\n",
    "\\end{cases}\n",
    "$$\n",
    "\n",
    "As in the previous homework, we need to find optimal $\\theta$'s, in the sense of generating a good approximation for our savings' policy function, that is, our residual is sufficiently small. The residual function is given by: $$R(z,s,\\theta)=(z-\\hat{a}')^{-\\mu}-\\gamma\\min(\\hat{a}',0)^2 - (1+r)\\beta\\sum_{s'}\\pi(s')(z'-\\hat{a}'')^{-\\mu}$$\n",
    "\n",
    "The Galerkin method chooses $\\theta$'s so that $$\\int_{z_1}^{z_n} R(z,s;\\theta)\\psi_i(z)\\omega(z)dz=0\\hspace{3mm}\\forall i=1,...,n$$ in which $\\omega$ is some weighting function."
   ]
  },
  {
   "cell_type": "markdown",
   "metadata": {},
   "source": [
    "Let's define some parameters:"
   ]
  },
  {
   "cell_type": "code",
   "execution_count": 5,
   "metadata": {},
   "outputs": [],
   "source": [
    "β = 0.95; # discount factor\n",
    "δ = 0.04; # depreciation rate\n",
    "α = 0.33; # output elasticity of capital:: Cobb-Douglas\n",
    "μ_1 = 2; # relative risk aversion coefficient\n",
    "μ = μ_1;\n",
    "γ = 50000; # parameter for penalty function:::: it's a little of an overkill, could be smaller\n",
    "ϕ = 0; # borrowing constraint"
   ]
  },
  {
   "cell_type": "markdown",
   "metadata": {},
   "source": [
    "Note that we still have to find a grid for $a$. I set the lower bound of the grid to be equal to the borrowing limit. The upper bound of the grid was arbitrarily set to be equal to 4, but the code is robust to other values. "
   ]
  },
  {
   "cell_type": "markdown",
   "metadata": {},
   "source": [
    "Create grid for assets:"
   ]
  },
  {
   "cell_type": "code",
   "execution_count": 6,
   "metadata": {},
   "outputs": [],
   "source": [
    "a_lb = ϕ;\n",
    "a_ub = 4;\n",
    "n = 20;\n",
    "a_grid = LinRange(a_lb,a_ub,n);\n",
    "\n",
    "# Values for prices (guesses)\n",
    "r_max = (1/β)-1; # maximum interest rate\n",
    "r_g = 0.8*r_max; # guess for interest rate\n",
    "w_g = (1-α)*(α/(r_g+δ))^(α/(1-α)); # guess for wage"
   ]
  },
  {
   "cell_type": "markdown",
   "metadata": {},
   "source": [
    "Define functions:"
   ]
  },
  {
   "cell_type": "code",
   "execution_count": 7,
   "metadata": {},
   "outputs": [
    {
     "data": {
      "text/plain": [
       "nrm (generic function with 1 method)"
      ]
     },
     "metadata": {},
     "output_type": "display_data"
    }
   ],
   "source": [
    "# Psi function::: same idea as HW 4\n",
    "function psi(i,a,grid_a)\n",
    "    n = length(grid_a);\n",
    "    if i == 1\n",
    "        if a >= grid_a[i] && grid_a[i+1] >= a\n",
    "            ψ = (grid_a[i+1] - a)/(grid_a[i+1] - grid_a[i]);\n",
    "        else        \n",
    "            ψ = 0;\n",
    "        end\n",
    "        \n",
    "    elseif i == n   \n",
    "        if a >= grid_a[i-1] && grid_a[i] >= a    \n",
    "            ψ = (a - grid_a[i-1])/(grid_a[i] - grid_a[i-1]);\n",
    "        else        \n",
    "            ψ = 0;        \n",
    "        end\n",
    "        \n",
    "    else        \n",
    "        if a >= grid_a[i-1] && grid_a[i] >= a            \n",
    "            ψ = (a - grid_a[i-1])/(grid_a[i] - grid_a[i-1]);            \n",
    "        elseif a > grid_a[i] && grid_a[i+1] >= a\n",
    "            ψ = (grid_a[i+1] - a)/(grid_a[i+1] - grid_a[i]);           \n",
    "        else \n",
    "            ψ = 0;           \n",
    "        end        \n",
    "    end\n",
    "\n",
    "    return ψ\n",
    "end\n",
    "\n",
    "# Function to compute the assets for tomorrow\n",
    "function asset(θ,x,y)\n",
    "\n",
    "    idx_labor = findfirst(z -> z == y, l_grid); # get the index (position in the grid) in the of the labor endowment\n",
    "    \n",
    "    a = 0;\n",
    "    for i=1:n\n",
    "        a += θ[i,idx_labor]*psi(i,x,a_grid) # compute assets for tomorrow using the approximation\n",
    "    end\n",
    "   \n",
    "    return a\n",
    " end\n",
    "\n",
    " # Function to compute the residual\n",
    " function residuals(θ,k,l)\n",
    "\n",
    "    idx_labor = findfirst(z -> z==l,l_grid);\n",
    "    c(x,y) = w_g*y + (1+r_g)*x - asset(θ,x,y); # function that computes consumption today\n",
    "    aux1 = (c(k,l))^(-μ) - γ*min(asset(θ,k,l),0)^2; # first part of residual equation\n",
    "    aux2 = 0;\n",
    "    for i=1:N\n",
    "        aux2 += T[idx_labor,i]*(c(asset(θ,k,l),l_grid[i]))^(-μ); # second part of residual equation\n",
    "    end\n",
    "    # Residual\n",
    "    R = aux1 - β*(1+r_g)*aux2; # residual equation\n",
    "\n",
    "    return R\n",
    " end\n",
    "\n",
    "# Function to solve the integral using quadratures: credits to Ethan Cohen bc my function was not working\n",
    "function quadrature(f,start,endd,n)\n",
    "\n",
    "    d = n-1;\n",
    "    delta = (endd-start)/(n-1);\n",
    "    quad_pts = zeros(n);\n",
    "    quad_wght = zeros(n);\n",
    "    for i=1:n   \n",
    "        quad_pts[i] = start + (i-1)*delta;\n",
    "    end\n",
    "\n",
    "    quad_wght[1] = delta/2;\n",
    "    quad_wght[n] = delta/2;\n",
    "    \n",
    "    for i=2:d\n",
    "        quad_wght[i] = delta;\n",
    "    end\n",
    "\n",
    "    intt = 0;\n",
    "    for i=1:n\n",
    "        intt += quad_wght[i]*f(quad_pts[i]);\n",
    "    end\n",
    "\n",
    "    return intt\n",
    "end\n",
    "\n",
    "# Function to build the weighted integral:\n",
    "function weighted_integral(θ,i,j)\n",
    "    \n",
    "    sol = quadrature(x -> psi(i,x,a_grid)*residuals(θ,x,l_grid[j]),a_grid[1],a_grid[end],n); # galerkin \n",
    "\n",
    "    if sol == -Inf || isnan(sol)\n",
    "        return -100\n",
    "    else\n",
    "        return sol\n",
    "    end\n",
    "\n",
    "end\n",
    "\n",
    "# Function to compute optimal solution for θ using the newton-raphson method: credits to Ethan Cohen\n",
    "function nrm(G,θ;tol=1e-10,max_iter=40)\n",
    "\n",
    "    for iter in 1:max_iter\n",
    "\n",
    "        residual = abs(sum(G(θ)));\n",
    "\n",
    "        if residual <= tol\n",
    "            return θ;\n",
    "        end\n",
    "   \n",
    "        J = ForwardDiff.jacobian(G,θ);\n",
    "        θ = reshape(vec(θ) - inv(J) * vec(G(θ)), n, N);\n",
    "\n",
    "    end\n",
    "\n",
    "    if abs(sum(G(θ))) <= tol\n",
    "        return θ\n",
    "    elseif abs(sum(G(θ))) > tol\n",
    "        return θ\n",
    "    end\n",
    "\n",
    "end"
   ]
  },
  {
   "cell_type": "markdown",
   "metadata": {},
   "source": [
    "Create a function to compute the optimal $\\theta$:"
   ]
  },
  {
   "cell_type": "code",
   "execution_count": 8,
   "metadata": {},
   "outputs": [
    {
     "data": {
      "text/plain": [
       "#27 (generic function with 1 method)"
      ]
     },
     "metadata": {},
     "output_type": "display_data"
    }
   ],
   "source": [
    "root_fct = θ -> [weighted_integral(θ,i,j) for i in 1:n, j in 1:N]"
   ]
  },
  {
   "cell_type": "markdown",
   "metadata": {},
   "source": [
    "Initial guess for thetas:"
   ]
  },
  {
   "cell_type": "code",
   "execution_count": 9,
   "metadata": {},
   "outputs": [],
   "source": [
    "θ = zeros(n,N);\n",
    "for i=1:N\n",
    "    θ[:,i] = 0.35*(w_g*l_grid[i] .+ (1 + r_g)*a_grid);\n",
    "end"
   ]
  },
  {
   "cell_type": "markdown",
   "metadata": {},
   "source": [
    "Solve the system using the initial guess $\\theta$:"
   ]
  },
  {
   "cell_type": "code",
   "execution_count": 10,
   "metadata": {},
   "outputs": [],
   "source": [
    "θ_opt = nrm(root_fct, θ, tol=1e-6);"
   ]
  },
  {
   "cell_type": "markdown",
   "metadata": {},
   "source": [
    "Compute the policy function:"
   ]
  },
  {
   "cell_type": "code",
   "execution_count": 11,
   "metadata": {},
   "outputs": [],
   "source": [
    "A_grid = LinRange(0,4,100);\n",
    "a_policy = zeros(N,length(A_grid));\n",
    "\n",
    "for i = 1:N\n",
    "    for j = 1:length(A_grid)\n",
    "        aux = 0;\n",
    "        for m = 1:n \n",
    "            aux += θ_opt[m,i]*psi(m,A_grid[j],A_grid); \n",
    "        end\n",
    "        a_policy[i,j] = aux;\n",
    "    end\n",
    "end"
   ]
  },
  {
   "cell_type": "markdown",
   "metadata": {},
   "source": [
    "Plot the policy function:"
   ]
  },
  {
   "cell_type": "code",
   "execution_count": 12,
   "metadata": {},
   "outputs": [
    {
     "data": {
      "image/png": "[encoded data removed]",
      "image/svg+xml": [
       "<?xml version=\"1.0\" encoding=\"utf-8\"?>\n",
       "<svg xmlns=\"http://www.w3.org/2000/svg\" xmlns:xlink=\"http://www.w3.org/1999/xlink\" width=\"600\" height=\"400\" viewBox=\"0 0 2400 1600\">\n",
       "<defs>\n",
       "  <clipPath id=\"clip910\">\n",
       "    <rect x=\"0\" y=\"0\" width=\"2400\" height=\"1600\"/>\n",
       "  </clipPath>\n",
       "</defs>\n",
       "<path clip-path=\"url(#clip910)\" d=\"M0 1600 L2400 1600 L2400 0 L0 0  Z\" fill=\"#ffffff\" fill-rule=\"evenodd\" fill-opacity=\"1\"/>\n",
       "<defs>\n",
       "  <clipPath id=\"clip911\">\n",
       "    <rect x=\"480\" y=\"0\" width=\"1681\" height=\"1600\"/>\n",
       "  </clipPath>\n",
       "</defs>\n",
       "<path clip-path=\"url(#clip910)\" d=\"M110.881 1423.18 L2352.76 1423.18 L2352.76 123.472 L110.881 123.472  Z\" fill=\"#ffffff\" fill-rule=\"evenodd\" fill-opacity=\"1\"/>\n",
       "<defs>\n",
       "  <clipPath id=\"clip912\">\n",
       "    <rect x=\"110\" y=\"123\" width=\"2243\" height=\"1301\"/>\n",
       "  </clipPath>\n",
       "</defs>\n",
       "<polyline clip-path=\"url(#clip912)\" style=\"stroke:#000000; stroke-linecap:round; stroke-linejoin:round; stroke-width:2; stroke-opacity:0.1; fill:none\" points=\"174.33,1423.18 174.33,123.472 \"/>\n",
       "<polyline clip-path=\"url(#clip912)\" style=\"stroke:#000000; stroke-linecap:round; stroke-linejoin:round; stroke-width:2; stroke-opacity:0.1; fill:none\" points=\"879.322,1423.18 879.322,123.472 \"/>\n",
       "<polyline clip-path=\"url(#clip912)\" style=\"stroke:#000000; stroke-linecap:round; stroke-linejoin:round; stroke-width:2; stroke-opacity:0.1; fill:none\" points=\"1584.31,1423.18 1584.31,123.472 \"/>\n",
       "<polyline clip-path=\"url(#clip912)\" style=\"stroke:#000000; stroke-linecap:round; stroke-linejoin:round; stroke-width:2; stroke-opacity:0.1; fill:none\" points=\"2289.31,1423.18 2289.31,123.472 \"/>\n",
       "<polyline clip-path=\"url(#clip912)\" style=\"stroke:#000000; stroke-linecap:round; stroke-linejoin:round; stroke-width:2; stroke-opacity:0.1; fill:none\" points=\"110.881,1383.27 2352.76,1383.27 \"/>\n",
       "<polyline clip-path=\"url(#clip912)\" style=\"stroke:#000000; stroke-linecap:round; stroke-linejoin:round; stroke-width:2; stroke-opacity:0.1; fill:none\" points=\"110.881,1017.99 2352.76,1017.99 \"/>\n",
       "<polyline clip-path=\"url(#clip912)\" style=\"stroke:#000000; stroke-linecap:round; stroke-linejoin:round; stroke-width:2; stroke-opacity:0.1; fill:none\" points=\"110.881,652.716 2352.76,652.716 \"/>\n",
       "<polyline clip-path=\"url(#clip912)\" style=\"stroke:#000000; stroke-linecap:round; stroke-linejoin:round; stroke-width:2; stroke-opacity:0.1; fill:none\" points=\"110.881,287.438 2352.76,287.438 \"/>\n",
       "<polyline clip-path=\"url(#clip910)\" style=\"stroke:#000000; stroke-linecap:round; stroke-linejoin:round; stroke-width:4; stroke-opacity:1; fill:none\" points=\"110.881,1423.18 2352.76,1423.18 \"/>\n",
       "<polyline clip-path=\"url(#clip910)\" style=\"stroke:#000000; stroke-linecap:round; stroke-linejoin:round; stroke-width:4; stroke-opacity:1; fill:none\" points=\"174.33,1423.18 174.33,1404.28 \"/>\n",
       "<polyline clip-path=\"url(#clip910)\" style=\"stroke:#000000; stroke-linecap:round; stroke-linejoin:round; stroke-width:4; stroke-opacity:1; fill:none\" points=\"879.322,1423.18 879.322,1404.28 \"/>\n",
       "<polyline clip-path=\"url(#clip910)\" style=\"stroke:#000000; stroke-linecap:round; stroke-linejoin:round; stroke-width:4; stroke-opacity:1; fill:none\" points=\"1584.31,1423.18 1584.31,1404.28 \"/>\n",
       "<polyline clip-path=\"url(#clip910)\" style=\"stroke:#000000; stroke-linecap:round; stroke-linejoin:round; stroke-width:4; stroke-opacity:1; fill:none\" points=\"2289.31,1423.18 2289.31,1404.28 \"/>\n",
       "<path clip-path=\"url(#clip910)\" d=\"M174.33 1454.1 Q170.719 1454.1 168.89 1457.66 Q167.085 1461.2 167.085 1468.33 Q167.085 1475.44 168.89 1479.01 Q170.719 1482.55 174.33 1482.55 Q177.964 1482.55 179.77 1479.01 Q181.599 1475.44 181.599 1468.33 Q181.599 1461.2 179.77 1457.66 Q177.964 1454.1 174.33 1454.1 M174.33 1450.39 Q180.14 1450.39 183.196 1455 Q186.275 1459.58 186.275 1468.33 Q186.275 1477.06 183.196 1481.67 Q180.14 1486.25 174.33 1486.25 Q168.52 1486.25 165.441 1481.67 Q162.386 1477.06 162.386 1468.33 Q162.386 1459.58 165.441 1455 Q168.52 1450.39 174.33 1450.39 Z\" fill=\"#000000\" fill-rule=\"nonzero\" fill-opacity=\"1\" /><path clip-path=\"url(#clip910)\" d=\"M869.704 1481.64 L877.343 1481.64 L877.343 1455.28 L869.033 1456.95 L869.033 1452.69 L877.297 1451.02 L881.973 1451.02 L881.973 1481.64 L889.612 1481.64 L889.612 1485.58 L869.704 1485.58 L869.704 1481.64 Z\" fill=\"#000000\" fill-rule=\"nonzero\" fill-opacity=\"1\" /><path clip-path=\"url(#clip910)\" d=\"M1578.97 1481.64 L1595.29 1481.64 L1595.29 1485.58 L1573.34 1485.58 L1573.34 1481.64 Q1576 1478.89 1580.59 1474.26 Q1585.19 1469.61 1586.37 1468.27 Q1588.62 1465.74 1589.5 1464.01 Q1590.4 1462.25 1590.4 1460.56 Q1590.4 1457.8 1588.46 1456.07 Q1586.54 1454.33 1583.43 1454.33 Q1581.24 1454.33 1578.78 1455.09 Q1576.35 1455.86 1573.57 1457.41 L1573.57 1452.69 Q1576.4 1451.55 1578.85 1450.97 Q1581.31 1450.39 1583.34 1450.39 Q1588.71 1450.39 1591.91 1453.08 Q1595.1 1455.77 1595.1 1460.26 Q1595.1 1462.39 1594.29 1464.31 Q1593.5 1466.2 1591.4 1468.8 Q1590.82 1469.47 1587.72 1472.69 Q1584.62 1475.88 1578.97 1481.64 Z\" fill=\"#000000\" fill-rule=\"nonzero\" fill-opacity=\"1\" /><path clip-path=\"url(#clip910)\" d=\"M2293.55 1466.95 Q2296.91 1467.66 2298.79 1469.93 Q2300.68 1472.2 2300.68 1475.53 Q2300.68 1480.65 2297.17 1483.45 Q2293.65 1486.25 2287.17 1486.25 Q2284.99 1486.25 2282.67 1485.81 Q2280.38 1485.39 2277.93 1484.54 L2277.93 1480.02 Q2279.87 1481.16 2282.19 1481.74 Q2284.5 1482.32 2287.03 1482.32 Q2291.42 1482.32 2293.72 1480.58 Q2296.03 1478.84 2296.03 1475.53 Q2296.03 1472.48 2293.88 1470.77 Q2291.75 1469.03 2287.93 1469.03 L2283.9 1469.03 L2283.9 1465.19 L2288.11 1465.19 Q2291.56 1465.19 2293.39 1463.82 Q2295.22 1462.43 2295.22 1459.84 Q2295.22 1457.18 2293.32 1455.77 Q2291.45 1454.33 2287.93 1454.33 Q2286.01 1454.33 2283.81 1454.75 Q2281.61 1455.16 2278.97 1456.04 L2278.97 1451.88 Q2281.63 1451.14 2283.95 1450.77 Q2286.29 1450.39 2288.35 1450.39 Q2293.67 1450.39 2296.77 1452.83 Q2299.87 1455.23 2299.87 1459.35 Q2299.87 1462.22 2298.23 1464.21 Q2296.59 1466.18 2293.55 1466.95 Z\" fill=\"#000000\" fill-rule=\"nonzero\" fill-opacity=\"1\" /><path clip-path=\"url(#clip910)\" d=\"M1049.5 1526.86 L1040.78 1550.51 L1058.26 1550.51 L1049.5 1526.86 M1045.88 1520.52 L1053.16 1520.52 L1071.28 1568.04 L1064.59 1568.04 L1060.26 1555.85 L1038.84 1555.85 L1034.51 1568.04 L1027.73 1568.04 L1045.88 1520.52 Z\" fill=\"#000000\" fill-rule=\"nonzero\" fill-opacity=\"1\" /><path clip-path=\"url(#clip910)\" d=\"M1100.68 1533.45 L1100.68 1538.98 Q1098.2 1537.71 1095.53 1537.07 Q1092.86 1536.44 1089.99 1536.44 Q1085.63 1536.44 1083.43 1537.77 Q1081.27 1539.11 1081.27 1541.79 Q1081.27 1543.82 1082.83 1545 Q1084.39 1546.15 1089.1 1547.2 L1091.1 1547.64 Q1097.34 1548.98 1099.95 1551.43 Q1102.59 1553.85 1102.59 1558.21 Q1102.59 1563.17 1098.65 1566.07 Q1094.73 1568.97 1087.86 1568.97 Q1084.99 1568.97 1081.87 1568.39 Q1078.79 1567.85 1075.35 1566.74 L1075.35 1560.69 Q1078.6 1562.38 1081.75 1563.24 Q1084.9 1564.07 1087.99 1564.07 Q1092.12 1564.07 1094.35 1562.66 Q1096.58 1561.23 1096.58 1558.65 Q1096.58 1556.27 1094.96 1554.99 Q1093.36 1553.72 1087.92 1552.54 L1085.88 1552.07 Q1080.44 1550.92 1078.02 1548.56 Q1075.6 1546.18 1075.6 1542.04 Q1075.6 1537.01 1079.17 1534.27 Q1082.73 1531.54 1089.29 1531.54 Q1092.54 1531.54 1095.4 1532.01 Q1098.27 1532.49 1100.68 1533.45 Z\" fill=\"#000000\" fill-rule=\"nonzero\" fill-opacity=\"1\" /><path clip-path=\"url(#clip910)\" d=\"M1134.65 1533.45 L1134.65 1538.98 Q1132.16 1537.71 1129.49 1537.07 Q1126.82 1536.44 1123.95 1536.44 Q1119.59 1536.44 1117.39 1537.77 Q1115.23 1539.11 1115.23 1541.79 Q1115.23 1543.82 1116.79 1545 Q1118.35 1546.15 1123.06 1547.2 L1125.07 1547.64 Q1131.3 1548.98 1133.91 1551.43 Q1136.56 1553.85 1136.56 1558.21 Q1136.56 1563.17 1132.61 1566.07 Q1128.69 1568.97 1121.82 1568.97 Q1118.95 1568.97 1115.84 1568.39 Q1112.75 1567.85 1109.31 1566.74 L1109.31 1560.69 Q1112.56 1562.38 1115.71 1563.24 Q1118.86 1564.07 1121.95 1564.07 Q1126.08 1564.07 1128.31 1562.66 Q1130.54 1561.23 1130.54 1558.65 Q1130.54 1556.27 1128.92 1554.99 Q1127.33 1553.72 1121.88 1552.54 L1119.85 1552.07 Q1114.4 1550.92 1111.98 1548.56 Q1109.57 1546.18 1109.57 1542.04 Q1109.57 1537.01 1113.13 1534.27 Q1116.69 1531.54 1123.25 1531.54 Q1126.5 1531.54 1129.36 1532.01 Q1132.23 1532.49 1134.65 1533.45 Z\" fill=\"#000000\" fill-rule=\"nonzero\" fill-opacity=\"1\" /><path clip-path=\"url(#clip910)\" d=\"M1176.37 1548.76 L1176.37 1551.62 L1149.45 1551.62 Q1149.83 1557.67 1153.07 1560.85 Q1156.35 1564 1162.18 1564 Q1165.55 1564 1168.7 1563.17 Q1171.89 1562.35 1175 1560.69 L1175 1566.23 Q1171.85 1567.57 1168.54 1568.27 Q1165.23 1568.97 1161.83 1568.97 Q1153.3 1568.97 1148.3 1564 Q1143.34 1559.04 1143.34 1550.57 Q1143.34 1541.82 1148.05 1536.69 Q1152.79 1531.54 1160.81 1531.54 Q1168 1531.54 1172.17 1536.18 Q1176.37 1540.8 1176.37 1548.76 M1170.52 1547.04 Q1170.45 1542.23 1167.81 1539.37 Q1165.2 1536.5 1160.87 1536.5 Q1155.97 1536.5 1153.01 1539.27 Q1150.08 1542.04 1149.64 1547.07 L1170.52 1547.04 Z\" fill=\"#000000\" fill-rule=\"nonzero\" fill-opacity=\"1\" /><path clip-path=\"url(#clip910)\" d=\"M1191.78 1522.27 L1191.78 1532.4 L1203.84 1532.4 L1203.84 1536.95 L1191.78 1536.95 L1191.78 1556.3 Q1191.78 1560.66 1192.96 1561.9 Q1194.17 1563.14 1197.83 1563.14 L1203.84 1563.14 L1203.84 1568.04 L1197.83 1568.04 Q1191.05 1568.04 1188.47 1565.53 Q1185.89 1562.98 1185.89 1556.3 L1185.89 1536.95 L1181.59 1536.95 L1181.59 1532.4 L1185.89 1532.4 L1185.89 1522.27 L1191.78 1522.27 Z\" fill=\"#000000\" fill-rule=\"nonzero\" fill-opacity=\"1\" /><path clip-path=\"url(#clip910)\" d=\"M1244.77 1568.04 L1226.63 1520.52 L1233.35 1520.52 L1248.4 1560.53 L1263.49 1520.52 L1270.17 1520.52 L1252.06 1568.04 L1244.77 1568.04 Z\" fill=\"#000000\" fill-rule=\"nonzero\" fill-opacity=\"1\" /><path clip-path=\"url(#clip910)\" d=\"M1288 1550.12 Q1280.9 1550.12 1278.16 1551.75 Q1275.42 1553.37 1275.42 1557.29 Q1275.42 1560.4 1277.46 1562.25 Q1279.53 1564.07 1283.06 1564.07 Q1287.93 1564.07 1290.86 1560.63 Q1293.82 1557.16 1293.82 1551.43 L1293.82 1550.12 L1288 1550.12 M1299.68 1547.71 L1299.68 1568.04 L1293.82 1568.04 L1293.82 1562.63 Q1291.82 1565.88 1288.82 1567.44 Q1285.83 1568.97 1281.5 1568.97 Q1276.03 1568.97 1272.78 1565.91 Q1269.57 1562.82 1269.57 1557.67 Q1269.57 1551.65 1273.58 1548.6 Q1277.62 1545.54 1285.61 1545.54 L1293.82 1545.54 L1293.82 1544.97 Q1293.82 1540.93 1291.15 1538.73 Q1288.51 1536.5 1283.7 1536.5 Q1280.64 1536.5 1277.75 1537.23 Q1274.85 1537.97 1272.18 1539.43 L1272.18 1534.02 Q1275.39 1532.78 1278.42 1532.17 Q1281.44 1531.54 1284.3 1531.54 Q1292.04 1531.54 1295.86 1535.55 Q1299.68 1539.56 1299.68 1547.71 Z\" fill=\"#000000\" fill-rule=\"nonzero\" fill-opacity=\"1\" /><path clip-path=\"url(#clip910)\" d=\"M1311.74 1518.52 L1317.6 1518.52 L1317.6 1568.04 L1311.74 1568.04 L1311.74 1518.52 Z\" fill=\"#000000\" fill-rule=\"nonzero\" fill-opacity=\"1\" /><path clip-path=\"url(#clip910)\" d=\"M1329.25 1553.98 L1329.25 1532.4 L1335.1 1532.4 L1335.1 1553.75 Q1335.1 1558.81 1337.08 1561.36 Q1339.05 1563.87 1343 1563.87 Q1347.74 1563.87 1350.48 1560.85 Q1353.24 1557.83 1353.24 1552.61 L1353.24 1532.4 L1359.1 1532.4 L1359.1 1568.04 L1353.24 1568.04 L1353.24 1562.57 Q1351.11 1565.82 1348.28 1567.41 Q1345.48 1568.97 1341.75 1568.97 Q1335.61 1568.97 1332.43 1565.15 Q1329.25 1561.33 1329.25 1553.98 M1343.98 1531.54 L1343.98 1531.54 Z\" fill=\"#000000\" fill-rule=\"nonzero\" fill-opacity=\"1\" /><path clip-path=\"url(#clip910)\" d=\"M1401.66 1548.76 L1401.66 1551.62 L1374.73 1551.62 Q1375.11 1557.67 1378.36 1560.85 Q1381.64 1564 1387.46 1564 Q1390.83 1564 1393.98 1563.17 Q1397.17 1562.35 1400.29 1560.69 L1400.29 1566.23 Q1397.14 1567.57 1393.83 1568.27 Q1390.52 1568.97 1387.11 1568.97 Q1378.58 1568.97 1373.58 1564 Q1368.62 1559.04 1368.62 1550.57 Q1368.62 1541.82 1373.33 1536.69 Q1378.07 1531.54 1386.09 1531.54 Q1393.28 1531.54 1397.45 1536.18 Q1401.66 1540.8 1401.66 1548.76 M1395.8 1547.04 Q1395.74 1542.23 1393.09 1539.37 Q1390.48 1536.5 1386.15 1536.5 Q1381.25 1536.5 1378.29 1539.27 Q1375.37 1542.04 1374.92 1547.07 L1395.8 1547.04 Z\" fill=\"#000000\" fill-rule=\"nonzero\" fill-opacity=\"1\" /><path clip-path=\"url(#clip910)\" d=\"M1433.99 1533.45 L1433.99 1538.98 Q1431.51 1537.71 1428.84 1537.07 Q1426.16 1536.44 1423.3 1536.44 Q1418.94 1536.44 1416.74 1537.77 Q1414.58 1539.11 1414.58 1541.79 Q1414.58 1543.82 1416.14 1545 Q1417.7 1546.15 1422.41 1547.2 L1424.41 1547.64 Q1430.65 1548.98 1433.26 1551.43 Q1435.9 1553.85 1435.9 1558.21 Q1435.9 1563.17 1431.96 1566.07 Q1428.04 1568.97 1421.17 1568.97 Q1418.3 1568.97 1415.18 1568.39 Q1412.1 1567.85 1408.66 1566.74 L1408.66 1560.69 Q1411.9 1562.38 1415.06 1563.24 Q1418.21 1564.07 1421.29 1564.07 Q1425.43 1564.07 1427.66 1562.66 Q1429.89 1561.23 1429.89 1558.65 Q1429.89 1556.27 1428.26 1554.99 Q1426.67 1553.72 1421.23 1552.54 L1419.19 1552.07 Q1413.75 1550.92 1411.33 1548.56 Q1408.91 1546.18 1408.91 1542.04 Q1408.91 1537.01 1412.48 1534.27 Q1416.04 1531.54 1422.6 1531.54 Q1425.85 1531.54 1428.71 1532.01 Q1431.57 1532.49 1433.99 1533.45 Z\" fill=\"#000000\" fill-rule=\"nonzero\" fill-opacity=\"1\" /><polyline clip-path=\"url(#clip910)\" style=\"stroke:#000000; stroke-linecap:round; stroke-linejoin:round; stroke-width:4; stroke-opacity:1; fill:none\" points=\"110.881,1423.18 110.881,123.472 \"/>\n",
       "<polyline clip-path=\"url(#clip910)\" style=\"stroke:#000000; stroke-linecap:round; stroke-linejoin:round; stroke-width:4; stroke-opacity:1; fill:none\" points=\"110.881,1383.27 129.779,1383.27 \"/>\n",
       "<polyline clip-path=\"url(#clip910)\" style=\"stroke:#000000; stroke-linecap:round; stroke-linejoin:round; stroke-width:4; stroke-opacity:1; fill:none\" points=\"110.881,1017.99 129.779,1017.99 \"/>\n",
       "<polyline clip-path=\"url(#clip910)\" style=\"stroke:#000000; stroke-linecap:round; stroke-linejoin:round; stroke-width:4; stroke-opacity:1; fill:none\" points=\"110.881,652.716 129.779,652.716 \"/>\n",
       "<polyline clip-path=\"url(#clip910)\" style=\"stroke:#000000; stroke-linecap:round; stroke-linejoin:round; stroke-width:4; stroke-opacity:1; fill:none\" points=\"110.881,287.438 129.779,287.438 \"/>\n",
       "<path clip-path=\"url(#clip910)\" d=\"M62.9365 1369.07 Q59.3254 1369.07 57.4967 1372.63 Q55.6912 1376.18 55.6912 1383.3 Q55.6912 1390.41 57.4967 1393.98 Q59.3254 1397.52 62.9365 1397.52 Q66.5707 1397.52 68.3763 1393.98 Q70.205 1390.41 70.205 1383.3 Q70.205 1376.18 68.3763 1372.63 Q66.5707 1369.07 62.9365 1369.07 M62.9365 1365.37 Q68.7467 1365.37 71.8022 1369.97 Q74.8809 1374.55 74.8809 1383.3 Q74.8809 1392.03 71.8022 1396.64 Q68.7467 1401.22 62.9365 1401.22 Q57.1264 1401.22 54.0477 1396.64 Q50.9921 1392.03 50.9921 1383.3 Q50.9921 1374.55 54.0477 1369.97 Q57.1264 1365.37 62.9365 1365.37 Z\" fill=\"#000000\" fill-rule=\"nonzero\" fill-opacity=\"1\" /><path clip-path=\"url(#clip910)\" d=\"M54.9736 1031.34 L62.6124 1031.34 L62.6124 1004.97 L54.3023 1006.64 L54.3023 1002.38 L62.5661 1000.71 L67.242 1000.71 L67.242 1031.34 L74.8809 1031.34 L74.8809 1035.27 L54.9736 1035.27 L54.9736 1031.34 Z\" fill=\"#000000\" fill-rule=\"nonzero\" fill-opacity=\"1\" /><path clip-path=\"url(#clip910)\" d=\"M58.5615 666.06 L74.8809 666.06 L74.8809 669.996 L52.9366 669.996 L52.9366 666.06 Q55.5986 663.306 60.1819 658.676 Q64.7883 654.023 65.9689 652.681 Q68.2143 650.158 69.0939 648.422 Q69.9967 646.662 69.9967 644.973 Q69.9967 642.218 68.0522 640.482 Q66.1309 638.746 63.0291 638.746 Q60.83 638.746 58.3763 639.51 Q55.9458 640.274 53.168 641.824 L53.168 637.102 Q55.9921 635.968 58.4458 635.389 Q60.8995 634.811 62.9365 634.811 Q68.3068 634.811 71.5013 637.496 Q74.6957 640.181 74.6957 644.672 Q74.6957 646.801 73.8855 648.723 Q73.0985 650.621 70.992 653.213 Q70.4133 653.885 67.3115 657.102 Q64.2096 660.297 58.5615 666.06 Z\" fill=\"#000000\" fill-rule=\"nonzero\" fill-opacity=\"1\" /><path clip-path=\"url(#clip910)\" d=\"M67.7513 286.084 Q71.1078 286.802 72.9827 289.07 Q74.8809 291.339 74.8809 294.672 Q74.8809 299.788 71.3624 302.589 Q67.8439 305.39 61.3624 305.39 Q59.1865 305.39 56.8717 304.95 Q54.5801 304.533 52.1264 303.677 L52.1264 299.163 Q54.0708 300.297 56.3856 300.876 Q58.7004 301.454 61.2236 301.454 Q65.6217 301.454 67.9133 299.718 Q70.2281 297.982 70.2281 294.672 Q70.2281 291.617 68.0754 289.904 Q65.9457 288.168 62.1263 288.168 L58.0986 288.168 L58.0986 284.325 L62.3115 284.325 Q65.7606 284.325 67.5893 282.959 Q69.418 281.57 69.418 278.978 Q69.418 276.316 67.5198 274.904 Q65.6448 273.469 62.1263 273.469 Q60.205 273.469 58.006 273.885 Q55.8069 274.302 53.168 275.181 L53.168 271.015 Q55.8301 270.274 58.1449 269.904 Q60.4828 269.533 62.543 269.533 Q67.867 269.533 70.9689 271.964 Q74.0707 274.371 74.0707 278.492 Q74.0707 281.362 72.4272 283.353 Q70.7837 285.32 67.7513 286.084 Z\" fill=\"#000000\" fill-rule=\"nonzero\" fill-opacity=\"1\" /><path clip-path=\"url(#clip910)\" d=\"M718.751 18.8205 L718.751 41.5461 L729.04 41.5461 Q734.752 41.5461 737.871 38.5889 Q740.991 35.6318 740.991 30.163 Q740.991 24.7348 737.871 21.7777 Q734.752 18.8205 729.04 18.8205 L718.751 18.8205 M710.568 12.096 L729.04 12.096 Q739.208 12.096 744.393 16.714 Q749.619 21.2916 749.619 30.163 Q749.619 39.1155 744.393 43.6931 Q739.208 48.2706 729.04 48.2706 L718.751 48.2706 L718.751 72.576 L710.568 72.576 L710.568 12.096 Z\" fill=\"#000000\" fill-rule=\"nonzero\" fill-opacity=\"1\" /><path clip-path=\"url(#clip910)\" d=\"M774.897 32.4315 Q768.901 32.4315 765.418 37.1306 Q761.934 41.7891 761.934 49.9314 Q761.934 58.0738 765.377 62.7728 Q768.861 67.4314 774.897 67.4314 Q780.851 67.4314 784.335 62.7323 Q787.819 58.0333 787.819 49.9314 Q787.819 41.8701 784.335 37.1711 Q780.851 32.4315 774.897 32.4315 M774.897 26.1121 Q784.619 26.1121 790.169 32.4315 Q795.718 38.7509 795.718 49.9314 Q795.718 61.0714 790.169 67.4314 Q784.619 73.7508 774.897 73.7508 Q765.134 73.7508 759.584 67.4314 Q754.075 61.0714 754.075 49.9314 Q754.075 38.7509 759.584 32.4315 Q765.134 26.1121 774.897 26.1121 Z\" fill=\"#000000\" fill-rule=\"nonzero\" fill-opacity=\"1\" /><path clip-path=\"url(#clip910)\" d=\"M808.074 9.54393 L815.527 9.54393 L815.527 72.576 L808.074 72.576 L808.074 9.54393 Z\" fill=\"#000000\" fill-rule=\"nonzero\" fill-opacity=\"1\" /><path clip-path=\"url(#clip910)\" d=\"M831.123 27.2059 L838.577 27.2059 L838.577 72.576 L831.123 72.576 L831.123 27.2059 M831.123 9.54393 L838.577 9.54393 L838.577 18.9825 L831.123 18.9825 L831.123 9.54393 Z\" fill=\"#000000\" fill-rule=\"nonzero\" fill-opacity=\"1\" /><path clip-path=\"url(#clip910)\" d=\"M886.823 28.9478 L886.823 35.9153 Q883.663 34.1734 880.463 33.3227 Q877.304 32.4315 874.063 32.4315 Q866.812 32.4315 862.801 37.0496 Q858.791 41.6271 858.791 49.9314 Q858.791 58.2358 862.801 62.8538 Q866.812 67.4314 874.063 67.4314 Q877.304 67.4314 880.463 66.5807 Q883.663 65.6895 886.823 63.9476 L886.823 70.8341 Q883.704 72.2924 880.342 73.0216 Q877.02 73.7508 873.253 73.7508 Q863.004 73.7508 856.968 67.3098 Q850.932 60.8689 850.932 49.9314 Q850.932 38.832 857.008 32.472 Q863.125 26.1121 873.739 26.1121 Q877.182 26.1121 880.463 26.8413 Q883.744 27.5299 886.823 28.9478 Z\" fill=\"#000000\" fill-rule=\"nonzero\" fill-opacity=\"1\" /><path clip-path=\"url(#clip910)\" d=\"M918.663 76.7889 Q915.504 84.8907 912.506 87.3618 Q909.508 89.8329 904.485 89.8329 L898.53 89.8329 L898.53 83.5945 L902.905 83.5945 Q905.984 83.5945 907.685 82.1361 Q909.387 80.6778 911.453 75.2496 L912.789 71.8468 L894.439 27.2059 L902.338 27.2059 L916.516 62.6918 L930.694 27.2059 L938.594 27.2059 L918.663 76.7889 Z\" fill=\"#000000\" fill-rule=\"nonzero\" fill-opacity=\"1\" /><path clip-path=\"url(#clip910)\" d=\"M975.578 12.096 L1010.34 12.096 L1010.34 18.9825 L983.761 18.9825 L983.761 36.8065 L1007.74 36.8065 L1007.74 43.6931 L983.761 43.6931 L983.761 72.576 L975.578 72.576 L975.578 12.096 Z\" fill=\"#000000\" fill-rule=\"nonzero\" fill-opacity=\"1\" /><path clip-path=\"url(#clip910)\" d=\"M1017.67 54.671 L1017.67 27.2059 L1025.12 27.2059 L1025.12 54.3874 Q1025.12 60.8284 1027.63 64.0691 Q1030.14 67.2693 1035.17 67.2693 Q1041.2 67.2693 1044.69 63.421 Q1048.21 59.5726 1048.21 52.9291 L1048.21 27.2059 L1055.66 27.2059 L1055.66 72.576 L1048.21 72.576 L1048.21 65.6084 Q1045.5 69.7404 1041.89 71.7658 Q1038.33 73.7508 1033.59 73.7508 Q1025.77 73.7508 1021.72 68.8897 Q1017.67 64.0286 1017.67 54.671 M1036.42 26.1121 L1036.42 26.1121 Z\" fill=\"#000000\" fill-rule=\"nonzero\" fill-opacity=\"1\" /><path clip-path=\"url(#clip910)\" d=\"M1108.73 45.1919 L1108.73 72.576 L1101.28 72.576 L1101.28 45.4349 Q1101.28 38.994 1098.77 35.7938 Q1096.25 32.5936 1091.23 32.5936 Q1085.2 32.5936 1081.71 36.4419 Q1078.23 40.2903 1078.23 46.9338 L1078.23 72.576 L1070.73 72.576 L1070.73 27.2059 L1078.23 27.2059 L1078.23 34.2544 Q1080.9 30.163 1084.51 28.1376 Q1088.15 26.1121 1092.89 26.1121 Q1100.71 26.1121 1104.72 30.9732 Q1108.73 35.7938 1108.73 45.1919 Z\" fill=\"#000000\" fill-rule=\"nonzero\" fill-opacity=\"1\" /><path clip-path=\"url(#clip910)\" d=\"M1156.25 28.9478 L1156.25 35.9153 Q1153.09 34.1734 1149.89 33.3227 Q1146.73 32.4315 1143.49 32.4315 Q1136.24 32.4315 1132.23 37.0496 Q1128.22 41.6271 1128.22 49.9314 Q1128.22 58.2358 1132.23 62.8538 Q1136.24 67.4314 1143.49 67.4314 Q1146.73 67.4314 1149.89 66.5807 Q1153.09 65.6895 1156.25 63.9476 L1156.25 70.8341 Q1153.13 72.2924 1149.77 73.0216 Q1146.45 73.7508 1142.68 73.7508 Q1132.43 73.7508 1126.39 67.3098 Q1120.36 60.8689 1120.36 49.9314 Q1120.36 38.832 1126.43 32.472 Q1132.55 26.1121 1143.16 26.1121 Q1146.61 26.1121 1149.89 26.8413 Q1153.17 27.5299 1156.25 28.9478 Z\" fill=\"#000000\" fill-rule=\"nonzero\" fill-opacity=\"1\" /><path clip-path=\"url(#clip910)\" d=\"M1176.58 14.324 L1176.58 27.2059 L1191.94 27.2059 L1191.94 32.9987 L1176.58 32.9987 L1176.58 57.6282 Q1176.58 63.1779 1178.08 64.7578 Q1179.62 66.3376 1184.28 66.3376 L1191.94 66.3376 L1191.94 72.576 L1184.28 72.576 Q1175.65 72.576 1172.37 69.3758 Q1169.09 66.1351 1169.09 57.6282 L1169.09 32.9987 L1163.62 32.9987 L1163.62 27.2059 L1169.09 27.2059 L1169.09 14.324 L1176.58 14.324 Z\" fill=\"#000000\" fill-rule=\"nonzero\" fill-opacity=\"1\" /><path clip-path=\"url(#clip910)\" d=\"M1201.74 27.2059 L1209.19 27.2059 L1209.19 72.576 L1201.74 72.576 L1201.74 27.2059 M1201.74 9.54393 L1209.19 9.54393 L1209.19 18.9825 L1201.74 18.9825 L1201.74 9.54393 Z\" fill=\"#000000\" fill-rule=\"nonzero\" fill-opacity=\"1\" /><path clip-path=\"url(#clip910)\" d=\"M1242.37 32.4315 Q1236.38 32.4315 1232.89 37.1306 Q1229.41 41.7891 1229.41 49.9314 Q1229.41 58.0738 1232.85 62.7728 Q1236.34 67.4314 1242.37 67.4314 Q1248.33 67.4314 1251.81 62.7323 Q1255.29 58.0333 1255.29 49.9314 Q1255.29 41.8701 1251.81 37.1711 Q1248.33 32.4315 1242.37 32.4315 M1242.37 26.1121 Q1252.09 26.1121 1257.64 32.4315 Q1263.19 38.7509 1263.19 49.9314 Q1263.19 61.0714 1257.64 67.4314 Q1252.09 73.7508 1242.37 73.7508 Q1232.61 73.7508 1227.06 67.4314 Q1221.55 61.0714 1221.55 49.9314 Q1221.55 38.7509 1227.06 32.4315 Q1232.61 26.1121 1242.37 26.1121 Z\" fill=\"#000000\" fill-rule=\"nonzero\" fill-opacity=\"1\" /><path clip-path=\"url(#clip910)\" d=\"M1313.26 45.1919 L1313.26 72.576 L1305.81 72.576 L1305.81 45.4349 Q1305.81 38.994 1303.3 35.7938 Q1300.79 32.5936 1295.76 32.5936 Q1289.73 32.5936 1286.24 36.4419 Q1282.76 40.2903 1282.76 46.9338 L1282.76 72.576 L1275.26 72.576 L1275.26 27.2059 L1282.76 27.2059 L1282.76 34.2544 Q1285.43 30.163 1289.04 28.1376 Q1292.68 26.1121 1297.42 26.1121 Q1305.24 26.1121 1309.25 30.9732 Q1313.26 35.7938 1313.26 45.1919 Z\" fill=\"#000000\" fill-rule=\"nonzero\" fill-opacity=\"1\" /><path clip-path=\"url(#clip910)\" d=\"M1377.47 9.54393 L1377.47 15.7418 L1370.34 15.7418 Q1366.33 15.7418 1364.75 17.3622 Q1363.21 18.9825 1363.21 23.1955 L1363.21 27.2059 L1375.48 27.2059 L1375.48 32.9987 L1363.21 32.9987 L1363.21 72.576 L1355.72 72.576 L1355.72 32.9987 L1348.59 32.9987 L1348.59 27.2059 L1355.72 27.2059 L1355.72 24.0462 Q1355.72 16.471 1359.24 13.0277 Q1362.76 9.54393 1370.42 9.54393 L1377.47 9.54393 Z\" fill=\"#000000\" fill-rule=\"nonzero\" fill-opacity=\"1\" /><path clip-path=\"url(#clip910)\" d=\"M1401.29 32.4315 Q1395.29 32.4315 1391.81 37.1306 Q1388.33 41.7891 1388.33 49.9314 Q1388.33 58.0738 1391.77 62.7728 Q1395.25 67.4314 1401.29 67.4314 Q1407.24 67.4314 1410.73 62.7323 Q1414.21 58.0333 1414.21 49.9314 Q1414.21 41.8701 1410.73 37.1711 Q1407.24 32.4315 1401.29 32.4315 M1401.29 26.1121 Q1411.01 26.1121 1416.56 32.4315 Q1422.11 38.7509 1422.11 49.9314 Q1422.11 61.0714 1416.56 67.4314 Q1411.01 73.7508 1401.29 73.7508 Q1391.53 73.7508 1385.98 67.4314 Q1380.47 61.0714 1380.47 49.9314 Q1380.47 38.7509 1385.98 32.4315 Q1391.53 26.1121 1401.29 26.1121 Z\" fill=\"#000000\" fill-rule=\"nonzero\" fill-opacity=\"1\" /><path clip-path=\"url(#clip910)\" d=\"M1460.76 34.1734 Q1459.5 33.4443 1458 33.1202 Q1456.54 32.7556 1454.76 32.7556 Q1448.44 32.7556 1445.04 36.8875 Q1441.68 40.9789 1441.68 48.6757 L1441.68 72.576 L1434.18 72.576 L1434.18 27.2059 L1441.68 27.2059 L1441.68 34.2544 Q1444.03 30.1225 1447.79 28.1376 Q1451.56 26.1121 1456.95 26.1121 Q1457.72 26.1121 1458.65 26.2337 Q1459.58 26.3147 1460.71 26.5172 L1460.76 34.1734 Z\" fill=\"#000000\" fill-rule=\"nonzero\" fill-opacity=\"1\" /><path clip-path=\"url(#clip910)\" d=\"M1515.48 20.1573 L1504.38 50.2555 L1526.62 50.2555 L1515.48 20.1573 M1510.86 12.096 L1520.14 12.096 L1543.19 72.576 L1534.68 72.576 L1529.18 57.061 L1501.91 57.061 L1496.4 72.576 L1487.77 72.576 L1510.86 12.096 Z\" fill=\"#000000\" fill-rule=\"nonzero\" fill-opacity=\"1\" /><path clip-path=\"url(#clip910)\" d=\"M1580.62 28.5427 L1580.62 35.5912 Q1577.46 33.9709 1574.06 33.1607 Q1570.66 32.3505 1567.01 32.3505 Q1561.46 32.3505 1558.67 34.0519 Q1555.91 35.7533 1555.91 39.156 Q1555.91 41.7486 1557.9 43.2475 Q1559.88 44.7058 1565.88 46.0426 L1568.43 46.6097 Q1576.37 48.3111 1579.69 51.4303 Q1583.05 54.509 1583.05 60.0587 Q1583.05 66.3781 1578.03 70.0644 Q1573.05 73.7508 1564.3 73.7508 Q1560.65 73.7508 1556.68 73.0216 Q1552.75 72.3329 1548.38 70.9151 L1548.38 63.2184 Q1552.51 65.3654 1556.52 66.4591 Q1560.53 67.5124 1564.46 67.5124 Q1569.72 67.5124 1572.56 65.73 Q1575.4 63.9071 1575.4 60.6258 Q1575.4 57.5877 1573.33 55.9673 Q1571.3 54.3469 1564.38 52.8481 L1561.78 52.2405 Q1554.86 50.7821 1551.78 47.7845 Q1548.7 44.7463 1548.7 39.4801 Q1548.7 33.0797 1553.24 29.5959 Q1557.77 26.1121 1566.12 26.1121 Q1570.25 26.1121 1573.9 26.7198 Q1577.54 27.3274 1580.62 28.5427 Z\" fill=\"#000000\" fill-rule=\"nonzero\" fill-opacity=\"1\" /><path clip-path=\"url(#clip910)\" d=\"M1623.84 28.5427 L1623.84 35.5912 Q1620.68 33.9709 1617.28 33.1607 Q1613.88 32.3505 1610.23 32.3505 Q1604.68 32.3505 1601.89 34.0519 Q1599.13 35.7533 1599.13 39.156 Q1599.13 41.7486 1601.12 43.2475 Q1603.1 44.7058 1609.1 46.0426 L1611.65 46.6097 Q1619.59 48.3111 1622.91 51.4303 Q1626.28 54.509 1626.28 60.0587 Q1626.28 66.3781 1621.25 70.0644 Q1616.27 73.7508 1607.52 73.7508 Q1603.87 73.7508 1599.9 73.0216 Q1595.97 72.3329 1591.6 70.9151 L1591.6 63.2184 Q1595.73 65.3654 1599.74 66.4591 Q1603.75 67.5124 1607.68 67.5124 Q1612.95 67.5124 1615.78 65.73 Q1618.62 63.9071 1618.62 60.6258 Q1618.62 57.5877 1616.55 55.9673 Q1614.53 54.3469 1607.6 52.8481 L1605.01 52.2405 Q1598.08 50.7821 1595 47.7845 Q1591.92 44.7463 1591.92 39.4801 Q1591.92 33.0797 1596.46 29.5959 Q1601 26.1121 1609.34 26.1121 Q1613.47 26.1121 1617.12 26.7198 Q1620.77 27.3274 1623.84 28.5427 Z\" fill=\"#000000\" fill-rule=\"nonzero\" fill-opacity=\"1\" /><path clip-path=\"url(#clip910)\" d=\"M1676.95 48.0275 L1676.95 51.6733 L1642.68 51.6733 Q1643.17 59.3701 1647.3 63.421 Q1651.47 67.4314 1658.88 67.4314 Q1663.18 67.4314 1667.19 66.3781 Q1671.24 65.3249 1675.21 63.2184 L1675.21 70.267 Q1671.2 71.9684 1666.99 72.8596 Q1662.77 73.7508 1658.44 73.7508 Q1647.58 73.7508 1641.22 67.4314 Q1634.9 61.1119 1634.9 50.3365 Q1634.9 39.1965 1640.9 32.6746 Q1646.93 26.1121 1657.14 26.1121 Q1666.3 26.1121 1671.6 32.0264 Q1676.95 37.9003 1676.95 48.0275 M1669.5 45.84 Q1669.42 39.7232 1666.06 36.0774 Q1662.73 32.4315 1657.22 32.4315 Q1650.99 32.4315 1647.22 35.9558 Q1643.49 39.4801 1642.92 45.8805 L1669.5 45.84 Z\" fill=\"#000000\" fill-rule=\"nonzero\" fill-opacity=\"1\" /><path clip-path=\"url(#clip910)\" d=\"M1696.56 14.324 L1696.56 27.2059 L1711.91 27.2059 L1711.91 32.9987 L1696.56 32.9987 L1696.56 57.6282 Q1696.56 63.1779 1698.06 64.7578 Q1699.6 66.3376 1704.26 66.3376 L1711.91 66.3376 L1711.91 72.576 L1704.26 72.576 Q1695.63 72.576 1692.35 69.3758 Q1689.06 66.1351 1689.06 57.6282 L1689.06 32.9987 L1683.6 32.9987 L1683.6 27.2059 L1689.06 27.2059 L1689.06 14.324 L1696.56 14.324 Z\" fill=\"#000000\" fill-rule=\"nonzero\" fill-opacity=\"1\" /><path clip-path=\"url(#clip910)\" d=\"M1750.64 28.5427 L1750.64 35.5912 Q1747.48 33.9709 1744.08 33.1607 Q1740.67 32.3505 1737.03 32.3505 Q1731.48 32.3505 1728.68 34.0519 Q1725.93 35.7533 1725.93 39.156 Q1725.93 41.7486 1727.91 43.2475 Q1729.9 44.7058 1735.89 46.0426 L1738.44 46.6097 Q1746.38 48.3111 1749.71 51.4303 Q1753.07 54.509 1753.07 60.0587 Q1753.07 66.3781 1748.05 70.0644 Q1743.06 73.7508 1734.31 73.7508 Q1730.67 73.7508 1726.7 73.0216 Q1722.77 72.3329 1718.39 70.9151 L1718.39 63.2184 Q1722.52 65.3654 1726.54 66.4591 Q1730.55 67.5124 1734.47 67.5124 Q1739.74 67.5124 1742.58 65.73 Q1745.41 63.9071 1745.41 60.6258 Q1745.41 57.5877 1743.35 55.9673 Q1741.32 54.3469 1734.39 52.8481 L1731.8 52.2405 Q1724.87 50.7821 1721.8 47.7845 Q1718.72 44.7463 1718.72 39.4801 Q1718.72 33.0797 1723.25 29.5959 Q1727.79 26.1121 1736.14 26.1121 Q1740.27 26.1121 1743.91 26.7198 Q1747.56 27.3274 1750.64 28.5427 Z\" fill=\"#000000\" fill-rule=\"nonzero\" fill-opacity=\"1\" /><polyline clip-path=\"url(#clip912)\" style=\"stroke:#009af9; stroke-linecap:round; stroke-linejoin:round; stroke-width:8; stroke-opacity:1; fill:none\" points=\"174.33,1386.4 177.773,1386.34 181.215,1386.29 184.657,1386.24 188.1,1386.19 219.93,1385.71 251.76,1385.22 283.59,1384.74 315.42,1384.26 324.984,1383.38 334.549,1380.1 344.113,1376.82 353.677,1373.55 372.806,1366.99 391.934,1360.43 424.28,1349.34 456.626,1338.24 526.9,1311.81 591.685,1286.88 661.143,1258.15 741.616,1223.31 813.131,1191.49 875.843,1163.15 944.216,1131.81 1013,1099.62 1089.04,1063.8 1161.39,1029.22 1236.63,993.109 1299.96,962.402 1377.27,924.832 1448.1,890.125 1513.52,858.058 1579.78,825.34 1654.04,788.672 1721.34,755.27 1798.38,717.013 1869.72,681.463 1940.05,646.398 2008.34,612.281 2078.34,577.285 2155.04,538.909 2266.45,483.139 2289.31,471.7 \"/>\n",
       "<polyline clip-path=\"url(#clip912)\" style=\"stroke:#e26f46; stroke-linecap:round; stroke-linejoin:round; stroke-width:8; stroke-opacity:1; fill:none\" points=\"174.33,1383.98 188.1,1378.99 315.42,1332.86 391.934,1303.22 456.626,1278 526.9,1248.12 591.685,1219.98 661.143,1189.03 741.616,1152.58 813.131,1119.48 875.843,1090.1 944.216,1057.8 1013,1024.93 1089.04,988.411 1161.39,953.295 1236.63,916.666 1299.96,885.613 1377.27,847.644 1448.1,812.656 1513.52,780.333 1579.78,747.42 1654.04,710.533 1721.34,676.984 1798.38,638.562 1869.72,602.904 1940.05,567.738 2008.34,533.563 2078.34,498.519 2155.04,460.133 2266.45,404.399 2289.31,392.993 \"/>\n",
       "<polyline clip-path=\"url(#clip912)\" style=\"stroke:#3da44d; stroke-linecap:round; stroke-linejoin:round; stroke-width:8; stroke-opacity:1; fill:none\" points=\"174.33,1327.13 188.1,1321.69 315.42,1271.4 391.934,1238.36 456.626,1210.17 526.9,1178.52 591.685,1149.1 661.143,1116.93 741.616,1079.18 813.131,1045.22 875.843,1015.23 944.216,982.334 1013,948.942 1089.04,911.899 1161.39,876.397 1236.63,839.401 1299.96,808.104 1377.27,769.851 1448.1,734.659 1513.52,702.15 1579.78,669.098 1654.04,632.056 1721.34,598.41 1798.38,559.882 1869.72,524.171 1940.05,488.96 2008.34,454.786 2078.34,419.757 2155.04,381.454 2266.45,325.911 2289.31,314.576 \"/>\n",
       "<polyline clip-path=\"url(#clip912)\" style=\"stroke:#c271d2; stroke-linecap:round; stroke-linejoin:round; stroke-width:8; stroke-opacity:1; fill:none\" points=\"174.33,1264.68 188.1,1258.66 315.42,1203.01 391.934,1168.31 456.626,1138.86 526.9,1106.06 591.685,1075.63 661.143,1042.63 741.616,1004.11 813.131,969.56 875.843,939.103 944.216,905.754 1013,871.997 1089.04,834.586 1161.39,798.812 1236.63,761.555 1299.96,730.078 1377.27,691.619 1448.1,656.283 1513.52,623.642 1579.78,590.501 1654.04,553.359 1721.34,519.67 1798.38,481.095 1869.72,445.396 1940.05,410.204 2008.34,376.119 2078.34,341.201 2155.04,303.105 2266.45,247.978 2289.31,236.805 \"/>\n",
       "<polyline clip-path=\"url(#clip912)\" style=\"stroke:#ac8d18; stroke-linecap:round; stroke-linejoin:round; stroke-width:8; stroke-opacity:1; fill:none\" points=\"174.33,1195.77 188.1,1189.49 315.42,1131.39 391.934,1095.51 456.626,1065.08 526.9,1031.54 591.685,1000.5 661.143,966.931 741.616,927.822 813.131,892.842 875.843,862.054 944.216,828.387 1013,794.375 1089.04,756.706 1161.39,720.731 1236.63,683.284 1299.96,651.681 1377.27,613.079 1448.1,577.65 1513.52,544.927 1579.78,511.749 1654.04,474.566 1721.34,440.894 1798.38,402.344 1869.72,366.754 1940.05,331.68 2008.34,297.798 2078.34,263.115 2155.04,225.481 2266.45,171.206 2289.31,160.256 \"/>\n",
       "<path clip-path=\"url(#clip910)\" d=\"M185.61 477.836 L619.935 477.836 L619.935 166.796 L185.61 166.796  Z\" fill=\"#ffffff\" fill-rule=\"evenodd\" fill-opacity=\"1\"/>\n",
       "<polyline clip-path=\"url(#clip910)\" style=\"stroke:#000000; stroke-linecap:round; stroke-linejoin:round; stroke-width:4; stroke-opacity:1; fill:none\" points=\"185.61,477.836 619.935,477.836 619.935,166.796 185.61,166.796 185.61,477.836 \"/>\n",
       "<polyline clip-path=\"url(#clip910)\" style=\"stroke:#009af9; stroke-linecap:round; stroke-linejoin:round; stroke-width:8; stroke-opacity:1; fill:none\" points=\"210.52,218.636 359.978,218.636 \"/>\n",
       "<path clip-path=\"url(#clip910)\" d=\"M384.888 199.897 L389.147 199.897 L389.147 235.916 L384.888 235.916 L384.888 199.897 Z\" fill=\"#000000\" fill-rule=\"nonzero\" fill-opacity=\"1\" /><path clip-path=\"url(#clip910)\" d=\"M413.684 214.388 L443.36 214.388 L443.36 218.277 L413.684 218.277 L413.684 214.388 M413.684 223.832 L443.36 223.832 L443.36 227.768 L413.684 227.768 L413.684 223.832 Z\" fill=\"#000000\" fill-rule=\"nonzero\" fill-opacity=\"1\" /><path clip-path=\"url(#clip910)\" d=\"M478.522 204.434 Q474.91 204.434 473.082 207.999 Q471.276 211.541 471.276 218.67 Q471.276 225.777 473.082 229.342 Q474.91 232.883 478.522 232.883 Q482.156 232.883 483.961 229.342 Q485.79 225.777 485.79 218.67 Q485.79 211.541 483.961 207.999 Q482.156 204.434 478.522 204.434 M478.522 200.731 Q484.332 200.731 487.387 205.337 Q490.466 209.92 490.466 218.67 Q490.466 227.397 487.387 232.004 Q484.332 236.587 478.522 236.587 Q472.711 236.587 469.633 232.004 Q466.577 227.397 466.577 218.67 Q466.577 209.92 469.633 205.337 Q472.711 200.731 478.522 200.731 Z\" fill=\"#000000\" fill-rule=\"nonzero\" fill-opacity=\"1\" /><path clip-path=\"url(#clip910)\" d=\"M498.684 230.036 L503.568 230.036 L503.568 235.916 L498.684 235.916 L498.684 230.036 Z\" fill=\"#000000\" fill-rule=\"nonzero\" fill-opacity=\"1\" /><path clip-path=\"url(#clip910)\" d=\"M527.919 217.282 Q531.276 217.999 533.151 220.268 Q535.049 222.536 535.049 225.869 Q535.049 230.985 531.531 233.786 Q528.012 236.587 521.531 236.587 Q519.355 236.587 517.04 236.147 Q514.748 235.731 512.295 234.874 L512.295 230.36 Q514.239 231.494 516.554 232.073 Q518.869 232.652 521.392 232.652 Q525.79 232.652 528.082 230.916 Q530.396 229.18 530.396 225.869 Q530.396 222.814 528.244 221.101 Q526.114 219.365 522.295 219.365 L518.267 219.365 L518.267 215.522 L522.48 215.522 Q525.929 215.522 527.757 214.157 Q529.586 212.768 529.586 210.175 Q529.586 207.513 527.688 206.101 Q525.813 204.666 522.295 204.666 Q520.373 204.666 518.174 205.083 Q515.975 205.499 513.336 206.379 L513.336 202.212 Q515.998 201.471 518.313 201.101 Q520.651 200.731 522.711 200.731 Q528.035 200.731 531.137 203.161 Q534.239 205.569 534.239 209.689 Q534.239 212.559 532.595 214.55 Q530.952 216.518 527.919 217.282 Z\" fill=\"#000000\" fill-rule=\"nonzero\" fill-opacity=\"1\" /><polyline clip-path=\"url(#clip910)\" style=\"stroke:#e26f46; stroke-linecap:round; stroke-linejoin:round; stroke-width:8; stroke-opacity:1; fill:none\" points=\"210.52,270.476 359.978,270.476 \"/>\n",
       "<path clip-path=\"url(#clip910)\" d=\"M384.888 251.737 L389.147 251.737 L389.147 287.756 L384.888 287.756 L384.888 251.737 Z\" fill=\"#000000\" fill-rule=\"nonzero\" fill-opacity=\"1\" /><path clip-path=\"url(#clip910)\" d=\"M413.684 266.228 L443.36 266.228 L443.36 270.117 L413.684 270.117 L413.684 266.228 M413.684 275.672 L443.36 275.672 L443.36 279.608 L413.684 279.608 L413.684 275.672 Z\" fill=\"#000000\" fill-rule=\"nonzero\" fill-opacity=\"1\" /><path clip-path=\"url(#clip910)\" d=\"M478.522 256.274 Q474.91 256.274 473.082 259.839 Q471.276 263.381 471.276 270.51 Q471.276 277.617 473.082 281.182 Q474.91 284.723 478.522 284.723 Q482.156 284.723 483.961 281.182 Q485.79 277.617 485.79 270.51 Q485.79 263.381 483.961 259.839 Q482.156 256.274 478.522 256.274 M478.522 252.571 Q484.332 252.571 487.387 257.177 Q490.466 261.76 490.466 270.51 Q490.466 279.237 487.387 283.844 Q484.332 288.427 478.522 288.427 Q472.711 288.427 469.633 283.844 Q466.577 279.237 466.577 270.51 Q466.577 261.76 469.633 257.177 Q472.711 252.571 478.522 252.571 Z\" fill=\"#000000\" fill-rule=\"nonzero\" fill-opacity=\"1\" /><path clip-path=\"url(#clip910)\" d=\"M498.684 281.876 L503.568 281.876 L503.568 287.756 L498.684 287.756 L498.684 281.876 Z\" fill=\"#000000\" fill-rule=\"nonzero\" fill-opacity=\"1\" /><path clip-path=\"url(#clip910)\" d=\"M526.6 257.27 L514.795 275.719 L526.6 275.719 L526.6 257.27 M525.373 253.196 L531.253 253.196 L531.253 275.719 L536.183 275.719 L536.183 279.608 L531.253 279.608 L531.253 287.756 L526.6 287.756 L526.6 279.608 L510.998 279.608 L510.998 275.094 L525.373 253.196 Z\" fill=\"#000000\" fill-rule=\"nonzero\" fill-opacity=\"1\" /><path clip-path=\"url(#clip910)\" d=\"M542.734 253.196 L564.956 253.196 L564.956 255.186 L552.41 287.756 L547.526 287.756 L559.331 257.131 L542.734 257.131 L542.734 253.196 Z\" fill=\"#000000\" fill-rule=\"nonzero\" fill-opacity=\"1\" /><path clip-path=\"url(#clip910)\" d=\"M574.123 253.196 L592.479 253.196 L592.479 257.131 L578.405 257.131 L578.405 265.603 Q579.424 265.256 580.442 265.094 Q581.461 264.909 582.479 264.909 Q588.266 264.909 591.646 268.08 Q595.026 271.251 595.026 276.668 Q595.026 282.246 591.553 285.348 Q588.081 288.427 581.762 288.427 Q579.586 288.427 577.317 288.057 Q575.072 287.686 572.665 286.946 L572.665 282.246 Q574.748 283.381 576.97 283.936 Q579.192 284.492 581.669 284.492 Q585.674 284.492 588.012 282.385 Q590.35 280.279 590.35 276.668 Q590.35 273.057 588.012 270.95 Q585.674 268.844 581.669 268.844 Q579.794 268.844 577.919 269.26 Q576.067 269.677 574.123 270.557 L574.123 253.196 Z\" fill=\"#000000\" fill-rule=\"nonzero\" fill-opacity=\"1\" /><polyline clip-path=\"url(#clip910)\" style=\"stroke:#3da44d; stroke-linecap:round; stroke-linejoin:round; stroke-width:8; stroke-opacity:1; fill:none\" points=\"210.52,322.316 359.978,322.316 \"/>\n",
       "<path clip-path=\"url(#clip910)\" d=\"M384.888 303.577 L389.147 303.577 L389.147 339.596 L384.888 339.596 L384.888 303.577 Z\" fill=\"#000000\" fill-rule=\"nonzero\" fill-opacity=\"1\" /><path clip-path=\"url(#clip910)\" d=\"M413.684 318.068 L443.36 318.068 L443.36 321.957 L413.684 321.957 L413.684 318.068 M413.684 327.512 L443.36 327.512 L443.36 331.448 L413.684 331.448 L413.684 327.512 Z\" fill=\"#000000\" fill-rule=\"nonzero\" fill-opacity=\"1\" /><path clip-path=\"url(#clip910)\" d=\"M478.522 308.114 Q474.91 308.114 473.082 311.679 Q471.276 315.221 471.276 322.35 Q471.276 329.457 473.082 333.022 Q474.91 336.563 478.522 336.563 Q482.156 336.563 483.961 333.022 Q485.79 329.457 485.79 322.35 Q485.79 315.221 483.961 311.679 Q482.156 308.114 478.522 308.114 M478.522 304.411 Q484.332 304.411 487.387 309.017 Q490.466 313.6 490.466 322.35 Q490.466 331.077 487.387 335.684 Q484.332 340.267 478.522 340.267 Q472.711 340.267 469.633 335.684 Q466.577 331.077 466.577 322.35 Q466.577 313.6 469.633 309.017 Q472.711 304.411 478.522 304.411 Z\" fill=\"#000000\" fill-rule=\"nonzero\" fill-opacity=\"1\" /><path clip-path=\"url(#clip910)\" d=\"M498.684 333.716 L503.568 333.716 L503.568 339.596 L498.684 339.596 L498.684 333.716 Z\" fill=\"#000000\" fill-rule=\"nonzero\" fill-opacity=\"1\" /><path clip-path=\"url(#clip910)\" d=\"M524.332 320.452 Q521.183 320.452 519.332 322.605 Q517.503 324.758 517.503 328.508 Q517.503 332.235 519.332 334.411 Q521.183 336.563 524.332 336.563 Q527.48 336.563 529.308 334.411 Q531.16 332.235 531.16 328.508 Q531.16 324.758 529.308 322.605 Q527.48 320.452 524.332 320.452 M533.614 305.8 L533.614 310.059 Q531.855 309.226 530.049 308.786 Q528.267 308.346 526.507 308.346 Q521.878 308.346 519.424 311.471 Q516.994 314.596 516.646 320.915 Q518.012 318.901 520.072 317.837 Q522.132 316.749 524.609 316.749 Q529.818 316.749 532.827 319.92 Q535.859 323.068 535.859 328.508 Q535.859 333.832 532.711 337.049 Q529.563 340.267 524.332 340.267 Q518.336 340.267 515.165 335.684 Q511.994 331.077 511.994 322.35 Q511.994 314.156 515.883 309.295 Q519.771 304.411 526.322 304.411 Q528.082 304.411 529.864 304.758 Q531.669 305.105 533.614 305.8 Z\" fill=\"#000000\" fill-rule=\"nonzero\" fill-opacity=\"1\" /><path clip-path=\"url(#clip910)\" d=\"M543.961 305.036 L562.317 305.036 L562.317 308.971 L548.243 308.971 L548.243 317.443 Q549.262 317.096 550.28 316.934 Q551.299 316.749 552.317 316.749 Q558.104 316.749 561.484 319.92 Q564.864 323.091 564.864 328.508 Q564.864 334.086 561.392 337.188 Q557.919 340.267 551.6 340.267 Q549.424 340.267 547.155 339.897 Q544.91 339.526 542.503 338.786 L542.503 334.086 Q544.586 335.221 546.808 335.776 Q549.03 336.332 551.507 336.332 Q555.512 336.332 557.85 334.225 Q560.188 332.119 560.188 328.508 Q560.188 324.897 557.85 322.79 Q555.512 320.684 551.507 320.684 Q549.632 320.684 547.757 321.1 Q545.905 321.517 543.961 322.397 L543.961 305.036 Z\" fill=\"#000000\" fill-rule=\"nonzero\" fill-opacity=\"1\" /><polyline clip-path=\"url(#clip910)\" style=\"stroke:#c271d2; stroke-linecap:round; stroke-linejoin:round; stroke-width:8; stroke-opacity:1; fill:none\" points=\"210.52,374.156 359.978,374.156 \"/>\n",
       "<path clip-path=\"url(#clip910)\" d=\"M384.888 355.417 L389.147 355.417 L389.147 391.436 L384.888 391.436 L384.888 355.417 Z\" fill=\"#000000\" fill-rule=\"nonzero\" fill-opacity=\"1\" /><path clip-path=\"url(#clip910)\" d=\"M413.684 369.908 L443.36 369.908 L443.36 373.797 L413.684 373.797 L413.684 369.908 M413.684 379.352 L443.36 379.352 L443.36 383.288 L413.684 383.288 L413.684 379.352 Z\" fill=\"#000000\" fill-rule=\"nonzero\" fill-opacity=\"1\" /><path clip-path=\"url(#clip910)\" d=\"M478.522 359.954 Q474.91 359.954 473.082 363.519 Q471.276 367.061 471.276 374.19 Q471.276 381.297 473.082 384.862 Q474.91 388.403 478.522 388.403 Q482.156 388.403 483.961 384.862 Q485.79 381.297 485.79 374.19 Q485.79 367.061 483.961 363.519 Q482.156 359.954 478.522 359.954 M478.522 356.251 Q484.332 356.251 487.387 360.857 Q490.466 365.44 490.466 374.19 Q490.466 382.917 487.387 387.524 Q484.332 392.107 478.522 392.107 Q472.711 392.107 469.633 387.524 Q466.577 382.917 466.577 374.19 Q466.577 365.44 469.633 360.857 Q472.711 356.251 478.522 356.251 Z\" fill=\"#000000\" fill-rule=\"nonzero\" fill-opacity=\"1\" /><path clip-path=\"url(#clip910)\" d=\"M498.684 385.556 L503.568 385.556 L503.568 391.436 L498.684 391.436 L498.684 385.556 Z\" fill=\"#000000\" fill-rule=\"nonzero\" fill-opacity=\"1\" /><path clip-path=\"url(#clip910)\" d=\"M523.753 375.024 Q520.42 375.024 518.498 376.806 Q516.6 378.589 516.6 381.714 Q516.6 384.839 518.498 386.621 Q520.42 388.403 523.753 388.403 Q527.086 388.403 529.007 386.621 Q530.929 384.815 530.929 381.714 Q530.929 378.589 529.007 376.806 Q527.109 375.024 523.753 375.024 M519.077 373.033 Q516.068 372.292 514.378 370.232 Q512.711 368.172 512.711 365.209 Q512.711 361.066 515.651 358.658 Q518.614 356.251 523.753 356.251 Q528.915 356.251 531.855 358.658 Q534.794 361.066 534.794 365.209 Q534.794 368.172 533.105 370.232 Q531.438 372.292 528.452 373.033 Q531.831 373.82 533.706 376.112 Q535.605 378.403 535.605 381.714 Q535.605 386.737 532.526 389.422 Q529.47 392.107 523.753 392.107 Q518.035 392.107 514.957 389.422 Q511.901 386.737 511.901 381.714 Q511.901 378.403 513.799 376.112 Q515.697 373.82 519.077 373.033 M517.364 365.649 Q517.364 368.334 519.031 369.839 Q520.72 371.343 523.753 371.343 Q526.762 371.343 528.452 369.839 Q530.165 368.334 530.165 365.649 Q530.165 362.964 528.452 361.459 Q526.762 359.954 523.753 359.954 Q520.72 359.954 519.031 361.459 Q517.364 362.964 517.364 365.649 Z\" fill=\"#000000\" fill-rule=\"nonzero\" fill-opacity=\"1\" /><path clip-path=\"url(#clip910)\" d=\"M547.943 387.501 L564.262 387.501 L564.262 391.436 L542.318 391.436 L542.318 387.501 Q544.98 384.746 549.563 380.116 Q554.169 375.464 555.35 374.121 Q557.595 371.598 558.475 369.862 Q559.378 368.103 559.378 366.413 Q559.378 363.658 557.433 361.922 Q555.512 360.186 552.41 360.186 Q550.211 360.186 547.757 360.95 Q545.327 361.714 542.549 363.265 L542.549 358.542 Q545.373 357.408 547.827 356.829 Q550.28 356.251 552.317 356.251 Q557.688 356.251 560.882 358.936 Q564.077 361.621 564.077 366.112 Q564.077 368.241 563.267 370.163 Q562.479 372.061 560.373 374.653 Q559.794 375.325 556.692 378.542 Q553.591 381.737 547.943 387.501 Z\" fill=\"#000000\" fill-rule=\"nonzero\" fill-opacity=\"1\" /><path clip-path=\"url(#clip910)\" d=\"M574.123 356.876 L592.479 356.876 L592.479 360.811 L578.405 360.811 L578.405 369.283 Q579.424 368.936 580.442 368.774 Q581.461 368.589 582.479 368.589 Q588.266 368.589 591.646 371.76 Q595.026 374.931 595.026 380.348 Q595.026 385.926 591.553 389.028 Q588.081 392.107 581.762 392.107 Q579.586 392.107 577.317 391.737 Q575.072 391.366 572.665 390.626 L572.665 385.926 Q574.748 387.061 576.97 387.616 Q579.192 388.172 581.669 388.172 Q585.674 388.172 588.012 386.065 Q590.35 383.959 590.35 380.348 Q590.35 376.737 588.012 374.63 Q585.674 372.524 581.669 372.524 Q579.794 372.524 577.919 372.94 Q576.067 373.357 574.123 374.237 L574.123 356.876 Z\" fill=\"#000000\" fill-rule=\"nonzero\" fill-opacity=\"1\" /><polyline clip-path=\"url(#clip910)\" style=\"stroke:#ac8d18; stroke-linecap:round; stroke-linejoin:round; stroke-width:8; stroke-opacity:1; fill:none\" points=\"210.52,425.996 359.978,425.996 \"/>\n",
       "<path clip-path=\"url(#clip910)\" d=\"M384.888 407.257 L389.147 407.257 L389.147 443.276 L384.888 443.276 L384.888 407.257 Z\" fill=\"#000000\" fill-rule=\"nonzero\" fill-opacity=\"1\" /><path clip-path=\"url(#clip910)\" d=\"M413.684 421.748 L443.36 421.748 L443.36 425.637 L413.684 425.637 L413.684 421.748 M413.684 431.192 L443.36 431.192 L443.36 435.128 L413.684 435.128 L413.684 431.192 Z\" fill=\"#000000\" fill-rule=\"nonzero\" fill-opacity=\"1\" /><path clip-path=\"url(#clip910)\" d=\"M469.332 439.341 L476.971 439.341 L476.971 412.975 L468.661 414.642 L468.661 410.382 L476.924 408.716 L481.6 408.716 L481.6 439.341 L489.239 439.341 L489.239 443.276 L469.332 443.276 L469.332 439.341 Z\" fill=\"#000000\" fill-rule=\"nonzero\" fill-opacity=\"1\" /><path clip-path=\"url(#clip910)\" d=\"M498.684 437.396 L503.568 437.396 L503.568 443.276 L498.684 443.276 L498.684 437.396 Z\" fill=\"#000000\" fill-rule=\"nonzero\" fill-opacity=\"1\" /><path clip-path=\"url(#clip910)\" d=\"M523.753 411.794 Q520.142 411.794 518.313 415.359 Q516.507 418.901 516.507 426.03 Q516.507 433.137 518.313 436.702 Q520.142 440.243 523.753 440.243 Q527.387 440.243 529.193 436.702 Q531.021 433.137 531.021 426.03 Q531.021 418.901 529.193 415.359 Q527.387 411.794 523.753 411.794 M523.753 408.091 Q529.563 408.091 532.619 412.697 Q535.697 417.28 535.697 426.03 Q535.697 434.757 532.619 439.364 Q529.563 443.947 523.753 443.947 Q517.943 443.947 514.864 439.364 Q511.808 434.757 511.808 426.03 Q511.808 417.28 514.864 412.697 Q517.943 408.091 523.753 408.091 Z\" fill=\"#000000\" fill-rule=\"nonzero\" fill-opacity=\"1\" /></svg>\n"
      ],
      "text/html": [
       "<?xml version=\"1.0\" encoding=\"utf-8\"?>\n",
       "<svg xmlns=\"http://www.w3.org/2000/svg\" xmlns:xlink=\"http://www.w3.org/1999/xlink\" width=\"600\" height=\"400\" viewBox=\"0 0 2400 1600\">\n",
       "<defs>\n",
       "  <clipPath id=\"clip960\">\n",
       "    <rect x=\"0\" y=\"0\" width=\"2400\" height=\"1600\"/>\n",
       "  </clipPath>\n",
       "</defs>\n",
       "<path clip-path=\"url(#clip960)\" d=\"M0 1600 L2400 1600 L2400 0 L0 0  Z\" fill=\"#ffffff\" fill-rule=\"evenodd\" fill-opacity=\"1\"/>\n",
       "<defs>\n",
       "  <clipPath id=\"clip961\">\n",
       "    <rect x=\"480\" y=\"0\" width=\"1681\" height=\"1600\"/>\n",
       "  </clipPath>\n",
       "</defs>\n",
       "<path clip-path=\"url(#clip960)\" d=\"M110.881 1423.18 L2352.76 1423.18 L2352.76 123.472 L110.881 123.472  Z\" fill=\"#ffffff\" fill-rule=\"evenodd\" fill-opacity=\"1\"/>\n",
       "<defs>\n",
       "  <clipPath id=\"clip962\">\n",
       "    <rect x=\"110\" y=\"123\" width=\"2243\" height=\"1301\"/>\n",
       "  </clipPath>\n",
       "</defs>\n",
       "<polyline clip-path=\"url(#clip962)\" style=\"stroke:#000000; stroke-linecap:round; stroke-linejoin:round; stroke-width:2; stroke-opacity:0.1; fill:none\" points=\"174.33,1423.18 174.33,123.472 \"/>\n",
       "<polyline clip-path=\"url(#clip962)\" style=\"stroke:#000000; stroke-linecap:round; stroke-linejoin:round; stroke-width:2; stroke-opacity:0.1; fill:none\" points=\"879.322,1423.18 879.322,123.472 \"/>\n",
       "<polyline clip-path=\"url(#clip962)\" style=\"stroke:#000000; stroke-linecap:round; stroke-linejoin:round; stroke-width:2; stroke-opacity:0.1; fill:none\" points=\"1584.31,1423.18 1584.31,123.472 \"/>\n",
       "<polyline clip-path=\"url(#clip962)\" style=\"stroke:#000000; stroke-linecap:round; stroke-linejoin:round; stroke-width:2; stroke-opacity:0.1; fill:none\" points=\"2289.31,1423.18 2289.31,123.472 \"/>\n",
       "<polyline clip-path=\"url(#clip962)\" style=\"stroke:#000000; stroke-linecap:round; stroke-linejoin:round; stroke-width:2; stroke-opacity:0.1; fill:none\" points=\"110.881,1383.27 2352.76,1383.27 \"/>\n",
       "<polyline clip-path=\"url(#clip962)\" style=\"stroke:#000000; stroke-linecap:round; stroke-linejoin:round; stroke-width:2; stroke-opacity:0.1; fill:none\" points=\"110.881,1017.99 2352.76,1017.99 \"/>\n",
       "<polyline clip-path=\"url(#clip962)\" style=\"stroke:#000000; stroke-linecap:round; stroke-linejoin:round; stroke-width:2; stroke-opacity:0.1; fill:none\" points=\"110.881,652.716 2352.76,652.716 \"/>\n",
       "<polyline clip-path=\"url(#clip962)\" style=\"stroke:#000000; stroke-linecap:round; stroke-linejoin:round; stroke-width:2; stroke-opacity:0.1; fill:none\" points=\"110.881,287.438 2352.76,287.438 \"/>\n",
       "<polyline clip-path=\"url(#clip960)\" style=\"stroke:#000000; stroke-linecap:round; stroke-linejoin:round; stroke-width:4; stroke-opacity:1; fill:none\" points=\"110.881,1423.18 2352.76,1423.18 \"/>\n",
       "<polyline clip-path=\"url(#clip960)\" style=\"stroke:#000000; stroke-linecap:round; stroke-linejoin:round; stroke-width:4; stroke-opacity:1; fill:none\" points=\"174.33,1423.18 174.33,1404.28 \"/>\n",
       "<polyline clip-path=\"url(#clip960)\" style=\"stroke:#000000; stroke-linecap:round; stroke-linejoin:round; stroke-width:4; stroke-opacity:1; fill:none\" points=\"879.322,1423.18 879.322,1404.28 \"/>\n",
       "<polyline clip-path=\"url(#clip960)\" style=\"stroke:#000000; stroke-linecap:round; stroke-linejoin:round; stroke-width:4; stroke-opacity:1; fill:none\" points=\"1584.31,1423.18 1584.31,1404.28 \"/>\n",
       "<polyline clip-path=\"url(#clip960)\" style=\"stroke:#000000; stroke-linecap:round; stroke-linejoin:round; stroke-width:4; stroke-opacity:1; fill:none\" points=\"2289.31,1423.18 2289.31,1404.28 \"/>\n",
       "<path clip-path=\"url(#clip960)\" d=\"M174.33 1454.1 Q170.719 1454.1 168.89 1457.66 Q167.085 1461.2 167.085 1468.33 Q167.085 1475.44 168.89 1479.01 Q170.719 1482.55 174.33 1482.55 Q177.964 1482.55 179.77 1479.01 Q181.599 1475.44 181.599 1468.33 Q181.599 1461.2 179.77 1457.66 Q177.964 1454.1 174.33 1454.1 M174.33 1450.39 Q180.14 1450.39 183.196 1455 Q186.275 1459.58 186.275 1468.33 Q186.275 1477.06 183.196 1481.67 Q180.14 1486.25 174.33 1486.25 Q168.52 1486.25 165.441 1481.67 Q162.386 1477.06 162.386 1468.33 Q162.386 1459.58 165.441 1455 Q168.52 1450.39 174.33 1450.39 Z\" fill=\"#000000\" fill-rule=\"nonzero\" fill-opacity=\"1\" /><path clip-path=\"url(#clip960)\" d=\"M869.704 1481.64 L877.343 1481.64 L877.343 1455.28 L869.033 1456.95 L869.033 1452.69 L877.297 1451.02 L881.973 1451.02 L881.973 1481.64 L889.612 1481.64 L889.612 1485.58 L869.704 1485.58 L869.704 1481.64 Z\" fill=\"#000000\" fill-rule=\"nonzero\" fill-opacity=\"1\" /><path clip-path=\"url(#clip960)\" d=\"M1578.97 1481.64 L1595.29 1481.64 L1595.29 1485.58 L1573.34 1485.58 L1573.34 1481.64 Q1576 1478.89 1580.59 1474.26 Q1585.19 1469.61 1586.37 1468.27 Q1588.62 1465.74 1589.5 1464.01 Q1590.4 1462.25 1590.4 1460.56 Q1590.4 1457.8 1588.46 1456.07 Q1586.54 1454.33 1583.43 1454.33 Q1581.24 1454.33 1578.78 1455.09 Q1576.35 1455.86 1573.57 1457.41 L1573.57 1452.69 Q1576.4 1451.55 1578.85 1450.97 Q1581.31 1450.39 1583.34 1450.39 Q1588.71 1450.39 1591.91 1453.08 Q1595.1 1455.77 1595.1 1460.26 Q1595.1 1462.39 1594.29 1464.31 Q1593.5 1466.2 1591.4 1468.8 Q1590.82 1469.47 1587.72 1472.69 Q1584.62 1475.88 1578.97 1481.64 Z\" fill=\"#000000\" fill-rule=\"nonzero\" fill-opacity=\"1\" /><path clip-path=\"url(#clip960)\" d=\"M2293.55 1466.95 Q2296.91 1467.66 2298.79 1469.93 Q2300.68 1472.2 2300.68 1475.53 Q2300.68 1480.65 2297.17 1483.45 Q2293.65 1486.25 2287.17 1486.25 Q2284.99 1486.25 2282.67 1485.81 Q2280.38 1485.39 2277.93 1484.54 L2277.93 1480.02 Q2279.87 1481.16 2282.19 1481.74 Q2284.5 1482.32 2287.03 1482.32 Q2291.42 1482.32 2293.72 1480.58 Q2296.03 1478.84 2296.03 1475.53 Q2296.03 1472.48 2293.88 1470.77 Q2291.75 1469.03 2287.93 1469.03 L2283.9 1469.03 L2283.9 1465.19 L2288.11 1465.19 Q2291.56 1465.19 2293.39 1463.82 Q2295.22 1462.43 2295.22 1459.84 Q2295.22 1457.18 2293.32 1455.77 Q2291.45 1454.33 2287.93 1454.33 Q2286.01 1454.33 2283.81 1454.75 Q2281.61 1455.16 2278.97 1456.04 L2278.97 1451.88 Q2281.63 1451.14 2283.95 1450.77 Q2286.29 1450.39 2288.35 1450.39 Q2293.67 1450.39 2296.77 1452.83 Q2299.87 1455.23 2299.87 1459.35 Q2299.87 1462.22 2298.23 1464.21 Q2296.59 1466.18 2293.55 1466.95 Z\" fill=\"#000000\" fill-rule=\"nonzero\" fill-opacity=\"1\" /><path clip-path=\"url(#clip960)\" d=\"M1049.5 1526.86 L1040.78 1550.51 L1058.26 1550.51 L1049.5 1526.86 M1045.88 1520.52 L1053.16 1520.52 L1071.28 1568.04 L1064.59 1568.04 L1060.26 1555.85 L1038.84 1555.85 L1034.51 1568.04 L1027.73 1568.04 L1045.88 1520.52 Z\" fill=\"#000000\" fill-rule=\"nonzero\" fill-opacity=\"1\" /><path clip-path=\"url(#clip960)\" d=\"M1100.68 1533.45 L1100.68 1538.98 Q1098.2 1537.71 1095.53 1537.07 Q1092.86 1536.44 1089.99 1536.44 Q1085.63 1536.44 1083.43 1537.77 Q1081.27 1539.11 1081.27 1541.79 Q1081.27 1543.82 1082.83 1545 Q1084.39 1546.15 1089.1 1547.2 L1091.1 1547.64 Q1097.34 1548.98 1099.95 1551.43 Q1102.59 1553.85 1102.59 1558.21 Q1102.59 1563.17 1098.65 1566.07 Q1094.73 1568.97 1087.86 1568.97 Q1084.99 1568.97 1081.87 1568.39 Q1078.79 1567.85 1075.35 1566.74 L1075.35 1560.69 Q1078.6 1562.38 1081.75 1563.24 Q1084.9 1564.07 1087.99 1564.07 Q1092.12 1564.07 1094.35 1562.66 Q1096.58 1561.23 1096.58 1558.65 Q1096.58 1556.27 1094.96 1554.99 Q1093.36 1553.72 1087.92 1552.54 L1085.88 1552.07 Q1080.44 1550.92 1078.02 1548.56 Q1075.6 1546.18 1075.6 1542.04 Q1075.6 1537.01 1079.17 1534.27 Q1082.73 1531.54 1089.29 1531.54 Q1092.54 1531.54 1095.4 1532.01 Q1098.27 1532.49 1100.68 1533.45 Z\" fill=\"#000000\" fill-rule=\"nonzero\" fill-opacity=\"1\" /><path clip-path=\"url(#clip960)\" d=\"M1134.65 1533.45 L1134.65 1538.98 Q1132.16 1537.71 1129.49 1537.07 Q1126.82 1536.44 1123.95 1536.44 Q1119.59 1536.44 1117.39 1537.77 Q1115.23 1539.11 1115.23 1541.79 Q1115.23 1543.82 1116.79 1545 Q1118.35 1546.15 1123.06 1547.2 L1125.07 1547.64 Q1131.3 1548.98 1133.91 1551.43 Q1136.56 1553.85 1136.56 1558.21 Q1136.56 1563.17 1132.61 1566.07 Q1128.69 1568.97 1121.82 1568.97 Q1118.95 1568.97 1115.84 1568.39 Q1112.75 1567.85 1109.31 1566.74 L1109.31 1560.69 Q1112.56 1562.38 1115.71 1563.24 Q1118.86 1564.07 1121.95 1564.07 Q1126.08 1564.07 1128.31 1562.66 Q1130.54 1561.23 1130.54 1558.65 Q1130.54 1556.27 1128.92 1554.99 Q1127.33 1553.72 1121.88 1552.54 L1119.85 1552.07 Q1114.4 1550.92 1111.98 1548.56 Q1109.57 1546.18 1109.57 1542.04 Q1109.57 1537.01 1113.13 1534.27 Q1116.69 1531.54 1123.25 1531.54 Q1126.5 1531.54 1129.36 1532.01 Q1132.23 1532.49 1134.65 1533.45 Z\" fill=\"#000000\" fill-rule=\"nonzero\" fill-opacity=\"1\" /><path clip-path=\"url(#clip960)\" d=\"M1176.37 1548.76 L1176.37 1551.62 L1149.45 1551.62 Q1149.83 1557.67 1153.07 1560.85 Q1156.35 1564 1162.18 1564 Q1165.55 1564 1168.7 1563.17 Q1171.89 1562.35 1175 1560.69 L1175 1566.23 Q1171.85 1567.57 1168.54 1568.27 Q1165.23 1568.97 1161.83 1568.97 Q1153.3 1568.97 1148.3 1564 Q1143.34 1559.04 1143.34 1550.57 Q1143.34 1541.82 1148.05 1536.69 Q1152.79 1531.54 1160.81 1531.54 Q1168 1531.54 1172.17 1536.18 Q1176.37 1540.8 1176.37 1548.76 M1170.52 1547.04 Q1170.45 1542.23 1167.81 1539.37 Q1165.2 1536.5 1160.87 1536.5 Q1155.97 1536.5 1153.01 1539.27 Q1150.08 1542.04 1149.64 1547.07 L1170.52 1547.04 Z\" fill=\"#000000\" fill-rule=\"nonzero\" fill-opacity=\"1\" /><path clip-path=\"url(#clip960)\" d=\"M1191.78 1522.27 L1191.78 1532.4 L1203.84 1532.4 L1203.84 1536.95 L1191.78 1536.95 L1191.78 1556.3 Q1191.78 1560.66 1192.96 1561.9 Q1194.17 1563.14 1197.83 1563.14 L1203.84 1563.14 L1203.84 1568.04 L1197.83 1568.04 Q1191.05 1568.04 1188.47 1565.53 Q1185.89 1562.98 1185.89 1556.3 L1185.89 1536.95 L1181.59 1536.95 L1181.59 1532.4 L1185.89 1532.4 L1185.89 1522.27 L1191.78 1522.27 Z\" fill=\"#000000\" fill-rule=\"nonzero\" fill-opacity=\"1\" /><path clip-path=\"url(#clip960)\" d=\"M1244.77 1568.04 L1226.63 1520.52 L1233.35 1520.52 L1248.4 1560.53 L1263.49 1520.52 L1270.17 1520.52 L1252.06 1568.04 L1244.77 1568.04 Z\" fill=\"#000000\" fill-rule=\"nonzero\" fill-opacity=\"1\" /><path clip-path=\"url(#clip960)\" d=\"M1288 1550.12 Q1280.9 1550.12 1278.16 1551.75 Q1275.42 1553.37 1275.42 1557.29 Q1275.42 1560.4 1277.46 1562.25 Q1279.53 1564.07 1283.06 1564.07 Q1287.93 1564.07 1290.86 1560.63 Q1293.82 1557.16 1293.82 1551.43 L1293.82 1550.12 L1288 1550.12 M1299.68 1547.71 L1299.68 1568.04 L1293.82 1568.04 L1293.82 1562.63 Q1291.82 1565.88 1288.82 1567.44 Q1285.83 1568.97 1281.5 1568.97 Q1276.03 1568.97 1272.78 1565.91 Q1269.57 1562.82 1269.57 1557.67 Q1269.57 1551.65 1273.58 1548.6 Q1277.62 1545.54 1285.61 1545.54 L1293.82 1545.54 L1293.82 1544.97 Q1293.82 1540.93 1291.15 1538.73 Q1288.51 1536.5 1283.7 1536.5 Q1280.64 1536.5 1277.75 1537.23 Q1274.85 1537.97 1272.18 1539.43 L1272.18 1534.02 Q1275.39 1532.78 1278.42 1532.17 Q1281.44 1531.54 1284.3 1531.54 Q1292.04 1531.54 1295.86 1535.55 Q1299.68 1539.56 1299.68 1547.71 Z\" fill=\"#000000\" fill-rule=\"nonzero\" fill-opacity=\"1\" /><path clip-path=\"url(#clip960)\" d=\"M1311.74 1518.52 L1317.6 1518.52 L1317.6 1568.04 L1311.74 1568.04 L1311.74 1518.52 Z\" fill=\"#000000\" fill-rule=\"nonzero\" fill-opacity=\"1\" /><path clip-path=\"url(#clip960)\" d=\"M1329.25 1553.98 L1329.25 1532.4 L1335.1 1532.4 L1335.1 1553.75 Q1335.1 1558.81 1337.08 1561.36 Q1339.05 1563.87 1343 1563.87 Q1347.74 1563.87 1350.48 1560.85 Q1353.24 1557.83 1353.24 1552.61 L1353.24 1532.4 L1359.1 1532.4 L1359.1 1568.04 L1353.24 1568.04 L1353.24 1562.57 Q1351.11 1565.82 1348.28 1567.41 Q1345.48 1568.97 1341.75 1568.97 Q1335.61 1568.97 1332.43 1565.15 Q1329.25 1561.33 1329.25 1553.98 M1343.98 1531.54 L1343.98 1531.54 Z\" fill=\"#000000\" fill-rule=\"nonzero\" fill-opacity=\"1\" /><path clip-path=\"url(#clip960)\" d=\"M1401.66 1548.76 L1401.66 1551.62 L1374.73 1551.62 Q1375.11 1557.67 1378.36 1560.85 Q1381.64 1564 1387.46 1564 Q1390.83 1564 1393.98 1563.17 Q1397.17 1562.35 1400.29 1560.69 L1400.29 1566.23 Q1397.14 1567.57 1393.83 1568.27 Q1390.52 1568.97 1387.11 1568.97 Q1378.58 1568.97 1373.58 1564 Q1368.62 1559.04 1368.62 1550.57 Q1368.62 1541.82 1373.33 1536.69 Q1378.07 1531.54 1386.09 1531.54 Q1393.28 1531.54 1397.45 1536.18 Q1401.66 1540.8 1401.66 1548.76 M1395.8 1547.04 Q1395.74 1542.23 1393.09 1539.37 Q1390.48 1536.5 1386.15 1536.5 Q1381.25 1536.5 1378.29 1539.27 Q1375.37 1542.04 1374.92 1547.07 L1395.8 1547.04 Z\" fill=\"#000000\" fill-rule=\"nonzero\" fill-opacity=\"1\" /><path clip-path=\"url(#clip960)\" d=\"M1433.99 1533.45 L1433.99 1538.98 Q1431.51 1537.71 1428.84 1537.07 Q1426.16 1536.44 1423.3 1536.44 Q1418.94 1536.44 1416.74 1537.77 Q1414.58 1539.11 1414.58 1541.79 Q1414.58 1543.82 1416.14 1545 Q1417.7 1546.15 1422.41 1547.2 L1424.41 1547.64 Q1430.65 1548.98 1433.26 1551.43 Q1435.9 1553.85 1435.9 1558.21 Q1435.9 1563.17 1431.96 1566.07 Q1428.04 1568.97 1421.17 1568.97 Q1418.3 1568.97 1415.18 1568.39 Q1412.1 1567.85 1408.66 1566.74 L1408.66 1560.69 Q1411.9 1562.38 1415.06 1563.24 Q1418.21 1564.07 1421.29 1564.07 Q1425.43 1564.07 1427.66 1562.66 Q1429.89 1561.23 1429.89 1558.65 Q1429.89 1556.27 1428.26 1554.99 Q1426.67 1553.72 1421.23 1552.54 L1419.19 1552.07 Q1413.75 1550.92 1411.33 1548.56 Q1408.91 1546.18 1408.91 1542.04 Q1408.91 1537.01 1412.48 1534.27 Q1416.04 1531.54 1422.6 1531.54 Q1425.85 1531.54 1428.71 1532.01 Q1431.57 1532.49 1433.99 1533.45 Z\" fill=\"#000000\" fill-rule=\"nonzero\" fill-opacity=\"1\" /><polyline clip-path=\"url(#clip960)\" style=\"stroke:#000000; stroke-linecap:round; stroke-linejoin:round; stroke-width:4; stroke-opacity:1; fill:none\" points=\"110.881,1423.18 110.881,123.472 \"/>\n",
       "<polyline clip-path=\"url(#clip960)\" style=\"stroke:#000000; stroke-linecap:round; stroke-linejoin:round; stroke-width:4; stroke-opacity:1; fill:none\" points=\"110.881,1383.27 129.779,1383.27 \"/>\n",
       "<polyline clip-path=\"url(#clip960)\" style=\"stroke:#000000; stroke-linecap:round; stroke-linejoin:round; stroke-width:4; stroke-opacity:1; fill:none\" points=\"110.881,1017.99 129.779,1017.99 \"/>\n",
       "<polyline clip-path=\"url(#clip960)\" style=\"stroke:#000000; stroke-linecap:round; stroke-linejoin:round; stroke-width:4; stroke-opacity:1; fill:none\" points=\"110.881,652.716 129.779,652.716 \"/>\n",
       "<polyline clip-path=\"url(#clip960)\" style=\"stroke:#000000; stroke-linecap:round; stroke-linejoin:round; stroke-width:4; stroke-opacity:1; fill:none\" points=\"110.881,287.438 129.779,287.438 \"/>\n",
       "<path clip-path=\"url(#clip960)\" d=\"M62.9365 1369.07 Q59.3254 1369.07 57.4967 1372.63 Q55.6912 1376.18 55.6912 1383.3 Q55.6912 1390.41 57.4967 1393.98 Q59.3254 1397.52 62.9365 1397.52 Q66.5707 1397.52 68.3763 1393.98 Q70.205 1390.41 70.205 1383.3 Q70.205 1376.18 68.3763 1372.63 Q66.5707 1369.07 62.9365 1369.07 M62.9365 1365.37 Q68.7467 1365.37 71.8022 1369.97 Q74.8809 1374.55 74.8809 1383.3 Q74.8809 1392.03 71.8022 1396.64 Q68.7467 1401.22 62.9365 1401.22 Q57.1264 1401.22 54.0477 1396.64 Q50.9921 1392.03 50.9921 1383.3 Q50.9921 1374.55 54.0477 1369.97 Q57.1264 1365.37 62.9365 1365.37 Z\" fill=\"#000000\" fill-rule=\"nonzero\" fill-opacity=\"1\" /><path clip-path=\"url(#clip960)\" d=\"M54.9736 1031.34 L62.6124 1031.34 L62.6124 1004.97 L54.3023 1006.64 L54.3023 1002.38 L62.5661 1000.71 L67.242 1000.71 L67.242 1031.34 L74.8809 1031.34 L74.8809 1035.27 L54.9736 1035.27 L54.9736 1031.34 Z\" fill=\"#000000\" fill-rule=\"nonzero\" fill-opacity=\"1\" /><path clip-path=\"url(#clip960)\" d=\"M58.5615 666.06 L74.8809 666.06 L74.8809 669.996 L52.9366 669.996 L52.9366 666.06 Q55.5986 663.306 60.1819 658.676 Q64.7883 654.023 65.9689 652.681 Q68.2143 650.158 69.0939 648.422 Q69.9967 646.662 69.9967 644.973 Q69.9967 642.218 68.0522 640.482 Q66.1309 638.746 63.0291 638.746 Q60.83 638.746 58.3763 639.51 Q55.9458 640.274 53.168 641.824 L53.168 637.102 Q55.9921 635.968 58.4458 635.389 Q60.8995 634.811 62.9365 634.811 Q68.3068 634.811 71.5013 637.496 Q74.6957 640.181 74.6957 644.672 Q74.6957 646.801 73.8855 648.723 Q73.0985 650.621 70.992 653.213 Q70.4133 653.885 67.3115 657.102 Q64.2096 660.297 58.5615 666.06 Z\" fill=\"#000000\" fill-rule=\"nonzero\" fill-opacity=\"1\" /><path clip-path=\"url(#clip960)\" d=\"M67.7513 286.084 Q71.1078 286.802 72.9827 289.07 Q74.8809 291.339 74.8809 294.672 Q74.8809 299.788 71.3624 302.589 Q67.8439 305.39 61.3624 305.39 Q59.1865 305.39 56.8717 304.95 Q54.5801 304.533 52.1264 303.677 L52.1264 299.163 Q54.0708 300.297 56.3856 300.876 Q58.7004 301.454 61.2236 301.454 Q65.6217 301.454 67.9133 299.718 Q70.2281 297.982 70.2281 294.672 Q70.2281 291.617 68.0754 289.904 Q65.9457 288.168 62.1263 288.168 L58.0986 288.168 L58.0986 284.325 L62.3115 284.325 Q65.7606 284.325 67.5893 282.959 Q69.418 281.57 69.418 278.978 Q69.418 276.316 67.5198 274.904 Q65.6448 273.469 62.1263 273.469 Q60.205 273.469 58.006 273.885 Q55.8069 274.302 53.168 275.181 L53.168 271.015 Q55.8301 270.274 58.1449 269.904 Q60.4828 269.533 62.543 269.533 Q67.867 269.533 70.9689 271.964 Q74.0707 274.371 74.0707 278.492 Q74.0707 281.362 72.4272 283.353 Q70.7837 285.32 67.7513 286.084 Z\" fill=\"#000000\" fill-rule=\"nonzero\" fill-opacity=\"1\" /><path clip-path=\"url(#clip960)\" d=\"M718.751 18.8205 L718.751 41.5461 L729.04 41.5461 Q734.752 41.5461 737.871 38.5889 Q740.991 35.6318 740.991 30.163 Q740.991 24.7348 737.871 21.7777 Q734.752 18.8205 729.04 18.8205 L718.751 18.8205 M710.568 12.096 L729.04 12.096 Q739.208 12.096 744.393 16.714 Q749.619 21.2916 749.619 30.163 Q749.619 39.1155 744.393 43.6931 Q739.208 48.2706 729.04 48.2706 L718.751 48.2706 L718.751 72.576 L710.568 72.576 L710.568 12.096 Z\" fill=\"#000000\" fill-rule=\"nonzero\" fill-opacity=\"1\" /><path clip-path=\"url(#clip960)\" d=\"M774.897 32.4315 Q768.901 32.4315 765.418 37.1306 Q761.934 41.7891 761.934 49.9314 Q761.934 58.0738 765.377 62.7728 Q768.861 67.4314 774.897 67.4314 Q780.851 67.4314 784.335 62.7323 Q787.819 58.0333 787.819 49.9314 Q787.819 41.8701 784.335 37.1711 Q780.851 32.4315 774.897 32.4315 M774.897 26.1121 Q784.619 26.1121 790.169 32.4315 Q795.718 38.7509 795.718 49.9314 Q795.718 61.0714 790.169 67.4314 Q784.619 73.7508 774.897 73.7508 Q765.134 73.7508 759.584 67.4314 Q754.075 61.0714 754.075 49.9314 Q754.075 38.7509 759.584 32.4315 Q765.134 26.1121 774.897 26.1121 Z\" fill=\"#000000\" fill-rule=\"nonzero\" fill-opacity=\"1\" /><path clip-path=\"url(#clip960)\" d=\"M808.074 9.54393 L815.527 9.54393 L815.527 72.576 L808.074 72.576 L808.074 9.54393 Z\" fill=\"#000000\" fill-rule=\"nonzero\" fill-opacity=\"1\" /><path clip-path=\"url(#clip960)\" d=\"M831.123 27.2059 L838.577 27.2059 L838.577 72.576 L831.123 72.576 L831.123 27.2059 M831.123 9.54393 L838.577 9.54393 L838.577 18.9825 L831.123 18.9825 L831.123 9.54393 Z\" fill=\"#000000\" fill-rule=\"nonzero\" fill-opacity=\"1\" /><path clip-path=\"url(#clip960)\" d=\"M886.823 28.9478 L886.823 35.9153 Q883.663 34.1734 880.463 33.3227 Q877.304 32.4315 874.063 32.4315 Q866.812 32.4315 862.801 37.0496 Q858.791 41.6271 858.791 49.9314 Q858.791 58.2358 862.801 62.8538 Q866.812 67.4314 874.063 67.4314 Q877.304 67.4314 880.463 66.5807 Q883.663 65.6895 886.823 63.9476 L886.823 70.8341 Q883.704 72.2924 880.342 73.0216 Q877.02 73.7508 873.253 73.7508 Q863.004 73.7508 856.968 67.3098 Q850.932 60.8689 850.932 49.9314 Q850.932 38.832 857.008 32.472 Q863.125 26.1121 873.739 26.1121 Q877.182 26.1121 880.463 26.8413 Q883.744 27.5299 886.823 28.9478 Z\" fill=\"#000000\" fill-rule=\"nonzero\" fill-opacity=\"1\" /><path clip-path=\"url(#clip960)\" d=\"M918.663 76.7889 Q915.504 84.8907 912.506 87.3618 Q909.508 89.8329 904.485 89.8329 L898.53 89.8329 L898.53 83.5945 L902.905 83.5945 Q905.984 83.5945 907.685 82.1361 Q909.387 80.6778 911.453 75.2496 L912.789 71.8468 L894.439 27.2059 L902.338 27.2059 L916.516 62.6918 L930.694 27.2059 L938.594 27.2059 L918.663 76.7889 Z\" fill=\"#000000\" fill-rule=\"nonzero\" fill-opacity=\"1\" /><path clip-path=\"url(#clip960)\" d=\"M975.578 12.096 L1010.34 12.096 L1010.34 18.9825 L983.761 18.9825 L983.761 36.8065 L1007.74 36.8065 L1007.74 43.6931 L983.761 43.6931 L983.761 72.576 L975.578 72.576 L975.578 12.096 Z\" fill=\"#000000\" fill-rule=\"nonzero\" fill-opacity=\"1\" /><path clip-path=\"url(#clip960)\" d=\"M1017.67 54.671 L1017.67 27.2059 L1025.12 27.2059 L1025.12 54.3874 Q1025.12 60.8284 1027.63 64.0691 Q1030.14 67.2693 1035.17 67.2693 Q1041.2 67.2693 1044.69 63.421 Q1048.21 59.5726 1048.21 52.9291 L1048.21 27.2059 L1055.66 27.2059 L1055.66 72.576 L1048.21 72.576 L1048.21 65.6084 Q1045.5 69.7404 1041.89 71.7658 Q1038.33 73.7508 1033.59 73.7508 Q1025.77 73.7508 1021.72 68.8897 Q1017.67 64.0286 1017.67 54.671 M1036.42 26.1121 L1036.42 26.1121 Z\" fill=\"#000000\" fill-rule=\"nonzero\" fill-opacity=\"1\" /><path clip-path=\"url(#clip960)\" d=\"M1108.73 45.1919 L1108.73 72.576 L1101.28 72.576 L1101.28 45.4349 Q1101.28 38.994 1098.77 35.7938 Q1096.25 32.5936 1091.23 32.5936 Q1085.2 32.5936 1081.71 36.4419 Q1078.23 40.2903 1078.23 46.9338 L1078.23 72.576 L1070.73 72.576 L1070.73 27.2059 L1078.23 27.2059 L1078.23 34.2544 Q1080.9 30.163 1084.51 28.1376 Q1088.15 26.1121 1092.89 26.1121 Q1100.71 26.1121 1104.72 30.9732 Q1108.73 35.7938 1108.73 45.1919 Z\" fill=\"#000000\" fill-rule=\"nonzero\" fill-opacity=\"1\" /><path clip-path=\"url(#clip960)\" d=\"M1156.25 28.9478 L1156.25 35.9153 Q1153.09 34.1734 1149.89 33.3227 Q1146.73 32.4315 1143.49 32.4315 Q1136.24 32.4315 1132.23 37.0496 Q1128.22 41.6271 1128.22 49.9314 Q1128.22 58.2358 1132.23 62.8538 Q1136.24 67.4314 1143.49 67.4314 Q1146.73 67.4314 1149.89 66.5807 Q1153.09 65.6895 1156.25 63.9476 L1156.25 70.8341 Q1153.13 72.2924 1149.77 73.0216 Q1146.45 73.7508 1142.68 73.7508 Q1132.43 73.7508 1126.39 67.3098 Q1120.36 60.8689 1120.36 49.9314 Q1120.36 38.832 1126.43 32.472 Q1132.55 26.1121 1143.16 26.1121 Q1146.61 26.1121 1149.89 26.8413 Q1153.17 27.5299 1156.25 28.9478 Z\" fill=\"#000000\" fill-rule=\"nonzero\" fill-opacity=\"1\" /><path clip-path=\"url(#clip960)\" d=\"M1176.58 14.324 L1176.58 27.2059 L1191.94 27.2059 L1191.94 32.9987 L1176.58 32.9987 L1176.58 57.6282 Q1176.58 63.1779 1178.08 64.7578 Q1179.62 66.3376 1184.28 66.3376 L1191.94 66.3376 L1191.94 72.576 L1184.28 72.576 Q1175.65 72.576 1172.37 69.3758 Q1169.09 66.1351 1169.09 57.6282 L1169.09 32.9987 L1163.62 32.9987 L1163.62 27.2059 L1169.09 27.2059 L1169.09 14.324 L1176.58 14.324 Z\" fill=\"#000000\" fill-rule=\"nonzero\" fill-opacity=\"1\" /><path clip-path=\"url(#clip960)\" d=\"M1201.74 27.2059 L1209.19 27.2059 L1209.19 72.576 L1201.74 72.576 L1201.74 27.2059 M1201.74 9.54393 L1209.19 9.54393 L1209.19 18.9825 L1201.74 18.9825 L1201.74 9.54393 Z\" fill=\"#000000\" fill-rule=\"nonzero\" fill-opacity=\"1\" /><path clip-path=\"url(#clip960)\" d=\"M1242.37 32.4315 Q1236.38 32.4315 1232.89 37.1306 Q1229.41 41.7891 1229.41 49.9314 Q1229.41 58.0738 1232.85 62.7728 Q1236.34 67.4314 1242.37 67.4314 Q1248.33 67.4314 1251.81 62.7323 Q1255.29 58.0333 1255.29 49.9314 Q1255.29 41.8701 1251.81 37.1711 Q1248.33 32.4315 1242.37 32.4315 M1242.37 26.1121 Q1252.09 26.1121 1257.64 32.4315 Q1263.19 38.7509 1263.19 49.9314 Q1263.19 61.0714 1257.64 67.4314 Q1252.09 73.7508 1242.37 73.7508 Q1232.61 73.7508 1227.06 67.4314 Q1221.55 61.0714 1221.55 49.9314 Q1221.55 38.7509 1227.06 32.4315 Q1232.61 26.1121 1242.37 26.1121 Z\" fill=\"#000000\" fill-rule=\"nonzero\" fill-opacity=\"1\" /><path clip-path=\"url(#clip960)\" d=\"M1313.26 45.1919 L1313.26 72.576 L1305.81 72.576 L1305.81 45.4349 Q1305.81 38.994 1303.3 35.7938 Q1300.79 32.5936 1295.76 32.5936 Q1289.73 32.5936 1286.24 36.4419 Q1282.76 40.2903 1282.76 46.9338 L1282.76 72.576 L1275.26 72.576 L1275.26 27.2059 L1282.76 27.2059 L1282.76 34.2544 Q1285.43 30.163 1289.04 28.1376 Q1292.68 26.1121 1297.42 26.1121 Q1305.24 26.1121 1309.25 30.9732 Q1313.26 35.7938 1313.26 45.1919 Z\" fill=\"#000000\" fill-rule=\"nonzero\" fill-opacity=\"1\" /><path clip-path=\"url(#clip960)\" d=\"M1377.47 9.54393 L1377.47 15.7418 L1370.34 15.7418 Q1366.33 15.7418 1364.75 17.3622 Q1363.21 18.9825 1363.21 23.1955 L1363.21 27.2059 L1375.48 27.2059 L1375.48 32.9987 L1363.21 32.9987 L1363.21 72.576 L1355.72 72.576 L1355.72 32.9987 L1348.59 32.9987 L1348.59 27.2059 L1355.72 27.2059 L1355.72 24.0462 Q1355.72 16.471 1359.24 13.0277 Q1362.76 9.54393 1370.42 9.54393 L1377.47 9.54393 Z\" fill=\"#000000\" fill-rule=\"nonzero\" fill-opacity=\"1\" /><path clip-path=\"url(#clip960)\" d=\"M1401.29 32.4315 Q1395.29 32.4315 1391.81 37.1306 Q1388.33 41.7891 1388.33 49.9314 Q1388.33 58.0738 1391.77 62.7728 Q1395.25 67.4314 1401.29 67.4314 Q1407.24 67.4314 1410.73 62.7323 Q1414.21 58.0333 1414.21 49.9314 Q1414.21 41.8701 1410.73 37.1711 Q1407.24 32.4315 1401.29 32.4315 M1401.29 26.1121 Q1411.01 26.1121 1416.56 32.4315 Q1422.11 38.7509 1422.11 49.9314 Q1422.11 61.0714 1416.56 67.4314 Q1411.01 73.7508 1401.29 73.7508 Q1391.53 73.7508 1385.98 67.4314 Q1380.47 61.0714 1380.47 49.9314 Q1380.47 38.7509 1385.98 32.4315 Q1391.53 26.1121 1401.29 26.1121 Z\" fill=\"#000000\" fill-rule=\"nonzero\" fill-opacity=\"1\" /><path clip-path=\"url(#clip960)\" d=\"M1460.76 34.1734 Q1459.5 33.4443 1458 33.1202 Q1456.54 32.7556 1454.76 32.7556 Q1448.44 32.7556 1445.04 36.8875 Q1441.68 40.9789 1441.68 48.6757 L1441.68 72.576 L1434.18 72.576 L1434.18 27.2059 L1441.68 27.2059 L1441.68 34.2544 Q1444.03 30.1225 1447.79 28.1376 Q1451.56 26.1121 1456.95 26.1121 Q1457.72 26.1121 1458.65 26.2337 Q1459.58 26.3147 1460.71 26.5172 L1460.76 34.1734 Z\" fill=\"#000000\" fill-rule=\"nonzero\" fill-opacity=\"1\" /><path clip-path=\"url(#clip960)\" d=\"M1515.48 20.1573 L1504.38 50.2555 L1526.62 50.2555 L1515.48 20.1573 M1510.86 12.096 L1520.14 12.096 L1543.19 72.576 L1534.68 72.576 L1529.18 57.061 L1501.91 57.061 L1496.4 72.576 L1487.77 72.576 L1510.86 12.096 Z\" fill=\"#000000\" fill-rule=\"nonzero\" fill-opacity=\"1\" /><path clip-path=\"url(#clip960)\" d=\"M1580.62 28.5427 L1580.62 35.5912 Q1577.46 33.9709 1574.06 33.1607 Q1570.66 32.3505 1567.01 32.3505 Q1561.46 32.3505 1558.67 34.0519 Q1555.91 35.7533 1555.91 39.156 Q1555.91 41.7486 1557.9 43.2475 Q1559.88 44.7058 1565.88 46.0426 L1568.43 46.6097 Q1576.37 48.3111 1579.69 51.4303 Q1583.05 54.509 1583.05 60.0587 Q1583.05 66.3781 1578.03 70.0644 Q1573.05 73.7508 1564.3 73.7508 Q1560.65 73.7508 1556.68 73.0216 Q1552.75 72.3329 1548.38 70.9151 L1548.38 63.2184 Q1552.51 65.3654 1556.52 66.4591 Q1560.53 67.5124 1564.46 67.5124 Q1569.72 67.5124 1572.56 65.73 Q1575.4 63.9071 1575.4 60.6258 Q1575.4 57.5877 1573.33 55.9673 Q1571.3 54.3469 1564.38 52.8481 L1561.78 52.2405 Q1554.86 50.7821 1551.78 47.7845 Q1548.7 44.7463 1548.7 39.4801 Q1548.7 33.0797 1553.24 29.5959 Q1557.77 26.1121 1566.12 26.1121 Q1570.25 26.1121 1573.9 26.7198 Q1577.54 27.3274 1580.62 28.5427 Z\" fill=\"#000000\" fill-rule=\"nonzero\" fill-opacity=\"1\" /><path clip-path=\"url(#clip960)\" d=\"M1623.84 28.5427 L1623.84 35.5912 Q1620.68 33.9709 1617.28 33.1607 Q1613.88 32.3505 1610.23 32.3505 Q1604.68 32.3505 1601.89 34.0519 Q1599.13 35.7533 1599.13 39.156 Q1599.13 41.7486 1601.12 43.2475 Q1603.1 44.7058 1609.1 46.0426 L1611.65 46.6097 Q1619.59 48.3111 1622.91 51.4303 Q1626.28 54.509 1626.28 60.0587 Q1626.28 66.3781 1621.25 70.0644 Q1616.27 73.7508 1607.52 73.7508 Q1603.87 73.7508 1599.9 73.0216 Q1595.97 72.3329 1591.6 70.9151 L1591.6 63.2184 Q1595.73 65.3654 1599.74 66.4591 Q1603.75 67.5124 1607.68 67.5124 Q1612.95 67.5124 1615.78 65.73 Q1618.62 63.9071 1618.62 60.6258 Q1618.62 57.5877 1616.55 55.9673 Q1614.53 54.3469 1607.6 52.8481 L1605.01 52.2405 Q1598.08 50.7821 1595 47.7845 Q1591.92 44.7463 1591.92 39.4801 Q1591.92 33.0797 1596.46 29.5959 Q1601 26.1121 1609.34 26.1121 Q1613.47 26.1121 1617.12 26.7198 Q1620.77 27.3274 1623.84 28.5427 Z\" fill=\"#000000\" fill-rule=\"nonzero\" fill-opacity=\"1\" /><path clip-path=\"url(#clip960)\" d=\"M1676.95 48.0275 L1676.95 51.6733 L1642.68 51.6733 Q1643.17 59.3701 1647.3 63.421 Q1651.47 67.4314 1658.88 67.4314 Q1663.18 67.4314 1667.19 66.3781 Q1671.24 65.3249 1675.21 63.2184 L1675.21 70.267 Q1671.2 71.9684 1666.99 72.8596 Q1662.77 73.7508 1658.44 73.7508 Q1647.58 73.7508 1641.22 67.4314 Q1634.9 61.1119 1634.9 50.3365 Q1634.9 39.1965 1640.9 32.6746 Q1646.93 26.1121 1657.14 26.1121 Q1666.3 26.1121 1671.6 32.0264 Q1676.95 37.9003 1676.95 48.0275 M1669.5 45.84 Q1669.42 39.7232 1666.06 36.0774 Q1662.73 32.4315 1657.22 32.4315 Q1650.99 32.4315 1647.22 35.9558 Q1643.49 39.4801 1642.92 45.8805 L1669.5 45.84 Z\" fill=\"#000000\" fill-rule=\"nonzero\" fill-opacity=\"1\" /><path clip-path=\"url(#clip960)\" d=\"M1696.56 14.324 L1696.56 27.2059 L1711.91 27.2059 L1711.91 32.9987 L1696.56 32.9987 L1696.56 57.6282 Q1696.56 63.1779 1698.06 64.7578 Q1699.6 66.3376 1704.26 66.3376 L1711.91 66.3376 L1711.91 72.576 L1704.26 72.576 Q1695.63 72.576 1692.35 69.3758 Q1689.06 66.1351 1689.06 57.6282 L1689.06 32.9987 L1683.6 32.9987 L1683.6 27.2059 L1689.06 27.2059 L1689.06 14.324 L1696.56 14.324 Z\" fill=\"#000000\" fill-rule=\"nonzero\" fill-opacity=\"1\" /><path clip-path=\"url(#clip960)\" d=\"M1750.64 28.5427 L1750.64 35.5912 Q1747.48 33.9709 1744.08 33.1607 Q1740.67 32.3505 1737.03 32.3505 Q1731.48 32.3505 1728.68 34.0519 Q1725.93 35.7533 1725.93 39.156 Q1725.93 41.7486 1727.91 43.2475 Q1729.9 44.7058 1735.89 46.0426 L1738.44 46.6097 Q1746.38 48.3111 1749.71 51.4303 Q1753.07 54.509 1753.07 60.0587 Q1753.07 66.3781 1748.05 70.0644 Q1743.06 73.7508 1734.31 73.7508 Q1730.67 73.7508 1726.7 73.0216 Q1722.77 72.3329 1718.39 70.9151 L1718.39 63.2184 Q1722.52 65.3654 1726.54 66.4591 Q1730.55 67.5124 1734.47 67.5124 Q1739.74 67.5124 1742.58 65.73 Q1745.41 63.9071 1745.41 60.6258 Q1745.41 57.5877 1743.35 55.9673 Q1741.32 54.3469 1734.39 52.8481 L1731.8 52.2405 Q1724.87 50.7821 1721.8 47.7845 Q1718.72 44.7463 1718.72 39.4801 Q1718.72 33.0797 1723.25 29.5959 Q1727.79 26.1121 1736.14 26.1121 Q1740.27 26.1121 1743.91 26.7198 Q1747.56 27.3274 1750.64 28.5427 Z\" fill=\"#000000\" fill-rule=\"nonzero\" fill-opacity=\"1\" /><polyline clip-path=\"url(#clip962)\" style=\"stroke:#009af9; stroke-linecap:round; stroke-linejoin:round; stroke-width:8; stroke-opacity:1; fill:none\" points=\"174.33,1386.4 177.773,1386.34 181.215,1386.29 184.657,1386.24 188.1,1386.19 219.93,1385.71 251.76,1385.22 283.59,1384.74 315.42,1384.26 324.984,1383.38 334.549,1380.1 344.113,1376.82 353.677,1373.55 372.806,1366.99 391.934,1360.43 424.28,1349.34 456.626,1338.24 526.9,1311.81 591.685,1286.88 661.143,1258.15 741.616,1223.31 813.131,1191.49 875.843,1163.15 944.216,1131.81 1013,1099.62 1089.04,1063.8 1161.39,1029.22 1236.63,993.109 1299.96,962.402 1377.27,924.832 1448.1,890.125 1513.52,858.058 1579.78,825.34 1654.04,788.672 1721.34,755.27 1798.38,717.013 1869.72,681.463 1940.05,646.398 2008.34,612.281 2078.34,577.285 2155.04,538.909 2266.45,483.139 2289.31,471.7 \"/>\n",
       "<polyline clip-path=\"url(#clip962)\" style=\"stroke:#e26f46; stroke-linecap:round; stroke-linejoin:round; stroke-width:8; stroke-opacity:1; fill:none\" points=\"174.33,1383.98 188.1,1378.99 315.42,1332.86 391.934,1303.22 456.626,1278 526.9,1248.12 591.685,1219.98 661.143,1189.03 741.616,1152.58 813.131,1119.48 875.843,1090.1 944.216,1057.8 1013,1024.93 1089.04,988.411 1161.39,953.295 1236.63,916.666 1299.96,885.613 1377.27,847.644 1448.1,812.656 1513.52,780.333 1579.78,747.42 1654.04,710.533 1721.34,676.984 1798.38,638.562 1869.72,602.904 1940.05,567.738 2008.34,533.563 2078.34,498.519 2155.04,460.133 2266.45,404.399 2289.31,392.993 \"/>\n",
       "<polyline clip-path=\"url(#clip962)\" style=\"stroke:#3da44d; stroke-linecap:round; stroke-linejoin:round; stroke-width:8; stroke-opacity:1; fill:none\" points=\"174.33,1327.13 188.1,1321.69 315.42,1271.4 391.934,1238.36 456.626,1210.17 526.9,1178.52 591.685,1149.1 661.143,1116.93 741.616,1079.18 813.131,1045.22 875.843,1015.23 944.216,982.334 1013,948.942 1089.04,911.899 1161.39,876.397 1236.63,839.401 1299.96,808.104 1377.27,769.851 1448.1,734.659 1513.52,702.15 1579.78,669.098 1654.04,632.056 1721.34,598.41 1798.38,559.882 1869.72,524.171 1940.05,488.96 2008.34,454.786 2078.34,419.757 2155.04,381.454 2266.45,325.911 2289.31,314.576 \"/>\n",
       "<polyline clip-path=\"url(#clip962)\" style=\"stroke:#c271d2; stroke-linecap:round; stroke-linejoin:round; stroke-width:8; stroke-opacity:1; fill:none\" points=\"174.33,1264.68 188.1,1258.66 315.42,1203.01 391.934,1168.31 456.626,1138.86 526.9,1106.06 591.685,1075.63 661.143,1042.63 741.616,1004.11 813.131,969.56 875.843,939.103 944.216,905.754 1013,871.997 1089.04,834.586 1161.39,798.812 1236.63,761.555 1299.96,730.078 1377.27,691.619 1448.1,656.283 1513.52,623.642 1579.78,590.501 1654.04,553.359 1721.34,519.67 1798.38,481.095 1869.72,445.396 1940.05,410.204 2008.34,376.119 2078.34,341.201 2155.04,303.105 2266.45,247.978 2289.31,236.805 \"/>\n",
       "<polyline clip-path=\"url(#clip962)\" style=\"stroke:#ac8d18; stroke-linecap:round; stroke-linejoin:round; stroke-width:8; stroke-opacity:1; fill:none\" points=\"174.33,1195.77 188.1,1189.49 315.42,1131.39 391.934,1095.51 456.626,1065.08 526.9,1031.54 591.685,1000.5 661.143,966.931 741.616,927.822 813.131,892.842 875.843,862.054 944.216,828.387 1013,794.375 1089.04,756.706 1161.39,720.731 1236.63,683.284 1299.96,651.681 1377.27,613.079 1448.1,577.65 1513.52,544.927 1579.78,511.749 1654.04,474.566 1721.34,440.894 1798.38,402.344 1869.72,366.754 1940.05,331.68 2008.34,297.798 2078.34,263.115 2155.04,225.481 2266.45,171.206 2289.31,160.256 \"/>\n",
       "<path clip-path=\"url(#clip960)\" d=\"M185.61 477.836 L619.935 477.836 L619.935 166.796 L185.61 166.796  Z\" fill=\"#ffffff\" fill-rule=\"evenodd\" fill-opacity=\"1\"/>\n",
       "<polyline clip-path=\"url(#clip960)\" style=\"stroke:#000000; stroke-linecap:round; stroke-linejoin:round; stroke-width:4; stroke-opacity:1; fill:none\" points=\"185.61,477.836 619.935,477.836 619.935,166.796 185.61,166.796 185.61,477.836 \"/>\n",
       "<polyline clip-path=\"url(#clip960)\" style=\"stroke:#009af9; stroke-linecap:round; stroke-linejoin:round; stroke-width:8; stroke-opacity:1; fill:none\" points=\"210.52,218.636 359.978,218.636 \"/>\n",
       "<path clip-path=\"url(#clip960)\" d=\"M384.888 199.897 L389.147 199.897 L389.147 235.916 L384.888 235.916 L384.888 199.897 Z\" fill=\"#000000\" fill-rule=\"nonzero\" fill-opacity=\"1\" /><path clip-path=\"url(#clip960)\" d=\"M413.684 214.388 L443.36 214.388 L443.36 218.277 L413.684 218.277 L413.684 214.388 M413.684 223.832 L443.36 223.832 L443.36 227.768 L413.684 227.768 L413.684 223.832 Z\" fill=\"#000000\" fill-rule=\"nonzero\" fill-opacity=\"1\" /><path clip-path=\"url(#clip960)\" d=\"M478.522 204.434 Q474.91 204.434 473.082 207.999 Q471.276 211.541 471.276 218.67 Q471.276 225.777 473.082 229.342 Q474.91 232.883 478.522 232.883 Q482.156 232.883 483.961 229.342 Q485.79 225.777 485.79 218.67 Q485.79 211.541 483.961 207.999 Q482.156 204.434 478.522 204.434 M478.522 200.731 Q484.332 200.731 487.387 205.337 Q490.466 209.92 490.466 218.67 Q490.466 227.397 487.387 232.004 Q484.332 236.587 478.522 236.587 Q472.711 236.587 469.633 232.004 Q466.577 227.397 466.577 218.67 Q466.577 209.92 469.633 205.337 Q472.711 200.731 478.522 200.731 Z\" fill=\"#000000\" fill-rule=\"nonzero\" fill-opacity=\"1\" /><path clip-path=\"url(#clip960)\" d=\"M498.684 230.036 L503.568 230.036 L503.568 235.916 L498.684 235.916 L498.684 230.036 Z\" fill=\"#000000\" fill-rule=\"nonzero\" fill-opacity=\"1\" /><path clip-path=\"url(#clip960)\" d=\"M527.919 217.282 Q531.276 217.999 533.151 220.268 Q535.049 222.536 535.049 225.869 Q535.049 230.985 531.531 233.786 Q528.012 236.587 521.531 236.587 Q519.355 236.587 517.04 236.147 Q514.748 235.731 512.295 234.874 L512.295 230.36 Q514.239 231.494 516.554 232.073 Q518.869 232.652 521.392 232.652 Q525.79 232.652 528.082 230.916 Q530.396 229.18 530.396 225.869 Q530.396 222.814 528.244 221.101 Q526.114 219.365 522.295 219.365 L518.267 219.365 L518.267 215.522 L522.48 215.522 Q525.929 215.522 527.757 214.157 Q529.586 212.768 529.586 210.175 Q529.586 207.513 527.688 206.101 Q525.813 204.666 522.295 204.666 Q520.373 204.666 518.174 205.083 Q515.975 205.499 513.336 206.379 L513.336 202.212 Q515.998 201.471 518.313 201.101 Q520.651 200.731 522.711 200.731 Q528.035 200.731 531.137 203.161 Q534.239 205.569 534.239 209.689 Q534.239 212.559 532.595 214.55 Q530.952 216.518 527.919 217.282 Z\" fill=\"#000000\" fill-rule=\"nonzero\" fill-opacity=\"1\" /><polyline clip-path=\"url(#clip960)\" style=\"stroke:#e26f46; stroke-linecap:round; stroke-linejoin:round; stroke-width:8; stroke-opacity:1; fill:none\" points=\"210.52,270.476 359.978,270.476 \"/>\n",
       "<path clip-path=\"url(#clip960)\" d=\"M384.888 251.737 L389.147 251.737 L389.147 287.756 L384.888 287.756 L384.888 251.737 Z\" fill=\"#000000\" fill-rule=\"nonzero\" fill-opacity=\"1\" /><path clip-path=\"url(#clip960)\" d=\"M413.684 266.228 L443.36 266.228 L443.36 270.117 L413.684 270.117 L413.684 266.228 M413.684 275.672 L443.36 275.672 L443.36 279.608 L413.684 279.608 L413.684 275.672 Z\" fill=\"#000000\" fill-rule=\"nonzero\" fill-opacity=\"1\" /><path clip-path=\"url(#clip960)\" d=\"M478.522 256.274 Q474.91 256.274 473.082 259.839 Q471.276 263.381 471.276 270.51 Q471.276 277.617 473.082 281.182 Q474.91 284.723 478.522 284.723 Q482.156 284.723 483.961 281.182 Q485.79 277.617 485.79 270.51 Q485.79 263.381 483.961 259.839 Q482.156 256.274 478.522 256.274 M478.522 252.571 Q484.332 252.571 487.387 257.177 Q490.466 261.76 490.466 270.51 Q490.466 279.237 487.387 283.844 Q484.332 288.427 478.522 288.427 Q472.711 288.427 469.633 283.844 Q466.577 279.237 466.577 270.51 Q466.577 261.76 469.633 257.177 Q472.711 252.571 478.522 252.571 Z\" fill=\"#000000\" fill-rule=\"nonzero\" fill-opacity=\"1\" /><path clip-path=\"url(#clip960)\" d=\"M498.684 281.876 L503.568 281.876 L503.568 287.756 L498.684 287.756 L498.684 281.876 Z\" fill=\"#000000\" fill-rule=\"nonzero\" fill-opacity=\"1\" /><path clip-path=\"url(#clip960)\" d=\"M526.6 257.27 L514.795 275.719 L526.6 275.719 L526.6 257.27 M525.373 253.196 L531.253 253.196 L531.253 275.719 L536.183 275.719 L536.183 279.608 L531.253 279.608 L531.253 287.756 L526.6 287.756 L526.6 279.608 L510.998 279.608 L510.998 275.094 L525.373 253.196 Z\" fill=\"#000000\" fill-rule=\"nonzero\" fill-opacity=\"1\" /><path clip-path=\"url(#clip960)\" d=\"M542.734 253.196 L564.956 253.196 L564.956 255.186 L552.41 287.756 L547.526 287.756 L559.331 257.131 L542.734 257.131 L542.734 253.196 Z\" fill=\"#000000\" fill-rule=\"nonzero\" fill-opacity=\"1\" /><path clip-path=\"url(#clip960)\" d=\"M574.123 253.196 L592.479 253.196 L592.479 257.131 L578.405 257.131 L578.405 265.603 Q579.424 265.256 580.442 265.094 Q581.461 264.909 582.479 264.909 Q588.266 264.909 591.646 268.08 Q595.026 271.251 595.026 276.668 Q595.026 282.246 591.553 285.348 Q588.081 288.427 581.762 288.427 Q579.586 288.427 577.317 288.057 Q575.072 287.686 572.665 286.946 L572.665 282.246 Q574.748 283.381 576.97 283.936 Q579.192 284.492 581.669 284.492 Q585.674 284.492 588.012 282.385 Q590.35 280.279 590.35 276.668 Q590.35 273.057 588.012 270.95 Q585.674 268.844 581.669 268.844 Q579.794 268.844 577.919 269.26 Q576.067 269.677 574.123 270.557 L574.123 253.196 Z\" fill=\"#000000\" fill-rule=\"nonzero\" fill-opacity=\"1\" /><polyline clip-path=\"url(#clip960)\" style=\"stroke:#3da44d; stroke-linecap:round; stroke-linejoin:round; stroke-width:8; stroke-opacity:1; fill:none\" points=\"210.52,322.316 359.978,322.316 \"/>\n",
       "<path clip-path=\"url(#clip960)\" d=\"M384.888 303.577 L389.147 303.577 L389.147 339.596 L384.888 339.596 L384.888 303.577 Z\" fill=\"#000000\" fill-rule=\"nonzero\" fill-opacity=\"1\" /><path clip-path=\"url(#clip960)\" d=\"M413.684 318.068 L443.36 318.068 L443.36 321.957 L413.684 321.957 L413.684 318.068 M413.684 327.512 L443.36 327.512 L443.36 331.448 L413.684 331.448 L413.684 327.512 Z\" fill=\"#000000\" fill-rule=\"nonzero\" fill-opacity=\"1\" /><path clip-path=\"url(#clip960)\" d=\"M478.522 308.114 Q474.91 308.114 473.082 311.679 Q471.276 315.221 471.276 322.35 Q471.276 329.457 473.082 333.022 Q474.91 336.563 478.522 336.563 Q482.156 336.563 483.961 333.022 Q485.79 329.457 485.79 322.35 Q485.79 315.221 483.961 311.679 Q482.156 308.114 478.522 308.114 M478.522 304.411 Q484.332 304.411 487.387 309.017 Q490.466 313.6 490.466 322.35 Q490.466 331.077 487.387 335.684 Q484.332 340.267 478.522 340.267 Q472.711 340.267 469.633 335.684 Q466.577 331.077 466.577 322.35 Q466.577 313.6 469.633 309.017 Q472.711 304.411 478.522 304.411 Z\" fill=\"#000000\" fill-rule=\"nonzero\" fill-opacity=\"1\" /><path clip-path=\"url(#clip960)\" d=\"M498.684 333.716 L503.568 333.716 L503.568 339.596 L498.684 339.596 L498.684 333.716 Z\" fill=\"#000000\" fill-rule=\"nonzero\" fill-opacity=\"1\" /><path clip-path=\"url(#clip960)\" d=\"M524.332 320.452 Q521.183 320.452 519.332 322.605 Q517.503 324.758 517.503 328.508 Q517.503 332.235 519.332 334.411 Q521.183 336.563 524.332 336.563 Q527.48 336.563 529.308 334.411 Q531.16 332.235 531.16 328.508 Q531.16 324.758 529.308 322.605 Q527.48 320.452 524.332 320.452 M533.614 305.8 L533.614 310.059 Q531.855 309.226 530.049 308.786 Q528.267 308.346 526.507 308.346 Q521.878 308.346 519.424 311.471 Q516.994 314.596 516.646 320.915 Q518.012 318.901 520.072 317.837 Q522.132 316.749 524.609 316.749 Q529.818 316.749 532.827 319.92 Q535.859 323.068 535.859 328.508 Q535.859 333.832 532.711 337.049 Q529.563 340.267 524.332 340.267 Q518.336 340.267 515.165 335.684 Q511.994 331.077 511.994 322.35 Q511.994 314.156 515.883 309.295 Q519.771 304.411 526.322 304.411 Q528.082 304.411 529.864 304.758 Q531.669 305.105 533.614 305.8 Z\" fill=\"#000000\" fill-rule=\"nonzero\" fill-opacity=\"1\" /><path clip-path=\"url(#clip960)\" d=\"M543.961 305.036 L562.317 305.036 L562.317 308.971 L548.243 308.971 L548.243 317.443 Q549.262 317.096 550.28 316.934 Q551.299 316.749 552.317 316.749 Q558.104 316.749 561.484 319.92 Q564.864 323.091 564.864 328.508 Q564.864 334.086 561.392 337.188 Q557.919 340.267 551.6 340.267 Q549.424 340.267 547.155 339.897 Q544.91 339.526 542.503 338.786 L542.503 334.086 Q544.586 335.221 546.808 335.776 Q549.03 336.332 551.507 336.332 Q555.512 336.332 557.85 334.225 Q560.188 332.119 560.188 328.508 Q560.188 324.897 557.85 322.79 Q555.512 320.684 551.507 320.684 Q549.632 320.684 547.757 321.1 Q545.905 321.517 543.961 322.397 L543.961 305.036 Z\" fill=\"#000000\" fill-rule=\"nonzero\" fill-opacity=\"1\" /><polyline clip-path=\"url(#clip960)\" style=\"stroke:#c271d2; stroke-linecap:round; stroke-linejoin:round; stroke-width:8; stroke-opacity:1; fill:none\" points=\"210.52,374.156 359.978,374.156 \"/>\n",
       "<path clip-path=\"url(#clip960)\" d=\"M384.888 355.417 L389.147 355.417 L389.147 391.436 L384.888 391.436 L384.888 355.417 Z\" fill=\"#000000\" fill-rule=\"nonzero\" fill-opacity=\"1\" /><path clip-path=\"url(#clip960)\" d=\"M413.684 369.908 L443.36 369.908 L443.36 373.797 L413.684 373.797 L413.684 369.908 M413.684 379.352 L443.36 379.352 L443.36 383.288 L413.684 383.288 L413.684 379.352 Z\" fill=\"#000000\" fill-rule=\"nonzero\" fill-opacity=\"1\" /><path clip-path=\"url(#clip960)\" d=\"M478.522 359.954 Q474.91 359.954 473.082 363.519 Q471.276 367.061 471.276 374.19 Q471.276 381.297 473.082 384.862 Q474.91 388.403 478.522 388.403 Q482.156 388.403 483.961 384.862 Q485.79 381.297 485.79 374.19 Q485.79 367.061 483.961 363.519 Q482.156 359.954 478.522 359.954 M478.522 356.251 Q484.332 356.251 487.387 360.857 Q490.466 365.44 490.466 374.19 Q490.466 382.917 487.387 387.524 Q484.332 392.107 478.522 392.107 Q472.711 392.107 469.633 387.524 Q466.577 382.917 466.577 374.19 Q466.577 365.44 469.633 360.857 Q472.711 356.251 478.522 356.251 Z\" fill=\"#000000\" fill-rule=\"nonzero\" fill-opacity=\"1\" /><path clip-path=\"url(#clip960)\" d=\"M498.684 385.556 L503.568 385.556 L503.568 391.436 L498.684 391.436 L498.684 385.556 Z\" fill=\"#000000\" fill-rule=\"nonzero\" fill-opacity=\"1\" /><path clip-path=\"url(#clip960)\" d=\"M523.753 375.024 Q520.42 375.024 518.498 376.806 Q516.6 378.589 516.6 381.714 Q516.6 384.839 518.498 386.621 Q520.42 388.403 523.753 388.403 Q527.086 388.403 529.007 386.621 Q530.929 384.815 530.929 381.714 Q530.929 378.589 529.007 376.806 Q527.109 375.024 523.753 375.024 M519.077 373.033 Q516.068 372.292 514.378 370.232 Q512.711 368.172 512.711 365.209 Q512.711 361.066 515.651 358.658 Q518.614 356.251 523.753 356.251 Q528.915 356.251 531.855 358.658 Q534.794 361.066 534.794 365.209 Q534.794 368.172 533.105 370.232 Q531.438 372.292 528.452 373.033 Q531.831 373.82 533.706 376.112 Q535.605 378.403 535.605 381.714 Q535.605 386.737 532.526 389.422 Q529.47 392.107 523.753 392.107 Q518.035 392.107 514.957 389.422 Q511.901 386.737 511.901 381.714 Q511.901 378.403 513.799 376.112 Q515.697 373.82 519.077 373.033 M517.364 365.649 Q517.364 368.334 519.031 369.839 Q520.72 371.343 523.753 371.343 Q526.762 371.343 528.452 369.839 Q530.165 368.334 530.165 365.649 Q530.165 362.964 528.452 361.459 Q526.762 359.954 523.753 359.954 Q520.72 359.954 519.031 361.459 Q517.364 362.964 517.364 365.649 Z\" fill=\"#000000\" fill-rule=\"nonzero\" fill-opacity=\"1\" /><path clip-path=\"url(#clip960)\" d=\"M547.943 387.501 L564.262 387.501 L564.262 391.436 L542.318 391.436 L542.318 387.501 Q544.98 384.746 549.563 380.116 Q554.169 375.464 555.35 374.121 Q557.595 371.598 558.475 369.862 Q559.378 368.103 559.378 366.413 Q559.378 363.658 557.433 361.922 Q555.512 360.186 552.41 360.186 Q550.211 360.186 547.757 360.95 Q545.327 361.714 542.549 363.265 L542.549 358.542 Q545.373 357.408 547.827 356.829 Q550.28 356.251 552.317 356.251 Q557.688 356.251 560.882 358.936 Q564.077 361.621 564.077 366.112 Q564.077 368.241 563.267 370.163 Q562.479 372.061 560.373 374.653 Q559.794 375.325 556.692 378.542 Q553.591 381.737 547.943 387.501 Z\" fill=\"#000000\" fill-rule=\"nonzero\" fill-opacity=\"1\" /><path clip-path=\"url(#clip960)\" d=\"M574.123 356.876 L592.479 356.876 L592.479 360.811 L578.405 360.811 L578.405 369.283 Q579.424 368.936 580.442 368.774 Q581.461 368.589 582.479 368.589 Q588.266 368.589 591.646 371.76 Q595.026 374.931 595.026 380.348 Q595.026 385.926 591.553 389.028 Q588.081 392.107 581.762 392.107 Q579.586 392.107 577.317 391.737 Q575.072 391.366 572.665 390.626 L572.665 385.926 Q574.748 387.061 576.97 387.616 Q579.192 388.172 581.669 388.172 Q585.674 388.172 588.012 386.065 Q590.35 383.959 590.35 380.348 Q590.35 376.737 588.012 374.63 Q585.674 372.524 581.669 372.524 Q579.794 372.524 577.919 372.94 Q576.067 373.357 574.123 374.237 L574.123 356.876 Z\" fill=\"#000000\" fill-rule=\"nonzero\" fill-opacity=\"1\" /><polyline clip-path=\"url(#clip960)\" style=\"stroke:#ac8d18; stroke-linecap:round; stroke-linejoin:round; stroke-width:8; stroke-opacity:1; fill:none\" points=\"210.52,425.996 359.978,425.996 \"/>\n",
       "<path clip-path=\"url(#clip960)\" d=\"M384.888 407.257 L389.147 407.257 L389.147 443.276 L384.888 443.276 L384.888 407.257 Z\" fill=\"#000000\" fill-rule=\"nonzero\" fill-opacity=\"1\" /><path clip-path=\"url(#clip960)\" d=\"M413.684 421.748 L443.36 421.748 L443.36 425.637 L413.684 425.637 L413.684 421.748 M413.684 431.192 L443.36 431.192 L443.36 435.128 L413.684 435.128 L413.684 431.192 Z\" fill=\"#000000\" fill-rule=\"nonzero\" fill-opacity=\"1\" /><path clip-path=\"url(#clip960)\" d=\"M469.332 439.341 L476.971 439.341 L476.971 412.975 L468.661 414.642 L468.661 410.382 L476.924 408.716 L481.6 408.716 L481.6 439.341 L489.239 439.341 L489.239 443.276 L469.332 443.276 L469.332 439.341 Z\" fill=\"#000000\" fill-rule=\"nonzero\" fill-opacity=\"1\" /><path clip-path=\"url(#clip960)\" d=\"M498.684 437.396 L503.568 437.396 L503.568 443.276 L498.684 443.276 L498.684 437.396 Z\" fill=\"#000000\" fill-rule=\"nonzero\" fill-opacity=\"1\" /><path clip-path=\"url(#clip960)\" d=\"M523.753 411.794 Q520.142 411.794 518.313 415.359 Q516.507 418.901 516.507 426.03 Q516.507 433.137 518.313 436.702 Q520.142 440.243 523.753 440.243 Q527.387 440.243 529.193 436.702 Q531.021 433.137 531.021 426.03 Q531.021 418.901 529.193 415.359 Q527.387 411.794 523.753 411.794 M523.753 408.091 Q529.563 408.091 532.619 412.697 Q535.697 417.28 535.697 426.03 Q535.697 434.757 532.619 439.364 Q529.563 443.947 523.753 443.947 Q517.943 443.947 514.864 439.364 Q511.808 434.757 511.808 426.03 Q511.808 417.28 514.864 412.697 Q517.943 408.091 523.753 408.091 Z\" fill=\"#000000\" fill-rule=\"nonzero\" fill-opacity=\"1\" /></svg>\n"
      ]
     },
     "metadata": {},
     "output_type": "display_data"
    }
   ],
   "source": [
    "aux = l_grid[1]\n",
    "plt = plot(x -> asset(θ_opt, x, l_grid[1]), a_lb, 3, label=\"l = $aux\", \n",
    "           title=\"Policy Function for Assets\", xlabel=\"Asset Values\", linewidth=2)\n",
    "\n",
    "for i = 2:length(l_grid)\n",
    "    aux = l_grid[i]\n",
    "    plot!(plt, x -> asset(θ_opt, x, l_grid[i]), a_lb, 3, label=\"l = $aux\", linewidth=2)\n",
    "end\n",
    "\n",
    "display(plt)"
   ]
  },
  {
   "cell_type": "markdown",
   "metadata": {},
   "source": [
    "---\n",
    "### Question 2"
   ]
  },
  {
   "cell_type": "markdown",
   "metadata": {},
   "source": [
    "Now let's endogenize prices. The idea is the same as before, but now prices will also be arguments in the functions, so the first thing we have to do is to define some new functions:"
   ]
  },
  {
   "cell_type": "code",
   "execution_count": 13,
   "metadata": {},
   "outputs": [
    {
     "data": {
      "text/plain": [
       "nrm (generic function with 1 method)"
      ]
     },
     "metadata": {},
     "output_type": "display_data"
    }
   ],
   "source": [
    " # Function to compute the residual\n",
    " function residuals(θ,k,l;w,r)\n",
    "\n",
    "    idx_labor = findfirst(z -> z==l,l_grid);\n",
    "    c(x,y) = w*y + (1+r)*x - asset(θ,x,y); # function that computes consumption today\n",
    "    aux1 = (c(k,l))^(-μ) - γ*min(asset(θ,k,l),0)^2; # first part of residual equation\n",
    "    aux2 = 0;\n",
    "    for i=1:N\n",
    "        aux2 += T[idx_labor,i]*(c(asset(θ,k,l),l_grid[i]))^(-μ); # second part of residual equation\n",
    "    end\n",
    "    # Residual\n",
    "    R = aux1 - β*(1+r)*aux2; # residual equation\n",
    "\n",
    "    return R\n",
    " end\n",
    "\n",
    "# Function to solve the integral using quadratures\n",
    "function quadrature(f,start,endd,n)\n",
    "\n",
    "    d = n-1;\n",
    "    delta = (endd-start)/(n-1);\n",
    "    quad_pts = zeros(n);\n",
    "    quad_wght = zeros(n);\n",
    "    for i=1:n   \n",
    "        quad_pts[i] = start + (i-1)*delta;\n",
    "    end\n",
    "\n",
    "    quad_wght[1] = delta/2;\n",
    "    quad_wght[n] = delta/2;\n",
    "    \n",
    "    for i=2:d\n",
    "        quad_wght[i] = delta;\n",
    "    end\n",
    "\n",
    "    intt = 0;\n",
    "    for i=1:n\n",
    "        intt += quad_wght[i]*f(quad_pts[i]);\n",
    "    end\n",
    "\n",
    "    return intt\n",
    "end\n",
    "\n",
    "# Function to build the weighted integral:\n",
    "function weighted_integral(θ,i,j;w,r)\n",
    "    \n",
    "    sol = quadrature(x -> psi(i,x,a_grid)*residuals(θ,x,l_grid[j];w=w,r=r),a_grid[1],a_grid[end],n); # galerkin \n",
    "\n",
    "    if sol == -Inf || isnan(sol)\n",
    "        return -100\n",
    "    else\n",
    "        return sol\n",
    "    end\n",
    "\n",
    "end\n",
    "\n",
    "root_fctnew(θ;w,r) = [weighted_integral(θ,i,j;w=w,r=r) for i in 1:n, j in 1:N]\n",
    "\n",
    "# Function to compute optimal solution for θ using the newton-raphson method\n",
    "function nrm(root_fctnew,θ;w,r,tol=1e-10,max_iter=40)\n",
    "\n",
    "    for iter in 1:max_iter\n",
    "\n",
    "        residual = abs(sum(root_fctnew(θ;w=w,r=r)));\n",
    "\n",
    "        if residual <= tol\n",
    "            return θ;\n",
    "        end\n",
    "   \n",
    "        J = ForwardDiff.jacobian(θ -> root_fctnew(θ;w=w,r=r),θ);\n",
    "        θ = reshape(vec(θ) - inv(J) * vec(root_fctnew(θ;w=w,r=r)), n, N);\n",
    "\n",
    "    end\n",
    "\n",
    "    if abs(sum(root_fctnew(θ;w=w,r=r))) <= tol\n",
    "        return θ\n",
    "    elseif abs(sum(root_fctnew(θ;w=w,r=r))) > tol\n",
    "        return θ\n",
    "    end\n",
    "\n",
    "end"
   ]
  },
  {
   "cell_type": "markdown",
   "metadata": {},
   "source": [
    "Parameters:"
   ]
  },
  {
   "cell_type": "code",
   "execution_count": 14,
   "metadata": {},
   "outputs": [],
   "source": [
    "σ = 0.05;  # st dev of shocks\n",
    "mean = 0;   # mean of shocks\n",
    "N = 5;  # number of grid points\n",
    "ρ_1 = 0; # persistence for question 1\n",
    "\n",
    "# Write parameters again\n",
    "β = 0.95; # discount factor\n",
    "δ = 0.05; # depreciation rate\n",
    "α = 0.33; # output elasticity of capital:: Cobb-Douglas\n",
    "μ_1 = 2; # relative risk aversion coefficient\n",
    "μ = μ_1;\n",
    "γ = 50000; # parameter for penalty function\n",
    "ϕ = 0; # borrowing constraint\n",
    "\n",
    "a_lb = ϕ;\n",
    "a_ub = 10;\n",
    "n = 15;\n",
    "a_grid = LinRange(a_lb,a_ub,n);\n",
    "\n",
    "# Values for prices (guesses)\n",
    "r = 0.8*r_max; # guess for interest rate\n",
    "w = (1-α)*(α/(r+δ))^(α/(1-α)); # guess for wage\n",
    "\n",
    "# Initial guess for theta\n",
    "θ = zeros(n,N);\n",
    "for i=1:N\n",
    "    θ[:,i] = 0.35*(w*l_grid[i] .+ (1 + r)*a_grid);\n",
    "end"
   ]
  },
  {
   "cell_type": "markdown",
   "metadata": {},
   "source": [
    "Create functions to compute the invariant distribution (credits to Ethan Cohen):"
   ]
  },
  {
   "cell_type": "code",
   "execution_count": 15,
   "metadata": {},
   "outputs": [
    {
     "data": {
      "text/plain": [
       "invariant (generic function with 1 method)"
      ]
     },
     "metadata": {},
     "output_type": "display_data"
    }
   ],
   "source": [
    "function stationary(matrix)\n",
    "    # Compute the eigenvalues and eigenvectors of the transposed input matrix\n",
    "    egvals, egvecs = eigen(matrix');\n",
    "    \n",
    "    # Find the eigenvector corresponding to the eigenvalue closest to 1\n",
    "    stationary = egvecs[:, findall(λ -> abs(λ - 1) < 1e-10, egvals)];\n",
    "    \n",
    "    # Normalize the stationary distribution so that the sum equals 1\n",
    "    stationary = stationary / sum(stationary);\n",
    "    \n",
    "    return stationary\n",
    "end\n",
    "\n",
    "\n",
    "function invariant(pol, trans, grid_a)\n",
    "    na = size(pol, 1);   # number of asset states\n",
    "    ns = size(pol, 2);   # number of state variables\n",
    "    M = zeros(na, ns, na, ns);\n",
    "\n",
    "    # Build matrix based on policy values and asset grid\n",
    "    for asset_idx in 1:na\n",
    "        for state_idx in 1:ns\n",
    "            current_policy = pol[asset_idx, state_idx];\n",
    "            \n",
    "            if current_policy < grid_a[1]\n",
    "                M[asset_idx, state_idx, 1, :] = trans[state_idx, :];\n",
    "            elseif current_policy >= last(grid_a)\n",
    "                M[asset_idx, state_idx, na, :] = trans[state_idx, :];\n",
    "            else\n",
    "                index = findfirst(x -> x > current_policy, grid_a);\n",
    "                prob = (grid_a[index] - current_policy) / (grid_a[index] - grid_a[index - 1]);\n",
    "                \n",
    "                M[asset_idx, state_idx, index - 1, :] = trans[state_idx, :] * prob;\n",
    "                M[asset_idx, state_idx, index, :] = trans[state_idx, :] * (1 - prob);\n",
    "            end\n",
    "        end\n",
    "    end\n",
    "\n",
    "    # Initialize output matrix\n",
    "    O = zeros(na * ns, na * ns);\n",
    "\n",
    "    # Flatten M into O\n",
    "    for asset_idx in 1:na\n",
    "        for state_idx in 1:ns\n",
    "            O[:, state_idx + (asset_idx - 1) * ns] = vec(M[:, :, asset_idx, state_idx]');\n",
    "        end\n",
    "    end\n",
    "\n",
    "    # Normalize O\n",
    "    for i in 1:size(O, 1)\n",
    "        O[i, :] ./= sum(O[i, :]);\n",
    "    end\n",
    "\n",
    "    # Set up for computing the invariant distribution\n",
    "    NN = size(O, 2);\n",
    "    X = [(I - O'); ones(NN)'];\n",
    "    invariant_dist = X \\ [zeros(NN); 1];  # Solve for invariant distribution\n",
    "\n",
    "    # Reshape the result back into a matrix form (na x ns)\n",
    "    Pi = zeros(na, ns)\n",
    "    for asset_idx in 1:na\n",
    "        Pi[asset_idx, :] = invariant_dist[1 + (asset_idx - 1) * ns:asset_idx * ns]\n",
    "        for state_idx in 1:ns\n",
    "            if sign(Pi[asset_idx, state_idx]) == -1\n",
    "                Pi[asset_idx, state_idx] = 0\n",
    "            end\n",
    "        end\n",
    "    end\n",
    "\n",
    "    # Normalize Pi\n",
    "    Pi ./= sum(Pi)\n",
    "    return Pi\n",
    "end"
   ]
  },
  {
   "cell_type": "markdown",
   "metadata": {},
   "source": [
    "Create a function to compute prices and savings rate using the bisection method:"
   ]
  },
  {
   "cell_type": "code",
   "execution_count": 16,
   "metadata": {},
   "outputs": [
    {
     "data": {
      "text/plain": [
       "price_sav (generic function with 1 method)"
      ]
     },
     "metadata": {},
     "output_type": "display_data"
    }
   ],
   "source": [
    "function price_sav(μ,σ,ρ,N)\n",
    "\n",
    "    mean = 0;   # mean of shocks\n",
    "    \n",
    "    # Compute transition matrix and grid for labor\n",
    "\n",
    "    if ρ == 0\n",
    "        l_grid = LinRange(0.3,1,N);\n",
    "        T = ones(N,N)/N;\n",
    "    else\n",
    "        T, l_grid = Tauchen(σ,mean,N,ρ);\n",
    "        l_grid = exp.(l_grid);\n",
    "    end\n",
    "\n",
    "    # Calculate stationary distribution\n",
    "    T_stat = stationary(T);\n",
    "    \n",
    "    r1 = 0; # initial value to test in the bisection method \n",
    "    r2 = r_max; # initial value to test in the bisection method\n",
    "    r_new = 0;\n",
    "    r_iter = r_max;\n",
    "    w = 1;\n",
    "    K_s = 1; \n",
    "    K_d = 1;\n",
    "    Z = 1;\n",
    "    L = real(round.(l_grid' * T_stat, digits=3)[1]);\n",
    "    diff = 1;\n",
    "    tol = 1e-3;\n",
    "    max_iter = 25;\n",
    "    iter = 0;\n",
    "    \n",
    "    while abs(diff) > tol && iter < max_iter\n",
    "    \n",
    "        r_old = r_new;\n",
    "        r_iter = r_old;\n",
    "        r_k = r_iter + δ;\n",
    "    \n",
    "        θ = zeros(length(a_grid),length(l_grid))\n",
    "        for j in eachindex(l_grid)\n",
    "            θ[:,j] = 0.35*(w*l_grid[j] .+ (1 + r_g) * a_grid);\n",
    "        end\n",
    "    \n",
    "        θ_opt = nrm(root_fctnew, θ; w=w, r=r_iter, tol=1e-6, max_iter=50);\n",
    "    \n",
    "        K_d = (α*Z*(L^(1-α))/r_k)^(1/(1-α));\n",
    "    \n",
    "        Φ = invariant(θ_opt, T, a_grid);\n",
    "        K_s = sum(Φ.*θ_opt);\n",
    "    \n",
    "        w = (1-α)*(α/(r_k))^(α/(1-α));\n",
    "    \n",
    "    \n",
    "        diff = real(K_s) - real(K_d);\n",
    "    \n",
    "        if diff > 0\n",
    "            r2 = r_old;\n",
    "            r_new = (r_iter + r1)/2;\n",
    "        elseif diff < 0\n",
    "            r1 = r_old;\n",
    "            r_new = (r_iter + r2)/2;\n",
    "        end\n",
    "    \n",
    "        iter += 1;\n",
    "    end\n",
    "    savings_rate = δ*K_d/(Z*(K_d^α)*(L^(1-α)));\n",
    "    \n",
    "    return r_iter, w, savings_rate\n",
    "        \n",
    "    end"
   ]
  },
  {
   "cell_type": "markdown",
   "metadata": {},
   "source": [
    "Compute equilibrium prices and aggregate savings rate:"
   ]
  },
  {
   "cell_type": "code",
   "execution_count": 17,
   "metadata": {},
   "outputs": [
    {
     "name": "stdout",
     "output_type": "stream",
     "text": [
      "Equilibrium interest rate is 0.026727428561762728.\n",
      "Equilibrium wage is 1.374448167445475.\n",
      "Savings rate is 0.2150469566006388.\n"
     ]
    }
   ],
   "source": [
    "r1,w1,a1 = price_sav(μ,σ,ρ_1,N);\n",
    "println(\"Equilibrium interest rate is $r1.\")\n",
    "println(\"Equilibrium wage is $w1.\")\n",
    "println(\"Savings rate is $a1.\")"
   ]
  },
  {
   "cell_type": "markdown",
   "metadata": {},
   "source": [
    "Let's vary $\\mu$ and see how prices and aggregate savings rate change. Now, $\\mu=1$."
   ]
  },
  {
   "cell_type": "code",
   "execution_count": 18,
   "metadata": {},
   "outputs": [
    {
     "name": "stdout",
     "output_type": "stream",
     "text": [
      "Equilibrium interest rate is 0.03947368107343971.\n",
      "Equilibrium wage is 1.2742484976659323.\n",
      "Savings rate is 0.18441177117164603.\n"
     ]
    }
   ],
   "source": [
    "μ_2 = 1; # relative risk aversion coefficient\n",
    "μ = μ_2;\n",
    "r2,w2,a2 = price_sav(μ_2,σ,ρ_1,N);\n",
    "println(\"Equilibrium interest rate is $r2.\")\n",
    "println(\"Equilibrium wage is $w2.\")\n",
    "println(\"Savings rate is $a2.\")"
   ]
  },
  {
   "cell_type": "markdown",
   "metadata": {},
   "source": [
    "Recall that $\\mu$ is the risk aversion coefficient, so by decreasing this parameter, we are essentially assuming that the agent is less risk-averse and therefore less concerned about future shocks. This reduced concern leads to lower savings and, consequently, the savings rate is lower. Since agents save less, the equilibrium interest rate increases to atract more savings and clear the market for bonds."
   ]
  },
  {
   "cell_type": "markdown",
   "metadata": {},
   "source": [
    "Now I vary the markov chain properties by setting $\\rho = 0.1$. Recall that initially, shocks were iid, so it as if $\\rho$ was equal to $0$."
   ]
  },
  {
   "cell_type": "code",
   "execution_count": 20,
   "metadata": {},
   "outputs": [
    {
     "name": "stdout",
     "output_type": "stream",
     "text": [
      "Equilibrium interest rate is 0.029496842309048272.\n",
      "Equilibrium wage is 1.3506526306709565.\n",
      "Savings rate is 0.20755541378430303.\n"
     ]
    }
   ],
   "source": [
    "σ = 0.05;\n",
    "ρ_1 = 0.1;\n",
    "μ = 1;\n",
    "r4,w4,a4 = price_sav(μ,σ,ρ_1,N);\n",
    "println(\"Equilibrium interest rate is $r4.\")\n",
    "println(\"Equilibrium wage is $w4.\")\n",
    "println(\"Savings rate is $a4.\")"
   ]
  },
  {
   "cell_type": "markdown",
   "metadata": {},
   "source": [
    "As the persistence of shocks increase, agents save more because they know that bad shocks will not vanish quickly. Therefore, savings rate increases and, consequently, interest rate decreases."
   ]
  }
 ],
 "metadata": {
  "kernelspec": {
   "display_name": "Julia 1.9.3",
   "language": "julia",
   "name": "julia-1.9"
  },
  "language_info": {
   "file_extension": ".jl",
   "mimetype": "application/julia",
   "name": "julia",
   "version": "1.9.3"
  }
 },
 "nbformat": 4,
 "nbformat_minor": 2
}
